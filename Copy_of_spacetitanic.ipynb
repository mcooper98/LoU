{
  "cells": [
    {
      "cell_type": "markdown",
      "metadata": {
        "id": "view-in-github",
        "colab_type": "text"
      },
      "source": [
        "<a href=\"https://colab.research.google.com/github/mcooper98/LoU/blob/master/Copy_of_spacetitanic.ipynb\" target=\"_parent\"><img src=\"https://colab.research.google.com/assets/colab-badge.svg\" alt=\"Open In Colab\"/></a>"
      ]
    },
    {
      "cell_type": "markdown",
      "id": "80cf89f1",
      "metadata": {
        "papermill": {
          "duration": 0.009914,
          "end_time": "2023-02-23T17:16:26.218442",
          "exception": false,
          "start_time": "2023-02-23T17:16:26.208528",
          "status": "completed"
        },
        "tags": [],
        "id": "80cf89f1"
      },
      "source": [
        "# Spaceship Titanic: Predict which passengers are transported to an alternate dimension\n",
        "\n",
        "![SpaceshipTitanic.png](https://as2.ftcdn.net/v2/jpg/02/56/55/55/1000_F_256555513_QsIlNM1niJvoOsycvYmLo5jz5ronf8Kw.jpg)!\n",
        "\n",
        "## Abstract\n",
        "In this Kaggle competition, our task is to predict whether a passenger was transported to an alternate dimension during the Spaceship Titanic's collision with the spacetime anomaly. \n",
        "To help us make these predictions, we're given a set of personal records recovered from the ship's damaged computer system, in train.csv dataset and test.csv dataset. \n",
        "\n",
        "\n",
        "## Dataset\n",
        "The data is collected from [Kaggle](https://www.kaggle.com/competitions/spaceship-titanic/): *Spaceship Titanic*\n",
        "\n",
        "The two datasets used in this project are:\n",
        "- train.csv:  Personal records for about two-thirds (8693) of the passengers, to be used as training data. It consists of 14 columns: PassengerID, HomePlanet,CryoSleep, Cabin, Destination, Age, VIP, RoomService, FoodCourt, ShoppingMall, Spa, VRDeck, Name, and Transported\n",
        "- test.csv: Personal records for the remaining one-third (4277) of the passengers, to be used as test data. Our task is to predict the value of Transported for the passengers in this set. It consists of 13 columns (excluding Transported column)\n",
        "\n",
        "After processing the data, we are left with 8693 records & 16 attributes for Train DataFrame, and 4277 records & 15 attributes for Test DataFrame.\n",
        "\n",
        "\n",
        "### Reading and loading the dataset into Dataframe objects\n",
        "The first step is to read the .csv file using Pandas, then load it as train_df and test_df Dataframes"
      ]
    },
    {
      "cell_type": "code",
      "source": [
        "import pandas as pd\n",
        "from google.colab import drive\n",
        "drive.mount('/content/drive')\n",
        "from google.colab import files\n",
        "uploaded = files.upload()\n",
        "!pip install PyDrive\n",
        "from pydrive.auth import GoogleAuth\n",
        "from pydrive.drive import GoogleDrive\n",
        "from google.colab import auth\n",
        "from oauth2client.client import GoogleCredentials\n",
        "auth.authenticate_user()\n",
        "gauth = GoogleAuth()\n",
        "gauth.credentials = GoogleCredentials.get_application_default()\n",
        "drive = GoogleDrive(gauth)\n",
        "from google.colab import drive\n",
        "import pandas as pd\n",
        "import seaborn as sns\n",
        "import numpy as np\n",
        "import matplotlib.pyplot as plt\n",
        "import csv\n",
        "import warnings\n",
        "from sklearn.preprocessing import StandardScaler\n",
        "from sklearn.linear_model import LinearRegression\n",
        "warnings.filterwarnings(\"ignore\")\n",
        "from sklearn.metrics import mean_squared_error, r2_score"
      ],
      "metadata": {
        "id": "WNdfqKQBb8c2",
        "outputId": "69759e54-1f7e-4008-b1ee-32b3aa542e1e",
        "colab": {
          "base_uri": "https://localhost:8080/",
          "height": 569
        }
      },
      "id": "WNdfqKQBb8c2",
      "execution_count": null,
      "outputs": [
        {
          "output_type": "stream",
          "name": "stdout",
          "text": [
            "Drive already mounted at /content/drive; to attempt to forcibly remount, call drive.mount(\"/content/drive\", force_remount=True).\n"
          ]
        },
        {
          "output_type": "display_data",
          "data": {
            "text/plain": [
              "<IPython.core.display.HTML object>"
            ],
            "text/html": [
              "\n",
              "     <input type=\"file\" id=\"files-cafd2e40-ec66-4b8a-a155-108660a610cc\" name=\"files[]\" multiple disabled\n",
              "        style=\"border:none\" />\n",
              "     <output id=\"result-cafd2e40-ec66-4b8a-a155-108660a610cc\">\n",
              "      Upload widget is only available when the cell has been executed in the\n",
              "      current browser session. Please rerun this cell to enable.\n",
              "      </output>\n",
              "      <script>// Copyright 2017 Google LLC\n",
              "//\n",
              "// Licensed under the Apache License, Version 2.0 (the \"License\");\n",
              "// you may not use this file except in compliance with the License.\n",
              "// You may obtain a copy of the License at\n",
              "//\n",
              "//      http://www.apache.org/licenses/LICENSE-2.0\n",
              "//\n",
              "// Unless required by applicable law or agreed to in writing, software\n",
              "// distributed under the License is distributed on an \"AS IS\" BASIS,\n",
              "// WITHOUT WARRANTIES OR CONDITIONS OF ANY KIND, either express or implied.\n",
              "// See the License for the specific language governing permissions and\n",
              "// limitations under the License.\n",
              "\n",
              "/**\n",
              " * @fileoverview Helpers for google.colab Python module.\n",
              " */\n",
              "(function(scope) {\n",
              "function span(text, styleAttributes = {}) {\n",
              "  const element = document.createElement('span');\n",
              "  element.textContent = text;\n",
              "  for (const key of Object.keys(styleAttributes)) {\n",
              "    element.style[key] = styleAttributes[key];\n",
              "  }\n",
              "  return element;\n",
              "}\n",
              "\n",
              "// Max number of bytes which will be uploaded at a time.\n",
              "const MAX_PAYLOAD_SIZE = 100 * 1024;\n",
              "\n",
              "function _uploadFiles(inputId, outputId) {\n",
              "  const steps = uploadFilesStep(inputId, outputId);\n",
              "  const outputElement = document.getElementById(outputId);\n",
              "  // Cache steps on the outputElement to make it available for the next call\n",
              "  // to uploadFilesContinue from Python.\n",
              "  outputElement.steps = steps;\n",
              "\n",
              "  return _uploadFilesContinue(outputId);\n",
              "}\n",
              "\n",
              "// This is roughly an async generator (not supported in the browser yet),\n",
              "// where there are multiple asynchronous steps and the Python side is going\n",
              "// to poll for completion of each step.\n",
              "// This uses a Promise to block the python side on completion of each step,\n",
              "// then passes the result of the previous step as the input to the next step.\n",
              "function _uploadFilesContinue(outputId) {\n",
              "  const outputElement = document.getElementById(outputId);\n",
              "  const steps = outputElement.steps;\n",
              "\n",
              "  const next = steps.next(outputElement.lastPromiseValue);\n",
              "  return Promise.resolve(next.value.promise).then((value) => {\n",
              "    // Cache the last promise value to make it available to the next\n",
              "    // step of the generator.\n",
              "    outputElement.lastPromiseValue = value;\n",
              "    return next.value.response;\n",
              "  });\n",
              "}\n",
              "\n",
              "/**\n",
              " * Generator function which is called between each async step of the upload\n",
              " * process.\n",
              " * @param {string} inputId Element ID of the input file picker element.\n",
              " * @param {string} outputId Element ID of the output display.\n",
              " * @return {!Iterable<!Object>} Iterable of next steps.\n",
              " */\n",
              "function* uploadFilesStep(inputId, outputId) {\n",
              "  const inputElement = document.getElementById(inputId);\n",
              "  inputElement.disabled = false;\n",
              "\n",
              "  const outputElement = document.getElementById(outputId);\n",
              "  outputElement.innerHTML = '';\n",
              "\n",
              "  const pickedPromise = new Promise((resolve) => {\n",
              "    inputElement.addEventListener('change', (e) => {\n",
              "      resolve(e.target.files);\n",
              "    });\n",
              "  });\n",
              "\n",
              "  const cancel = document.createElement('button');\n",
              "  inputElement.parentElement.appendChild(cancel);\n",
              "  cancel.textContent = 'Cancel upload';\n",
              "  const cancelPromise = new Promise((resolve) => {\n",
              "    cancel.onclick = () => {\n",
              "      resolve(null);\n",
              "    };\n",
              "  });\n",
              "\n",
              "  // Wait for the user to pick the files.\n",
              "  const files = yield {\n",
              "    promise: Promise.race([pickedPromise, cancelPromise]),\n",
              "    response: {\n",
              "      action: 'starting',\n",
              "    }\n",
              "  };\n",
              "\n",
              "  cancel.remove();\n",
              "\n",
              "  // Disable the input element since further picks are not allowed.\n",
              "  inputElement.disabled = true;\n",
              "\n",
              "  if (!files) {\n",
              "    return {\n",
              "      response: {\n",
              "        action: 'complete',\n",
              "      }\n",
              "    };\n",
              "  }\n",
              "\n",
              "  for (const file of files) {\n",
              "    const li = document.createElement('li');\n",
              "    li.append(span(file.name, {fontWeight: 'bold'}));\n",
              "    li.append(span(\n",
              "        `(${file.type || 'n/a'}) - ${file.size} bytes, ` +\n",
              "        `last modified: ${\n",
              "            file.lastModifiedDate ? file.lastModifiedDate.toLocaleDateString() :\n",
              "                                    'n/a'} - `));\n",
              "    const percent = span('0% done');\n",
              "    li.appendChild(percent);\n",
              "\n",
              "    outputElement.appendChild(li);\n",
              "\n",
              "    const fileDataPromise = new Promise((resolve) => {\n",
              "      const reader = new FileReader();\n",
              "      reader.onload = (e) => {\n",
              "        resolve(e.target.result);\n",
              "      };\n",
              "      reader.readAsArrayBuffer(file);\n",
              "    });\n",
              "    // Wait for the data to be ready.\n",
              "    let fileData = yield {\n",
              "      promise: fileDataPromise,\n",
              "      response: {\n",
              "        action: 'continue',\n",
              "      }\n",
              "    };\n",
              "\n",
              "    // Use a chunked sending to avoid message size limits. See b/62115660.\n",
              "    let position = 0;\n",
              "    do {\n",
              "      const length = Math.min(fileData.byteLength - position, MAX_PAYLOAD_SIZE);\n",
              "      const chunk = new Uint8Array(fileData, position, length);\n",
              "      position += length;\n",
              "\n",
              "      const base64 = btoa(String.fromCharCode.apply(null, chunk));\n",
              "      yield {\n",
              "        response: {\n",
              "          action: 'append',\n",
              "          file: file.name,\n",
              "          data: base64,\n",
              "        },\n",
              "      };\n",
              "\n",
              "      let percentDone = fileData.byteLength === 0 ?\n",
              "          100 :\n",
              "          Math.round((position / fileData.byteLength) * 100);\n",
              "      percent.textContent = `${percentDone}% done`;\n",
              "\n",
              "    } while (position < fileData.byteLength);\n",
              "  }\n",
              "\n",
              "  // All done.\n",
              "  yield {\n",
              "    response: {\n",
              "      action: 'complete',\n",
              "    }\n",
              "  };\n",
              "}\n",
              "\n",
              "scope.google = scope.google || {};\n",
              "scope.google.colab = scope.google.colab || {};\n",
              "scope.google.colab._files = {\n",
              "  _uploadFiles,\n",
              "  _uploadFilesContinue,\n",
              "};\n",
              "})(self);\n",
              "</script> "
            ]
          },
          "metadata": {}
        },
        {
          "output_type": "stream",
          "name": "stdout",
          "text": [
            "Saving test(1).csv to test(1) (4).csv\n",
            "Saving train(1).csv to train(1) (4).csv\n",
            "Looking in indexes: https://pypi.org/simple, https://us-python.pkg.dev/colab-wheels/public/simple/\n",
            "Requirement already satisfied: PyDrive in /usr/local/lib/python3.9/dist-packages (1.3.1)\n",
            "Requirement already satisfied: PyYAML>=3.0 in /usr/local/lib/python3.9/dist-packages (from PyDrive) (6.0)\n",
            "Requirement already satisfied: google-api-python-client>=1.2 in /usr/local/lib/python3.9/dist-packages (from PyDrive) (2.70.0)\n",
            "Requirement already satisfied: oauth2client>=4.0.0 in /usr/local/lib/python3.9/dist-packages (from PyDrive) (4.1.3)\n",
            "Requirement already satisfied: uritemplate<5,>=3.0.1 in /usr/local/lib/python3.9/dist-packages (from google-api-python-client>=1.2->PyDrive) (4.1.1)\n",
            "Requirement already satisfied: google-auth-httplib2>=0.1.0 in /usr/local/lib/python3.9/dist-packages (from google-api-python-client>=1.2->PyDrive) (0.1.0)\n",
            "Requirement already satisfied: google-auth<3.0.0dev,>=1.19.0 in /usr/local/lib/python3.9/dist-packages (from google-api-python-client>=1.2->PyDrive) (2.17.1)\n",
            "Requirement already satisfied: httplib2<1dev,>=0.15.0 in /usr/local/lib/python3.9/dist-packages (from google-api-python-client>=1.2->PyDrive) (0.21.0)\n",
            "Requirement already satisfied: google-api-core!=2.0.*,!=2.1.*,!=2.2.*,!=2.3.0,<3.0.0dev,>=1.31.5 in /usr/local/lib/python3.9/dist-packages (from google-api-python-client>=1.2->PyDrive) (2.11.0)\n",
            "Requirement already satisfied: rsa>=3.1.4 in /usr/local/lib/python3.9/dist-packages (from oauth2client>=4.0.0->PyDrive) (4.9)\n",
            "Requirement already satisfied: pyasn1-modules>=0.0.5 in /usr/local/lib/python3.9/dist-packages (from oauth2client>=4.0.0->PyDrive) (0.2.8)\n",
            "Requirement already satisfied: six>=1.6.1 in /usr/local/lib/python3.9/dist-packages (from oauth2client>=4.0.0->PyDrive) (1.16.0)\n",
            "Requirement already satisfied: pyasn1>=0.1.7 in /usr/local/lib/python3.9/dist-packages (from oauth2client>=4.0.0->PyDrive) (0.4.8)\n",
            "Requirement already satisfied: googleapis-common-protos<2.0dev,>=1.56.2 in /usr/local/lib/python3.9/dist-packages (from google-api-core!=2.0.*,!=2.1.*,!=2.2.*,!=2.3.0,<3.0.0dev,>=1.31.5->google-api-python-client>=1.2->PyDrive) (1.59.0)\n",
            "Requirement already satisfied: requests<3.0.0dev,>=2.18.0 in /usr/local/lib/python3.9/dist-packages (from google-api-core!=2.0.*,!=2.1.*,!=2.2.*,!=2.3.0,<3.0.0dev,>=1.31.5->google-api-python-client>=1.2->PyDrive) (2.27.1)\n",
            "Requirement already satisfied: protobuf!=3.20.0,!=3.20.1,!=4.21.0,!=4.21.1,!=4.21.2,!=4.21.3,!=4.21.4,!=4.21.5,<5.0.0dev,>=3.19.5 in /usr/local/lib/python3.9/dist-packages (from google-api-core!=2.0.*,!=2.1.*,!=2.2.*,!=2.3.0,<3.0.0dev,>=1.31.5->google-api-python-client>=1.2->PyDrive) (3.20.3)\n",
            "Requirement already satisfied: cachetools<6.0,>=2.0.0 in /usr/local/lib/python3.9/dist-packages (from google-auth<3.0.0dev,>=1.19.0->google-api-python-client>=1.2->PyDrive) (5.3.0)\n",
            "Requirement already satisfied: pyparsing!=3.0.0,!=3.0.1,!=3.0.2,!=3.0.3,<4,>=2.4.2 in /usr/local/lib/python3.9/dist-packages (from httplib2<1dev,>=0.15.0->google-api-python-client>=1.2->PyDrive) (3.0.9)\n",
            "Requirement already satisfied: idna<4,>=2.5 in /usr/local/lib/python3.9/dist-packages (from requests<3.0.0dev,>=2.18.0->google-api-core!=2.0.*,!=2.1.*,!=2.2.*,!=2.3.0,<3.0.0dev,>=1.31.5->google-api-python-client>=1.2->PyDrive) (3.4)\n",
            "Requirement already satisfied: urllib3<1.27,>=1.21.1 in /usr/local/lib/python3.9/dist-packages (from requests<3.0.0dev,>=2.18.0->google-api-core!=2.0.*,!=2.1.*,!=2.2.*,!=2.3.0,<3.0.0dev,>=1.31.5->google-api-python-client>=1.2->PyDrive) (1.26.15)\n",
            "Requirement already satisfied: certifi>=2017.4.17 in /usr/local/lib/python3.9/dist-packages (from requests<3.0.0dev,>=2.18.0->google-api-core!=2.0.*,!=2.1.*,!=2.2.*,!=2.3.0,<3.0.0dev,>=1.31.5->google-api-python-client>=1.2->PyDrive) (2022.12.7)\n",
            "Requirement already satisfied: charset-normalizer~=2.0.0 in /usr/local/lib/python3.9/dist-packages (from requests<3.0.0dev,>=2.18.0->google-api-core!=2.0.*,!=2.1.*,!=2.2.*,!=2.3.0,<3.0.0dev,>=1.31.5->google-api-python-client>=1.2->PyDrive) (2.0.12)\n"
          ]
        }
      ]
    },
    {
      "cell_type": "code",
      "execution_count": null,
      "id": "a0345b46",
      "metadata": {
        "_cell_guid": "b1076dfc-b9ad-4769-8c92-a6c4dae69d19",
        "_uuid": "8f2839f25d086af736a60e9eeb907d3b93b6e0e5",
        "execution": {
          "iopub.execute_input": "2023-02-23T17:16:26.238117Z",
          "iopub.status.busy": "2023-02-23T17:16:26.237218Z",
          "iopub.status.idle": "2023-02-23T17:16:26.328481Z",
          "shell.execute_reply": "2023-02-23T17:16:26.327155Z"
        },
        "papermill": {
          "duration": 0.104207,
          "end_time": "2023-02-23T17:16:26.331227",
          "exception": false,
          "start_time": "2023-02-23T17:16:26.227020",
          "status": "completed"
        },
        "tags": [],
        "id": "a0345b46",
        "colab": {
          "base_uri": "https://localhost:8080/"
        },
        "outputId": "837da5a2-4eed-408d-aa42-339c80484ae8"
      },
      "outputs": [
        {
          "output_type": "stream",
          "name": "stdout",
          "text": [
            "Train set shape: (8693, 14)\n",
            "Test set shape: (4277, 13)\n"
          ]
        }
      ],
      "source": [
        "# Load the datasets to train_df and test_df\n",
        "train_df = pd.read_csv(\"train(1).csv\")\n",
        "test_df = pd.read_csv(\"test(1).csv\")\n",
        "\n",
        "# Set the option to always show all columns\n",
        "pd.set_option('display.max_columns', None)\n",
        "\n",
        "# Print the total row and column of each dataset\n",
        "print('Train set shape:', train_df.shape)\n",
        "print('Test set shape:', test_df.shape)"
      ]
    },
    {
      "cell_type": "code",
      "execution_count": null,
      "id": "f16931d1",
      "metadata": {
        "execution": {
          "iopub.execute_input": "2023-02-23T17:16:26.423930Z",
          "iopub.status.busy": "2023-02-23T17:16:26.423167Z",
          "iopub.status.idle": "2023-02-23T17:16:26.449466Z",
          "shell.execute_reply": "2023-02-23T17:16:26.447740Z"
        },
        "papermill": {
          "duration": 0.041362,
          "end_time": "2023-02-23T17:16:26.453063",
          "exception": false,
          "start_time": "2023-02-23T17:16:26.411701",
          "status": "completed"
        },
        "tags": [],
        "id": "f16931d1",
        "colab": {
          "base_uri": "https://localhost:8080/",
          "height": 206
        },
        "outputId": "82775135-7cc4-4216-b79c-84767f050b6a"
      },
      "outputs": [
        {
          "output_type": "execute_result",
          "data": {
            "text/plain": [
              "  HomePlanet CryoSleep  Destination   Age  VIP  RoomService  FoodCourt  \\\n",
              "0      Earth      True  TRAPPIST-1e  27.0    0          0.0        0.0   \n",
              "1      Earth     False  TRAPPIST-1e  19.0    0          0.0        9.0   \n",
              "2     Europa      True  55 Cancri e  31.0    0          0.0        0.0   \n",
              "3     Europa     False  TRAPPIST-1e  38.0    0          0.0     6652.0   \n",
              "4      Earth     False  TRAPPIST-1e  20.0    0         10.0        0.0   \n",
              "\n",
              "   ShoppingMall     Spa  VRDeck  GroupId  GroupPassId Deck  Num Side  \n",
              "0           0.0     0.0     0.0       13            1    G    3    S  \n",
              "1           0.0  2823.0     0.0       18            1    F    4    S  \n",
              "2           0.0     0.0     0.0       19            1    C    0    S  \n",
              "3           0.0   181.0   585.0       21            1    C    1    S  \n",
              "4         635.0     0.0     0.0       23            1    F    5    S  "
            ],
            "text/html": [
              "\n",
              "  <div id=\"df-a736f74d-c4e7-407c-b738-6b9e942d9523\">\n",
              "    <div class=\"colab-df-container\">\n",
              "      <div>\n",
              "<style scoped>\n",
              "    .dataframe tbody tr th:only-of-type {\n",
              "        vertical-align: middle;\n",
              "    }\n",
              "\n",
              "    .dataframe tbody tr th {\n",
              "        vertical-align: top;\n",
              "    }\n",
              "\n",
              "    .dataframe thead th {\n",
              "        text-align: right;\n",
              "    }\n",
              "</style>\n",
              "<table border=\"1\" class=\"dataframe\">\n",
              "  <thead>\n",
              "    <tr style=\"text-align: right;\">\n",
              "      <th></th>\n",
              "      <th>HomePlanet</th>\n",
              "      <th>CryoSleep</th>\n",
              "      <th>Destination</th>\n",
              "      <th>Age</th>\n",
              "      <th>VIP</th>\n",
              "      <th>RoomService</th>\n",
              "      <th>FoodCourt</th>\n",
              "      <th>ShoppingMall</th>\n",
              "      <th>Spa</th>\n",
              "      <th>VRDeck</th>\n",
              "      <th>GroupId</th>\n",
              "      <th>GroupPassId</th>\n",
              "      <th>Deck</th>\n",
              "      <th>Num</th>\n",
              "      <th>Side</th>\n",
              "    </tr>\n",
              "  </thead>\n",
              "  <tbody>\n",
              "    <tr>\n",
              "      <th>0</th>\n",
              "      <td>Earth</td>\n",
              "      <td>True</td>\n",
              "      <td>TRAPPIST-1e</td>\n",
              "      <td>27.0</td>\n",
              "      <td>0</td>\n",
              "      <td>0.0</td>\n",
              "      <td>0.0</td>\n",
              "      <td>0.0</td>\n",
              "      <td>0.0</td>\n",
              "      <td>0.0</td>\n",
              "      <td>13</td>\n",
              "      <td>1</td>\n",
              "      <td>G</td>\n",
              "      <td>3</td>\n",
              "      <td>S</td>\n",
              "    </tr>\n",
              "    <tr>\n",
              "      <th>1</th>\n",
              "      <td>Earth</td>\n",
              "      <td>False</td>\n",
              "      <td>TRAPPIST-1e</td>\n",
              "      <td>19.0</td>\n",
              "      <td>0</td>\n",
              "      <td>0.0</td>\n",
              "      <td>9.0</td>\n",
              "      <td>0.0</td>\n",
              "      <td>2823.0</td>\n",
              "      <td>0.0</td>\n",
              "      <td>18</td>\n",
              "      <td>1</td>\n",
              "      <td>F</td>\n",
              "      <td>4</td>\n",
              "      <td>S</td>\n",
              "    </tr>\n",
              "    <tr>\n",
              "      <th>2</th>\n",
              "      <td>Europa</td>\n",
              "      <td>True</td>\n",
              "      <td>55 Cancri e</td>\n",
              "      <td>31.0</td>\n",
              "      <td>0</td>\n",
              "      <td>0.0</td>\n",
              "      <td>0.0</td>\n",
              "      <td>0.0</td>\n",
              "      <td>0.0</td>\n",
              "      <td>0.0</td>\n",
              "      <td>19</td>\n",
              "      <td>1</td>\n",
              "      <td>C</td>\n",
              "      <td>0</td>\n",
              "      <td>S</td>\n",
              "    </tr>\n",
              "    <tr>\n",
              "      <th>3</th>\n",
              "      <td>Europa</td>\n",
              "      <td>False</td>\n",
              "      <td>TRAPPIST-1e</td>\n",
              "      <td>38.0</td>\n",
              "      <td>0</td>\n",
              "      <td>0.0</td>\n",
              "      <td>6652.0</td>\n",
              "      <td>0.0</td>\n",
              "      <td>181.0</td>\n",
              "      <td>585.0</td>\n",
              "      <td>21</td>\n",
              "      <td>1</td>\n",
              "      <td>C</td>\n",
              "      <td>1</td>\n",
              "      <td>S</td>\n",
              "    </tr>\n",
              "    <tr>\n",
              "      <th>4</th>\n",
              "      <td>Earth</td>\n",
              "      <td>False</td>\n",
              "      <td>TRAPPIST-1e</td>\n",
              "      <td>20.0</td>\n",
              "      <td>0</td>\n",
              "      <td>10.0</td>\n",
              "      <td>0.0</td>\n",
              "      <td>635.0</td>\n",
              "      <td>0.0</td>\n",
              "      <td>0.0</td>\n",
              "      <td>23</td>\n",
              "      <td>1</td>\n",
              "      <td>F</td>\n",
              "      <td>5</td>\n",
              "      <td>S</td>\n",
              "    </tr>\n",
              "  </tbody>\n",
              "</table>\n",
              "</div>\n",
              "      <button class=\"colab-df-convert\" onclick=\"convertToInteractive('df-a736f74d-c4e7-407c-b738-6b9e942d9523')\"\n",
              "              title=\"Convert this dataframe to an interactive table.\"\n",
              "              style=\"display:none;\">\n",
              "        \n",
              "  <svg xmlns=\"http://www.w3.org/2000/svg\" height=\"24px\"viewBox=\"0 0 24 24\"\n",
              "       width=\"24px\">\n",
              "    <path d=\"M0 0h24v24H0V0z\" fill=\"none\"/>\n",
              "    <path d=\"M18.56 5.44l.94 2.06.94-2.06 2.06-.94-2.06-.94-.94-2.06-.94 2.06-2.06.94zm-11 1L8.5 8.5l.94-2.06 2.06-.94-2.06-.94L8.5 2.5l-.94 2.06-2.06.94zm10 10l.94 2.06.94-2.06 2.06-.94-2.06-.94-.94-2.06-.94 2.06-2.06.94z\"/><path d=\"M17.41 7.96l-1.37-1.37c-.4-.4-.92-.59-1.43-.59-.52 0-1.04.2-1.43.59L10.3 9.45l-7.72 7.72c-.78.78-.78 2.05 0 2.83L4 21.41c.39.39.9.59 1.41.59.51 0 1.02-.2 1.41-.59l7.78-7.78 2.81-2.81c.8-.78.8-2.07 0-2.86zM5.41 20L4 18.59l7.72-7.72 1.47 1.35L5.41 20z\"/>\n",
              "  </svg>\n",
              "      </button>\n",
              "      \n",
              "  <style>\n",
              "    .colab-df-container {\n",
              "      display:flex;\n",
              "      flex-wrap:wrap;\n",
              "      gap: 12px;\n",
              "    }\n",
              "\n",
              "    .colab-df-convert {\n",
              "      background-color: #E8F0FE;\n",
              "      border: none;\n",
              "      border-radius: 50%;\n",
              "      cursor: pointer;\n",
              "      display: none;\n",
              "      fill: #1967D2;\n",
              "      height: 32px;\n",
              "      padding: 0 0 0 0;\n",
              "      width: 32px;\n",
              "    }\n",
              "\n",
              "    .colab-df-convert:hover {\n",
              "      background-color: #E2EBFA;\n",
              "      box-shadow: 0px 1px 2px rgba(60, 64, 67, 0.3), 0px 1px 3px 1px rgba(60, 64, 67, 0.15);\n",
              "      fill: #174EA6;\n",
              "    }\n",
              "\n",
              "    [theme=dark] .colab-df-convert {\n",
              "      background-color: #3B4455;\n",
              "      fill: #D2E3FC;\n",
              "    }\n",
              "\n",
              "    [theme=dark] .colab-df-convert:hover {\n",
              "      background-color: #434B5C;\n",
              "      box-shadow: 0px 1px 3px 1px rgba(0, 0, 0, 0.15);\n",
              "      filter: drop-shadow(0px 1px 2px rgba(0, 0, 0, 0.3));\n",
              "      fill: #FFFFFF;\n",
              "    }\n",
              "  </style>\n",
              "\n",
              "      <script>\n",
              "        const buttonEl =\n",
              "          document.querySelector('#df-a736f74d-c4e7-407c-b738-6b9e942d9523 button.colab-df-convert');\n",
              "        buttonEl.style.display =\n",
              "          google.colab.kernel.accessAllowed ? 'block' : 'none';\n",
              "\n",
              "        async function convertToInteractive(key) {\n",
              "          const element = document.querySelector('#df-a736f74d-c4e7-407c-b738-6b9e942d9523');\n",
              "          const dataTable =\n",
              "            await google.colab.kernel.invokeFunction('convertToInteractive',\n",
              "                                                     [key], {});\n",
              "          if (!dataTable) return;\n",
              "\n",
              "          const docLinkHtml = 'Like what you see? Visit the ' +\n",
              "            '<a target=\"_blank\" href=https://colab.research.google.com/notebooks/data_table.ipynb>data table notebook</a>'\n",
              "            + ' to learn more about interactive tables.';\n",
              "          element.innerHTML = '';\n",
              "          dataTable['output_type'] = 'display_data';\n",
              "          await google.colab.output.renderOutput(dataTable, element);\n",
              "          const docLink = document.createElement('div');\n",
              "          docLink.innerHTML = docLinkHtml;\n",
              "          element.appendChild(docLink);\n",
              "        }\n",
              "      </script>\n",
              "    </div>\n",
              "  </div>\n",
              "  "
            ]
          },
          "metadata": {},
          "execution_count": 178
        }
      ],
      "source": [
        "# Preview the first five rows of test DataFrame\n",
        "test_df.head()"
      ]
    },
    {
      "cell_type": "markdown",
      "id": "d0d050b6",
      "metadata": {
        "papermill": {
          "duration": 0.009014,
          "end_time": "2023-02-23T17:16:26.471737",
          "exception": false,
          "start_time": "2023-02-23T17:16:26.462723",
          "status": "completed"
        },
        "tags": [],
        "id": "d0d050b6"
      },
      "source": [
        "#### *Column Descriptions*\n",
        "- **PassengerId** - A unique Id for each passenger. Each Id takes the form gggg_pp where gggg indicates a group the passenger is travelling with and pp is their number within the group. People in a group are often family members, but not always.\n",
        "- **HomePlanet** - The planet the passenger departed from, typically their planet of permanent residence.\n",
        "- **CryoSleep** - Indicates whether the passenger elected to be put into suspended animation for the duration of the voyage. Passengers in cryosleep are confined to their cabins.\n",
        "- **Cabin** - The cabin number where the passenger is staying. Takes the form deck/num/side, where side can be either P for Port or S for Starboard.\n",
        "- **Destination** - The planet the passenger will be debarking to.\n",
        "- **Age** - The age of the passenger.\n",
        "- **VIP** - Whether the passenger has paid for special VIP service during the voyage.\n",
        "- **RoomService, FoodCourt, ShoppingMall, Spa, VRDeck** - Amount the passenger has billed at each of the Spaceship Titanic's many luxury amenities.\n",
        "- **Name** - The first and last names of the passenger.\n",
        "- **Transported** - Whether the passenger was transported to another dimension. This is the target, the column you are trying to predict."
      ]
    },
    {
      "cell_type": "code",
      "execution_count": null,
      "id": "39dbfc44",
      "metadata": {
        "execution": {
          "iopub.execute_input": "2023-02-23T17:16:26.491751Z",
          "iopub.status.busy": "2023-02-23T17:16:26.491370Z",
          "iopub.status.idle": "2023-02-23T17:16:26.501591Z",
          "shell.execute_reply": "2023-02-23T17:16:26.500388Z"
        },
        "papermill": {
          "duration": 0.024228,
          "end_time": "2023-02-23T17:16:26.504854",
          "exception": false,
          "start_time": "2023-02-23T17:16:26.480626",
          "status": "completed"
        },
        "tags": [],
        "id": "39dbfc44",
        "outputId": "cb60537c-a468-4947-9c3c-9eacfe02a22b",
        "colab": {
          "base_uri": "https://localhost:8080/"
        }
      },
      "outputs": [
        {
          "output_type": "stream",
          "name": "stdout",
          "text": [
            "Survivor in Train_DF: 4378 / 8693 (50.362360519958585%)\n"
          ]
        }
      ],
      "source": [
        "print(\"Survivor in Train_DF: \" + str(train_df['Transported'].sum()) + \" / \" + str(train_df['Transported'].count()) + \" (\" + str(train_df['Transported'].sum()/8693*100) + \"%)\")"
      ]
    },
    {
      "cell_type": "markdown",
      "id": "47ede1a8",
      "metadata": {
        "papermill": {
          "duration": 0.009304,
          "end_time": "2023-02-23T17:16:26.524488",
          "exception": false,
          "start_time": "2023-02-23T17:16:26.515184",
          "status": "completed"
        },
        "tags": [],
        "id": "47ede1a8"
      },
      "source": [
        "### Cleaning the Dataframe\n",
        "Checking if there are any null values or duplicate entries, and the data types of each column."
      ]
    },
    {
      "cell_type": "markdown",
      "id": "d3b0bc1c",
      "metadata": {
        "papermill": {
          "duration": 0.009083,
          "end_time": "2023-02-23T17:16:26.544729",
          "exception": false,
          "start_time": "2023-02-23T17:16:26.535646",
          "status": "completed"
        },
        "tags": [],
        "id": "d3b0bc1c"
      },
      "source": [
        "#### Checking Null Values"
      ]
    },
    {
      "cell_type": "code",
      "execution_count": null,
      "id": "4bfca7cd",
      "metadata": {
        "execution": {
          "iopub.execute_input": "2023-02-23T17:16:26.565254Z",
          "iopub.status.busy": "2023-02-23T17:16:26.564341Z",
          "iopub.status.idle": "2023-02-23T17:16:26.581537Z",
          "shell.execute_reply": "2023-02-23T17:16:26.579456Z"
        },
        "papermill": {
          "duration": 0.031116,
          "end_time": "2023-02-23T17:16:26.585011",
          "exception": false,
          "start_time": "2023-02-23T17:16:26.553895",
          "status": "completed"
        },
        "tags": [],
        "id": "4bfca7cd",
        "colab": {
          "base_uri": "https://localhost:8080/"
        },
        "outputId": "b9718c3d-90f3-4984-ad14-ca8cef637da1"
      },
      "outputs": [
        {
          "output_type": "stream",
          "name": "stdout",
          "text": [
            "Train DataFrame Null Values:\n",
            "PassengerId       0\n",
            "HomePlanet      201\n",
            "CryoSleep       217\n",
            "Cabin           199\n",
            "Destination     182\n",
            "Age             179\n",
            "VIP             203\n",
            "RoomService     181\n",
            "FoodCourt       183\n",
            "ShoppingMall    208\n",
            "Spa             183\n",
            "VRDeck          188\n",
            "Name            200\n",
            "Transported       0\n",
            "dtype: int64\n",
            "\n",
            "Test DataFrame Null Values:\n",
            "PassengerId       0\n",
            "HomePlanet       87\n",
            "CryoSleep        93\n",
            "Cabin           100\n",
            "Destination      92\n",
            "Age              91\n",
            "VIP              93\n",
            "RoomService      82\n",
            "FoodCourt       106\n",
            "ShoppingMall     98\n",
            "Spa             101\n",
            "VRDeck           80\n",
            "Name             94\n",
            "dtype: int64\n"
          ]
        }
      ],
      "source": [
        "print('Train DataFrame Null Values:')\n",
        "print(train_df.isna().sum())\n",
        "print('\\nTest DataFrame Null Values:')\n",
        "print(test_df.isna().sum())"
      ]
    },
    {
      "cell_type": "markdown",
      "id": "4b669f4d",
      "metadata": {
        "papermill": {
          "duration": 0.009806,
          "end_time": "2023-02-23T17:16:26.604830",
          "exception": false,
          "start_time": "2023-02-23T17:16:26.595024",
          "status": "completed"
        },
        "tags": [],
        "id": "4b669f4d"
      },
      "source": [
        "After the data processing, we will create multiple dataframes each with different treatment to the null values."
      ]
    },
    {
      "cell_type": "markdown",
      "id": "8f8a7248",
      "metadata": {
        "execution": {
          "iopub.execute_input": "2023-02-07T01:18:23.461599Z",
          "iopub.status.busy": "2023-02-07T01:18:23.461160Z",
          "iopub.status.idle": "2023-02-07T01:18:23.473650Z",
          "shell.execute_reply": "2023-02-07T01:18:23.472494Z",
          "shell.execute_reply.started": "2023-02-07T01:18:23.461569Z"
        },
        "papermill": {
          "duration": 0.009082,
          "end_time": "2023-02-23T17:16:26.623499",
          "exception": false,
          "start_time": "2023-02-23T17:16:26.614417",
          "status": "completed"
        },
        "tags": [],
        "id": "8f8a7248"
      },
      "source": [
        "#### Checking for duplicate entries"
      ]
    },
    {
      "cell_type": "code",
      "execution_count": null,
      "id": "5b773799",
      "metadata": {
        "execution": {
          "iopub.execute_input": "2023-02-23T17:16:26.644068Z",
          "iopub.status.busy": "2023-02-23T17:16:26.643385Z",
          "iopub.status.idle": "2023-02-23T17:16:26.674275Z",
          "shell.execute_reply": "2023-02-23T17:16:26.672866Z"
        },
        "papermill": {
          "duration": 0.044385,
          "end_time": "2023-02-23T17:16:26.677054",
          "exception": false,
          "start_time": "2023-02-23T17:16:26.632669",
          "status": "completed"
        },
        "tags": [],
        "id": "5b773799",
        "colab": {
          "base_uri": "https://localhost:8080/"
        },
        "outputId": "a5e18755-22c1-42eb-8efb-6e43c832e845"
      },
      "outputs": [
        {
          "output_type": "stream",
          "name": "stdout",
          "text": [
            "Duplicate(s) in Train DataFrame: False\n",
            "Duplicate(s) in Test DataFrame: False\n"
          ]
        }
      ],
      "source": [
        "print('Duplicate(s) in Train DataFrame:', str(train_df.duplicated().any()))\n",
        "print('Duplicate(s) in Test DataFrame:', str(test_df.duplicated().any()))"
      ]
    },
    {
      "cell_type": "markdown",
      "id": "d204fb7e",
      "metadata": {
        "papermill": {
          "duration": 0.009388,
          "end_time": "2023-02-23T17:16:26.695714",
          "exception": false,
          "start_time": "2023-02-23T17:16:26.686326",
          "status": "completed"
        },
        "tags": [],
        "id": "d204fb7e"
      },
      "source": [
        "Since there are no duplicate entries in each datasets, we can now proceed to check the data types for each columns.\n",
        "\n",
        "#### Checking the Data Types and its Unique Values"
      ]
    },
    {
      "cell_type": "code",
      "execution_count": null,
      "id": "50037c67",
      "metadata": {
        "execution": {
          "iopub.execute_input": "2023-02-23T17:16:26.717160Z",
          "iopub.status.busy": "2023-02-23T17:16:26.716546Z",
          "iopub.status.idle": "2023-02-23T17:16:26.740144Z",
          "shell.execute_reply": "2023-02-23T17:16:26.738591Z"
        },
        "papermill": {
          "duration": 0.037775,
          "end_time": "2023-02-23T17:16:26.742987",
          "exception": false,
          "start_time": "2023-02-23T17:16:26.705212",
          "status": "completed"
        },
        "tags": [],
        "id": "50037c67",
        "outputId": "dfbd4bdf-132e-433d-9720-2f934dc87576",
        "colab": {
          "base_uri": "https://localhost:8080/"
        }
      },
      "outputs": [
        {
          "output_type": "stream",
          "name": "stdout",
          "text": [
            "<class 'pandas.core.frame.DataFrame'>\n",
            "RangeIndex: 8693 entries, 0 to 8692\n",
            "Data columns (total 14 columns):\n",
            " #   Column        Non-Null Count  Dtype  \n",
            "---  ------        --------------  -----  \n",
            " 0   PassengerId   8693 non-null   object \n",
            " 1   HomePlanet    8492 non-null   object \n",
            " 2   CryoSleep     8476 non-null   object \n",
            " 3   Cabin         8494 non-null   object \n",
            " 4   Destination   8511 non-null   object \n",
            " 5   Age           8514 non-null   float64\n",
            " 6   VIP           8490 non-null   object \n",
            " 7   RoomService   8512 non-null   float64\n",
            " 8   FoodCourt     8510 non-null   float64\n",
            " 9   ShoppingMall  8485 non-null   float64\n",
            " 10  Spa           8510 non-null   float64\n",
            " 11  VRDeck        8505 non-null   float64\n",
            " 12  Name          8493 non-null   object \n",
            " 13  Transported   8693 non-null   bool   \n",
            "dtypes: bool(1), float64(6), object(7)\n",
            "memory usage: 891.5+ KB\n"
          ]
        }
      ],
      "source": [
        "# Checking the total non-null rows from each columns and its data type\n",
        "train_df.info()"
      ]
    },
    {
      "cell_type": "code",
      "execution_count": null,
      "id": "093de952",
      "metadata": {
        "execution": {
          "iopub.execute_input": "2023-02-23T17:16:26.763543Z",
          "iopub.status.busy": "2023-02-23T17:16:26.763174Z",
          "iopub.status.idle": "2023-02-23T17:16:26.787646Z",
          "shell.execute_reply": "2023-02-23T17:16:26.785866Z"
        },
        "papermill": {
          "duration": 0.038975,
          "end_time": "2023-02-23T17:16:26.791424",
          "exception": false,
          "start_time": "2023-02-23T17:16:26.752449",
          "status": "completed"
        },
        "tags": [],
        "id": "093de952",
        "outputId": "ebfca5ec-f82c-4dfc-8817-9d458481d117",
        "colab": {
          "base_uri": "https://localhost:8080/"
        }
      },
      "outputs": [
        {
          "output_type": "stream",
          "name": "stdout",
          "text": [
            "Total unique values in each columns:\n",
            "------------------------------------\n",
            "PassengerId: 8693\n",
            "HomePlanet: 4\n",
            "CryoSleep: 3\n",
            "Cabin: 6561\n",
            "Destination: 4\n",
            "Age: 81\n",
            "VIP: 3\n",
            "RoomService: 1274\n",
            "FoodCourt: 1508\n",
            "ShoppingMall: 1116\n",
            "Spa: 1328\n",
            "VRDeck: 1307\n",
            "Name: 8474\n",
            "Transported: 2\n"
          ]
        }
      ],
      "source": [
        "train_df_columns = train_df.columns\n",
        "\n",
        "print('Total unique values in each columns:\\n------------------------------------')\n",
        "\n",
        "for el in train_df_columns:\n",
        "    print(\"{0}: {1}\".format(el, len(train_df[el].unique())))"
      ]
    },
    {
      "cell_type": "markdown",
      "id": "a0383324",
      "metadata": {
        "papermill": {
          "duration": 0.009152,
          "end_time": "2023-02-23T17:16:26.810421",
          "exception": false,
          "start_time": "2023-02-23T17:16:26.801269",
          "status": "completed"
        },
        "tags": [],
        "id": "a0383324"
      },
      "source": [
        "### Data Processing\n",
        "#### Splitting the values in 'PassengerId' column to 'GroupId' & 'GroupPassId'\n",
        "> **PassengerId** - A unique Id for each passenger. Each Id takes the form gggg_pp where gggg indicates a group the passenger is travelling with and pp is their number within the group. People in a group are often family members, but not always.\n",
        "\n",
        "As mentioned in the description above, the 'PassengerId' column consist of the passenger's group and their number within the group. For that reason, we need to split the values into 2 columns, 'GroupId', and 'GroupPassId'.\n",
        "\n",
        "*Example:* 0001_01 -> 0001 for 'GroupId', & 01 for 'GroupPassId'"
      ]
    },
    {
      "cell_type": "code",
      "execution_count": null,
      "id": "778b9261",
      "metadata": {
        "execution": {
          "iopub.execute_input": "2023-02-23T17:16:26.831575Z",
          "iopub.status.busy": "2023-02-23T17:16:26.830473Z",
          "iopub.status.idle": "2023-02-23T17:16:26.883085Z",
          "shell.execute_reply": "2023-02-23T17:16:26.881782Z"
        },
        "papermill": {
          "duration": 0.065594,
          "end_time": "2023-02-23T17:16:26.885402",
          "exception": false,
          "start_time": "2023-02-23T17:16:26.819808",
          "status": "completed"
        },
        "tags": [],
        "id": "778b9261",
        "colab": {
          "base_uri": "https://localhost:8080/",
          "height": 143
        },
        "outputId": "971ead8c-c4b4-4583-f081-5f8efcbc48ba"
      },
      "outputs": [
        {
          "output_type": "execute_result",
          "data": {
            "text/plain": [
              "  HomePlanet CryoSleep  Cabin  Destination   Age    VIP  RoomService  \\\n",
              "0     Europa     False  B/0/P  TRAPPIST-1e  39.0  False          0.0   \n",
              "1      Earth     False  F/0/S  TRAPPIST-1e  24.0  False        109.0   \n",
              "2     Europa     False  A/0/S  TRAPPIST-1e  58.0   True         43.0   \n",
              "\n",
              "   FoodCourt  ShoppingMall     Spa  VRDeck             Name  Transported  \\\n",
              "0        0.0           0.0     0.0     0.0  Maham Ofracculy        False   \n",
              "1        9.0          25.0   549.0    44.0     Juanna Vines         True   \n",
              "2     3576.0           0.0  6715.0    49.0    Altark Susent        False   \n",
              "\n",
              "  GroupId GroupPassId  \n",
              "0    0001          01  \n",
              "1    0002          01  \n",
              "2    0003          01  "
            ],
            "text/html": [
              "\n",
              "  <div id=\"df-cc48edc3-7e64-478c-a28e-3e7652442871\">\n",
              "    <div class=\"colab-df-container\">\n",
              "      <div>\n",
              "<style scoped>\n",
              "    .dataframe tbody tr th:only-of-type {\n",
              "        vertical-align: middle;\n",
              "    }\n",
              "\n",
              "    .dataframe tbody tr th {\n",
              "        vertical-align: top;\n",
              "    }\n",
              "\n",
              "    .dataframe thead th {\n",
              "        text-align: right;\n",
              "    }\n",
              "</style>\n",
              "<table border=\"1\" class=\"dataframe\">\n",
              "  <thead>\n",
              "    <tr style=\"text-align: right;\">\n",
              "      <th></th>\n",
              "      <th>HomePlanet</th>\n",
              "      <th>CryoSleep</th>\n",
              "      <th>Cabin</th>\n",
              "      <th>Destination</th>\n",
              "      <th>Age</th>\n",
              "      <th>VIP</th>\n",
              "      <th>RoomService</th>\n",
              "      <th>FoodCourt</th>\n",
              "      <th>ShoppingMall</th>\n",
              "      <th>Spa</th>\n",
              "      <th>VRDeck</th>\n",
              "      <th>Name</th>\n",
              "      <th>Transported</th>\n",
              "      <th>GroupId</th>\n",
              "      <th>GroupPassId</th>\n",
              "    </tr>\n",
              "  </thead>\n",
              "  <tbody>\n",
              "    <tr>\n",
              "      <th>0</th>\n",
              "      <td>Europa</td>\n",
              "      <td>False</td>\n",
              "      <td>B/0/P</td>\n",
              "      <td>TRAPPIST-1e</td>\n",
              "      <td>39.0</td>\n",
              "      <td>False</td>\n",
              "      <td>0.0</td>\n",
              "      <td>0.0</td>\n",
              "      <td>0.0</td>\n",
              "      <td>0.0</td>\n",
              "      <td>0.0</td>\n",
              "      <td>Maham Ofracculy</td>\n",
              "      <td>False</td>\n",
              "      <td>0001</td>\n",
              "      <td>01</td>\n",
              "    </tr>\n",
              "    <tr>\n",
              "      <th>1</th>\n",
              "      <td>Earth</td>\n",
              "      <td>False</td>\n",
              "      <td>F/0/S</td>\n",
              "      <td>TRAPPIST-1e</td>\n",
              "      <td>24.0</td>\n",
              "      <td>False</td>\n",
              "      <td>109.0</td>\n",
              "      <td>9.0</td>\n",
              "      <td>25.0</td>\n",
              "      <td>549.0</td>\n",
              "      <td>44.0</td>\n",
              "      <td>Juanna Vines</td>\n",
              "      <td>True</td>\n",
              "      <td>0002</td>\n",
              "      <td>01</td>\n",
              "    </tr>\n",
              "    <tr>\n",
              "      <th>2</th>\n",
              "      <td>Europa</td>\n",
              "      <td>False</td>\n",
              "      <td>A/0/S</td>\n",
              "      <td>TRAPPIST-1e</td>\n",
              "      <td>58.0</td>\n",
              "      <td>True</td>\n",
              "      <td>43.0</td>\n",
              "      <td>3576.0</td>\n",
              "      <td>0.0</td>\n",
              "      <td>6715.0</td>\n",
              "      <td>49.0</td>\n",
              "      <td>Altark Susent</td>\n",
              "      <td>False</td>\n",
              "      <td>0003</td>\n",
              "      <td>01</td>\n",
              "    </tr>\n",
              "  </tbody>\n",
              "</table>\n",
              "</div>\n",
              "      <button class=\"colab-df-convert\" onclick=\"convertToInteractive('df-cc48edc3-7e64-478c-a28e-3e7652442871')\"\n",
              "              title=\"Convert this dataframe to an interactive table.\"\n",
              "              style=\"display:none;\">\n",
              "        \n",
              "  <svg xmlns=\"http://www.w3.org/2000/svg\" height=\"24px\"viewBox=\"0 0 24 24\"\n",
              "       width=\"24px\">\n",
              "    <path d=\"M0 0h24v24H0V0z\" fill=\"none\"/>\n",
              "    <path d=\"M18.56 5.44l.94 2.06.94-2.06 2.06-.94-2.06-.94-.94-2.06-.94 2.06-2.06.94zm-11 1L8.5 8.5l.94-2.06 2.06-.94-2.06-.94L8.5 2.5l-.94 2.06-2.06.94zm10 10l.94 2.06.94-2.06 2.06-.94-2.06-.94-.94-2.06-.94 2.06-2.06.94z\"/><path d=\"M17.41 7.96l-1.37-1.37c-.4-.4-.92-.59-1.43-.59-.52 0-1.04.2-1.43.59L10.3 9.45l-7.72 7.72c-.78.78-.78 2.05 0 2.83L4 21.41c.39.39.9.59 1.41.59.51 0 1.02-.2 1.41-.59l7.78-7.78 2.81-2.81c.8-.78.8-2.07 0-2.86zM5.41 20L4 18.59l7.72-7.72 1.47 1.35L5.41 20z\"/>\n",
              "  </svg>\n",
              "      </button>\n",
              "      \n",
              "  <style>\n",
              "    .colab-df-container {\n",
              "      display:flex;\n",
              "      flex-wrap:wrap;\n",
              "      gap: 12px;\n",
              "    }\n",
              "\n",
              "    .colab-df-convert {\n",
              "      background-color: #E8F0FE;\n",
              "      border: none;\n",
              "      border-radius: 50%;\n",
              "      cursor: pointer;\n",
              "      display: none;\n",
              "      fill: #1967D2;\n",
              "      height: 32px;\n",
              "      padding: 0 0 0 0;\n",
              "      width: 32px;\n",
              "    }\n",
              "\n",
              "    .colab-df-convert:hover {\n",
              "      background-color: #E2EBFA;\n",
              "      box-shadow: 0px 1px 2px rgba(60, 64, 67, 0.3), 0px 1px 3px 1px rgba(60, 64, 67, 0.15);\n",
              "      fill: #174EA6;\n",
              "    }\n",
              "\n",
              "    [theme=dark] .colab-df-convert {\n",
              "      background-color: #3B4455;\n",
              "      fill: #D2E3FC;\n",
              "    }\n",
              "\n",
              "    [theme=dark] .colab-df-convert:hover {\n",
              "      background-color: #434B5C;\n",
              "      box-shadow: 0px 1px 3px 1px rgba(0, 0, 0, 0.15);\n",
              "      filter: drop-shadow(0px 1px 2px rgba(0, 0, 0, 0.3));\n",
              "      fill: #FFFFFF;\n",
              "    }\n",
              "  </style>\n",
              "\n",
              "      <script>\n",
              "        const buttonEl =\n",
              "          document.querySelector('#df-cc48edc3-7e64-478c-a28e-3e7652442871 button.colab-df-convert');\n",
              "        buttonEl.style.display =\n",
              "          google.colab.kernel.accessAllowed ? 'block' : 'none';\n",
              "\n",
              "        async function convertToInteractive(key) {\n",
              "          const element = document.querySelector('#df-cc48edc3-7e64-478c-a28e-3e7652442871');\n",
              "          const dataTable =\n",
              "            await google.colab.kernel.invokeFunction('convertToInteractive',\n",
              "                                                     [key], {});\n",
              "          if (!dataTable) return;\n",
              "\n",
              "          const docLinkHtml = 'Like what you see? Visit the ' +\n",
              "            '<a target=\"_blank\" href=https://colab.research.google.com/notebooks/data_table.ipynb>data table notebook</a>'\n",
              "            + ' to learn more about interactive tables.';\n",
              "          element.innerHTML = '';\n",
              "          dataTable['output_type'] = 'display_data';\n",
              "          await google.colab.output.renderOutput(dataTable, element);\n",
              "          const docLink = document.createElement('div');\n",
              "          docLink.innerHTML = docLinkHtml;\n",
              "          element.appendChild(docLink);\n",
              "        }\n",
              "      </script>\n",
              "    </div>\n",
              "  </div>\n",
              "  "
            ]
          },
          "metadata": {},
          "execution_count": 117
        }
      ],
      "source": [
        "# Split the values in 'Cabin' column into new columns: 'Deck', 'Num', and 'Side'\n",
        "train_df[['GroupId', 'GroupPassId']] =  train_df['PassengerId'].str.split('_', expand = True)\n",
        "test_df[['GroupId', 'GroupPassId']] =  test_df['PassengerId'].str.split('_', expand = True)\n",
        "\n",
        "# Drop 'Cabin' column\n",
        "train_df.drop(['PassengerId'], axis =1, inplace = True)\n",
        "test_df.drop(['PassengerId'], axis =1, inplace = True)\n",
        "\n",
        "# Preview the first three rows of train DataFrame\n",
        "train_df.head(3)"
      ]
    },
    {
      "cell_type": "markdown",
      "id": "398b7f29",
      "metadata": {
        "papermill": {
          "duration": 0.009372,
          "end_time": "2023-02-23T17:16:26.904546",
          "exception": false,
          "start_time": "2023-02-23T17:16:26.895174",
          "status": "completed"
        },
        "tags": [],
        "id": "398b7f29"
      },
      "source": [
        "#### Splitting the values in 'Cabin' column to 'Deck', 'Num', and 'Side' columns\n",
        "> Cabin - The cabin number where the passenger is staying. Takes the form deck/num/side, where side can be either P for Port or S for Starboard.\n",
        "\n",
        "For the same reason as before, since the 'Cabin' column consist of three other variables (the deck, number & side), we are going to split the values into 3 parts.\n",
        "\n",
        "*Example:* B/0/P -> B for 'Deck', 0 for 'Num', & P for 'Side'"
      ]
    },
    {
      "cell_type": "code",
      "execution_count": null,
      "id": "06565ed6",
      "metadata": {
        "execution": {
          "iopub.execute_input": "2023-02-23T17:16:26.925138Z",
          "iopub.status.busy": "2023-02-23T17:16:26.924744Z",
          "iopub.status.idle": "2023-02-23T17:16:26.980065Z",
          "shell.execute_reply": "2023-02-23T17:16:26.978809Z"
        },
        "papermill": {
          "duration": 0.06852,
          "end_time": "2023-02-23T17:16:26.982604",
          "exception": false,
          "start_time": "2023-02-23T17:16:26.914084",
          "status": "completed"
        },
        "tags": [],
        "id": "06565ed6",
        "colab": {
          "base_uri": "https://localhost:8080/",
          "height": 143
        },
        "outputId": "49642629-0ffe-41ba-e5ae-682aca510e27"
      },
      "outputs": [
        {
          "output_type": "execute_result",
          "data": {
            "text/plain": [
              "  HomePlanet CryoSleep  Destination   Age    VIP  RoomService  FoodCourt  \\\n",
              "0     Europa     False  TRAPPIST-1e  39.0  False          0.0        0.0   \n",
              "1      Earth     False  TRAPPIST-1e  24.0  False        109.0        9.0   \n",
              "2     Europa     False  TRAPPIST-1e  58.0   True         43.0     3576.0   \n",
              "\n",
              "   ShoppingMall     Spa  VRDeck             Name  Transported GroupId  \\\n",
              "0           0.0     0.0     0.0  Maham Ofracculy        False    0001   \n",
              "1          25.0   549.0    44.0     Juanna Vines         True    0002   \n",
              "2           0.0  6715.0    49.0    Altark Susent        False    0003   \n",
              "\n",
              "  GroupPassId Deck Num Side  \n",
              "0          01    B   0    P  \n",
              "1          01    F   0    S  \n",
              "2          01    A   0    S  "
            ],
            "text/html": [
              "\n",
              "  <div id=\"df-591fdc2a-2763-4751-af89-1249a0533e2e\">\n",
              "    <div class=\"colab-df-container\">\n",
              "      <div>\n",
              "<style scoped>\n",
              "    .dataframe tbody tr th:only-of-type {\n",
              "        vertical-align: middle;\n",
              "    }\n",
              "\n",
              "    .dataframe tbody tr th {\n",
              "        vertical-align: top;\n",
              "    }\n",
              "\n",
              "    .dataframe thead th {\n",
              "        text-align: right;\n",
              "    }\n",
              "</style>\n",
              "<table border=\"1\" class=\"dataframe\">\n",
              "  <thead>\n",
              "    <tr style=\"text-align: right;\">\n",
              "      <th></th>\n",
              "      <th>HomePlanet</th>\n",
              "      <th>CryoSleep</th>\n",
              "      <th>Destination</th>\n",
              "      <th>Age</th>\n",
              "      <th>VIP</th>\n",
              "      <th>RoomService</th>\n",
              "      <th>FoodCourt</th>\n",
              "      <th>ShoppingMall</th>\n",
              "      <th>Spa</th>\n",
              "      <th>VRDeck</th>\n",
              "      <th>Name</th>\n",
              "      <th>Transported</th>\n",
              "      <th>GroupId</th>\n",
              "      <th>GroupPassId</th>\n",
              "      <th>Deck</th>\n",
              "      <th>Num</th>\n",
              "      <th>Side</th>\n",
              "    </tr>\n",
              "  </thead>\n",
              "  <tbody>\n",
              "    <tr>\n",
              "      <th>0</th>\n",
              "      <td>Europa</td>\n",
              "      <td>False</td>\n",
              "      <td>TRAPPIST-1e</td>\n",
              "      <td>39.0</td>\n",
              "      <td>False</td>\n",
              "      <td>0.0</td>\n",
              "      <td>0.0</td>\n",
              "      <td>0.0</td>\n",
              "      <td>0.0</td>\n",
              "      <td>0.0</td>\n",
              "      <td>Maham Ofracculy</td>\n",
              "      <td>False</td>\n",
              "      <td>0001</td>\n",
              "      <td>01</td>\n",
              "      <td>B</td>\n",
              "      <td>0</td>\n",
              "      <td>P</td>\n",
              "    </tr>\n",
              "    <tr>\n",
              "      <th>1</th>\n",
              "      <td>Earth</td>\n",
              "      <td>False</td>\n",
              "      <td>TRAPPIST-1e</td>\n",
              "      <td>24.0</td>\n",
              "      <td>False</td>\n",
              "      <td>109.0</td>\n",
              "      <td>9.0</td>\n",
              "      <td>25.0</td>\n",
              "      <td>549.0</td>\n",
              "      <td>44.0</td>\n",
              "      <td>Juanna Vines</td>\n",
              "      <td>True</td>\n",
              "      <td>0002</td>\n",
              "      <td>01</td>\n",
              "      <td>F</td>\n",
              "      <td>0</td>\n",
              "      <td>S</td>\n",
              "    </tr>\n",
              "    <tr>\n",
              "      <th>2</th>\n",
              "      <td>Europa</td>\n",
              "      <td>False</td>\n",
              "      <td>TRAPPIST-1e</td>\n",
              "      <td>58.0</td>\n",
              "      <td>True</td>\n",
              "      <td>43.0</td>\n",
              "      <td>3576.0</td>\n",
              "      <td>0.0</td>\n",
              "      <td>6715.0</td>\n",
              "      <td>49.0</td>\n",
              "      <td>Altark Susent</td>\n",
              "      <td>False</td>\n",
              "      <td>0003</td>\n",
              "      <td>01</td>\n",
              "      <td>A</td>\n",
              "      <td>0</td>\n",
              "      <td>S</td>\n",
              "    </tr>\n",
              "  </tbody>\n",
              "</table>\n",
              "</div>\n",
              "      <button class=\"colab-df-convert\" onclick=\"convertToInteractive('df-591fdc2a-2763-4751-af89-1249a0533e2e')\"\n",
              "              title=\"Convert this dataframe to an interactive table.\"\n",
              "              style=\"display:none;\">\n",
              "        \n",
              "  <svg xmlns=\"http://www.w3.org/2000/svg\" height=\"24px\"viewBox=\"0 0 24 24\"\n",
              "       width=\"24px\">\n",
              "    <path d=\"M0 0h24v24H0V0z\" fill=\"none\"/>\n",
              "    <path d=\"M18.56 5.44l.94 2.06.94-2.06 2.06-.94-2.06-.94-.94-2.06-.94 2.06-2.06.94zm-11 1L8.5 8.5l.94-2.06 2.06-.94-2.06-.94L8.5 2.5l-.94 2.06-2.06.94zm10 10l.94 2.06.94-2.06 2.06-.94-2.06-.94-.94-2.06-.94 2.06-2.06.94z\"/><path d=\"M17.41 7.96l-1.37-1.37c-.4-.4-.92-.59-1.43-.59-.52 0-1.04.2-1.43.59L10.3 9.45l-7.72 7.72c-.78.78-.78 2.05 0 2.83L4 21.41c.39.39.9.59 1.41.59.51 0 1.02-.2 1.41-.59l7.78-7.78 2.81-2.81c.8-.78.8-2.07 0-2.86zM5.41 20L4 18.59l7.72-7.72 1.47 1.35L5.41 20z\"/>\n",
              "  </svg>\n",
              "      </button>\n",
              "      \n",
              "  <style>\n",
              "    .colab-df-container {\n",
              "      display:flex;\n",
              "      flex-wrap:wrap;\n",
              "      gap: 12px;\n",
              "    }\n",
              "\n",
              "    .colab-df-convert {\n",
              "      background-color: #E8F0FE;\n",
              "      border: none;\n",
              "      border-radius: 50%;\n",
              "      cursor: pointer;\n",
              "      display: none;\n",
              "      fill: #1967D2;\n",
              "      height: 32px;\n",
              "      padding: 0 0 0 0;\n",
              "      width: 32px;\n",
              "    }\n",
              "\n",
              "    .colab-df-convert:hover {\n",
              "      background-color: #E2EBFA;\n",
              "      box-shadow: 0px 1px 2px rgba(60, 64, 67, 0.3), 0px 1px 3px 1px rgba(60, 64, 67, 0.15);\n",
              "      fill: #174EA6;\n",
              "    }\n",
              "\n",
              "    [theme=dark] .colab-df-convert {\n",
              "      background-color: #3B4455;\n",
              "      fill: #D2E3FC;\n",
              "    }\n",
              "\n",
              "    [theme=dark] .colab-df-convert:hover {\n",
              "      background-color: #434B5C;\n",
              "      box-shadow: 0px 1px 3px 1px rgba(0, 0, 0, 0.15);\n",
              "      filter: drop-shadow(0px 1px 2px rgba(0, 0, 0, 0.3));\n",
              "      fill: #FFFFFF;\n",
              "    }\n",
              "  </style>\n",
              "\n",
              "      <script>\n",
              "        const buttonEl =\n",
              "          document.querySelector('#df-591fdc2a-2763-4751-af89-1249a0533e2e button.colab-df-convert');\n",
              "        buttonEl.style.display =\n",
              "          google.colab.kernel.accessAllowed ? 'block' : 'none';\n",
              "\n",
              "        async function convertToInteractive(key) {\n",
              "          const element = document.querySelector('#df-591fdc2a-2763-4751-af89-1249a0533e2e');\n",
              "          const dataTable =\n",
              "            await google.colab.kernel.invokeFunction('convertToInteractive',\n",
              "                                                     [key], {});\n",
              "          if (!dataTable) return;\n",
              "\n",
              "          const docLinkHtml = 'Like what you see? Visit the ' +\n",
              "            '<a target=\"_blank\" href=https://colab.research.google.com/notebooks/data_table.ipynb>data table notebook</a>'\n",
              "            + ' to learn more about interactive tables.';\n",
              "          element.innerHTML = '';\n",
              "          dataTable['output_type'] = 'display_data';\n",
              "          await google.colab.output.renderOutput(dataTable, element);\n",
              "          const docLink = document.createElement('div');\n",
              "          docLink.innerHTML = docLinkHtml;\n",
              "          element.appendChild(docLink);\n",
              "        }\n",
              "      </script>\n",
              "    </div>\n",
              "  </div>\n",
              "  "
            ]
          },
          "metadata": {},
          "execution_count": 118
        }
      ],
      "source": [
        "# Split the values in 'Cabin' column into new columns: 'Deck', 'Num', and 'Side'\n",
        "train_df[['Deck','Num', 'Side']] = train_df['Cabin'].str.split('/', expand = True)\n",
        "test_df[['Deck','Num', 'Side']] = test_df['Cabin'].str.split('/', expand = True)\n",
        "\n",
        "# Drop 'Cabin' column\n",
        "train_df.drop(['Cabin'], axis =1, inplace = True)\n",
        "test_df.drop(['Cabin'], axis =1, inplace = True)\n",
        "\n",
        "# Preview the first three rows of train DataFrame\n",
        "train_df.head(3)"
      ]
    },
    {
      "cell_type": "markdown",
      "id": "44e04635",
      "metadata": {
        "papermill": {
          "duration": 0.009906,
          "end_time": "2023-02-23T17:16:27.002829",
          "exception": false,
          "start_time": "2023-02-23T17:16:26.992923",
          "status": "completed"
        },
        "tags": [],
        "id": "44e04635"
      },
      "source": [
        "#### Dropping 'Name' column\n",
        "The next step is to drop 'Name' column since it cannot be used as a determinant factor."
      ]
    },
    {
      "cell_type": "code",
      "execution_count": null,
      "id": "ba8937bf",
      "metadata": {
        "execution": {
          "iopub.execute_input": "2023-02-23T17:16:27.025127Z",
          "iopub.status.busy": "2023-02-23T17:16:27.024728Z",
          "iopub.status.idle": "2023-02-23T17:16:27.049723Z",
          "shell.execute_reply": "2023-02-23T17:16:27.048601Z"
        },
        "papermill": {
          "duration": 0.039364,
          "end_time": "2023-02-23T17:16:27.052147",
          "exception": false,
          "start_time": "2023-02-23T17:16:27.012783",
          "status": "completed"
        },
        "tags": [],
        "id": "ba8937bf",
        "colab": {
          "base_uri": "https://localhost:8080/",
          "height": 143
        },
        "outputId": "29a8cc5c-34d8-4062-a7d8-97fa9dfed8ab"
      },
      "outputs": [
        {
          "output_type": "execute_result",
          "data": {
            "text/plain": [
              "  HomePlanet CryoSleep  Destination   Age    VIP  RoomService  FoodCourt  \\\n",
              "0     Europa     False  TRAPPIST-1e  39.0  False          0.0        0.0   \n",
              "1      Earth     False  TRAPPIST-1e  24.0  False        109.0        9.0   \n",
              "2     Europa     False  TRAPPIST-1e  58.0   True         43.0     3576.0   \n",
              "\n",
              "   ShoppingMall     Spa  VRDeck  Transported GroupId GroupPassId Deck Num Side  \n",
              "0           0.0     0.0     0.0        False    0001          01    B   0    P  \n",
              "1          25.0   549.0    44.0         True    0002          01    F   0    S  \n",
              "2           0.0  6715.0    49.0        False    0003          01    A   0    S  "
            ],
            "text/html": [
              "\n",
              "  <div id=\"df-a1f65dda-64bb-4291-a430-f319c36d7169\">\n",
              "    <div class=\"colab-df-container\">\n",
              "      <div>\n",
              "<style scoped>\n",
              "    .dataframe tbody tr th:only-of-type {\n",
              "        vertical-align: middle;\n",
              "    }\n",
              "\n",
              "    .dataframe tbody tr th {\n",
              "        vertical-align: top;\n",
              "    }\n",
              "\n",
              "    .dataframe thead th {\n",
              "        text-align: right;\n",
              "    }\n",
              "</style>\n",
              "<table border=\"1\" class=\"dataframe\">\n",
              "  <thead>\n",
              "    <tr style=\"text-align: right;\">\n",
              "      <th></th>\n",
              "      <th>HomePlanet</th>\n",
              "      <th>CryoSleep</th>\n",
              "      <th>Destination</th>\n",
              "      <th>Age</th>\n",
              "      <th>VIP</th>\n",
              "      <th>RoomService</th>\n",
              "      <th>FoodCourt</th>\n",
              "      <th>ShoppingMall</th>\n",
              "      <th>Spa</th>\n",
              "      <th>VRDeck</th>\n",
              "      <th>Transported</th>\n",
              "      <th>GroupId</th>\n",
              "      <th>GroupPassId</th>\n",
              "      <th>Deck</th>\n",
              "      <th>Num</th>\n",
              "      <th>Side</th>\n",
              "    </tr>\n",
              "  </thead>\n",
              "  <tbody>\n",
              "    <tr>\n",
              "      <th>0</th>\n",
              "      <td>Europa</td>\n",
              "      <td>False</td>\n",
              "      <td>TRAPPIST-1e</td>\n",
              "      <td>39.0</td>\n",
              "      <td>False</td>\n",
              "      <td>0.0</td>\n",
              "      <td>0.0</td>\n",
              "      <td>0.0</td>\n",
              "      <td>0.0</td>\n",
              "      <td>0.0</td>\n",
              "      <td>False</td>\n",
              "      <td>0001</td>\n",
              "      <td>01</td>\n",
              "      <td>B</td>\n",
              "      <td>0</td>\n",
              "      <td>P</td>\n",
              "    </tr>\n",
              "    <tr>\n",
              "      <th>1</th>\n",
              "      <td>Earth</td>\n",
              "      <td>False</td>\n",
              "      <td>TRAPPIST-1e</td>\n",
              "      <td>24.0</td>\n",
              "      <td>False</td>\n",
              "      <td>109.0</td>\n",
              "      <td>9.0</td>\n",
              "      <td>25.0</td>\n",
              "      <td>549.0</td>\n",
              "      <td>44.0</td>\n",
              "      <td>True</td>\n",
              "      <td>0002</td>\n",
              "      <td>01</td>\n",
              "      <td>F</td>\n",
              "      <td>0</td>\n",
              "      <td>S</td>\n",
              "    </tr>\n",
              "    <tr>\n",
              "      <th>2</th>\n",
              "      <td>Europa</td>\n",
              "      <td>False</td>\n",
              "      <td>TRAPPIST-1e</td>\n",
              "      <td>58.0</td>\n",
              "      <td>True</td>\n",
              "      <td>43.0</td>\n",
              "      <td>3576.0</td>\n",
              "      <td>0.0</td>\n",
              "      <td>6715.0</td>\n",
              "      <td>49.0</td>\n",
              "      <td>False</td>\n",
              "      <td>0003</td>\n",
              "      <td>01</td>\n",
              "      <td>A</td>\n",
              "      <td>0</td>\n",
              "      <td>S</td>\n",
              "    </tr>\n",
              "  </tbody>\n",
              "</table>\n",
              "</div>\n",
              "      <button class=\"colab-df-convert\" onclick=\"convertToInteractive('df-a1f65dda-64bb-4291-a430-f319c36d7169')\"\n",
              "              title=\"Convert this dataframe to an interactive table.\"\n",
              "              style=\"display:none;\">\n",
              "        \n",
              "  <svg xmlns=\"http://www.w3.org/2000/svg\" height=\"24px\"viewBox=\"0 0 24 24\"\n",
              "       width=\"24px\">\n",
              "    <path d=\"M0 0h24v24H0V0z\" fill=\"none\"/>\n",
              "    <path d=\"M18.56 5.44l.94 2.06.94-2.06 2.06-.94-2.06-.94-.94-2.06-.94 2.06-2.06.94zm-11 1L8.5 8.5l.94-2.06 2.06-.94-2.06-.94L8.5 2.5l-.94 2.06-2.06.94zm10 10l.94 2.06.94-2.06 2.06-.94-2.06-.94-.94-2.06-.94 2.06-2.06.94z\"/><path d=\"M17.41 7.96l-1.37-1.37c-.4-.4-.92-.59-1.43-.59-.52 0-1.04.2-1.43.59L10.3 9.45l-7.72 7.72c-.78.78-.78 2.05 0 2.83L4 21.41c.39.39.9.59 1.41.59.51 0 1.02-.2 1.41-.59l7.78-7.78 2.81-2.81c.8-.78.8-2.07 0-2.86zM5.41 20L4 18.59l7.72-7.72 1.47 1.35L5.41 20z\"/>\n",
              "  </svg>\n",
              "      </button>\n",
              "      \n",
              "  <style>\n",
              "    .colab-df-container {\n",
              "      display:flex;\n",
              "      flex-wrap:wrap;\n",
              "      gap: 12px;\n",
              "    }\n",
              "\n",
              "    .colab-df-convert {\n",
              "      background-color: #E8F0FE;\n",
              "      border: none;\n",
              "      border-radius: 50%;\n",
              "      cursor: pointer;\n",
              "      display: none;\n",
              "      fill: #1967D2;\n",
              "      height: 32px;\n",
              "      padding: 0 0 0 0;\n",
              "      width: 32px;\n",
              "    }\n",
              "\n",
              "    .colab-df-convert:hover {\n",
              "      background-color: #E2EBFA;\n",
              "      box-shadow: 0px 1px 2px rgba(60, 64, 67, 0.3), 0px 1px 3px 1px rgba(60, 64, 67, 0.15);\n",
              "      fill: #174EA6;\n",
              "    }\n",
              "\n",
              "    [theme=dark] .colab-df-convert {\n",
              "      background-color: #3B4455;\n",
              "      fill: #D2E3FC;\n",
              "    }\n",
              "\n",
              "    [theme=dark] .colab-df-convert:hover {\n",
              "      background-color: #434B5C;\n",
              "      box-shadow: 0px 1px 3px 1px rgba(0, 0, 0, 0.15);\n",
              "      filter: drop-shadow(0px 1px 2px rgba(0, 0, 0, 0.3));\n",
              "      fill: #FFFFFF;\n",
              "    }\n",
              "  </style>\n",
              "\n",
              "      <script>\n",
              "        const buttonEl =\n",
              "          document.querySelector('#df-a1f65dda-64bb-4291-a430-f319c36d7169 button.colab-df-convert');\n",
              "        buttonEl.style.display =\n",
              "          google.colab.kernel.accessAllowed ? 'block' : 'none';\n",
              "\n",
              "        async function convertToInteractive(key) {\n",
              "          const element = document.querySelector('#df-a1f65dda-64bb-4291-a430-f319c36d7169');\n",
              "          const dataTable =\n",
              "            await google.colab.kernel.invokeFunction('convertToInteractive',\n",
              "                                                     [key], {});\n",
              "          if (!dataTable) return;\n",
              "\n",
              "          const docLinkHtml = 'Like what you see? Visit the ' +\n",
              "            '<a target=\"_blank\" href=https://colab.research.google.com/notebooks/data_table.ipynb>data table notebook</a>'\n",
              "            + ' to learn more about interactive tables.';\n",
              "          element.innerHTML = '';\n",
              "          dataTable['output_type'] = 'display_data';\n",
              "          await google.colab.output.renderOutput(dataTable, element);\n",
              "          const docLink = document.createElement('div');\n",
              "          docLink.innerHTML = docLinkHtml;\n",
              "          element.appendChild(docLink);\n",
              "        }\n",
              "      </script>\n",
              "    </div>\n",
              "  </div>\n",
              "  "
            ]
          },
          "metadata": {},
          "execution_count": 119
        }
      ],
      "source": [
        "train_df = train_df.drop(['Name'], axis = 1)\n",
        "test_df = test_df.drop(['Name'], axis = 1)\n",
        "\n",
        "# Preview the first three rows of train DataFrame\n",
        "train_df.head(3)"
      ]
    },
    {
      "cell_type": "markdown",
      "id": "e58ba16f",
      "metadata": {
        "papermill": {
          "duration": 0.009957,
          "end_time": "2023-02-23T17:16:27.072331",
          "exception": false,
          "start_time": "2023-02-23T17:16:27.062374",
          "status": "completed"
        },
        "tags": [],
        "id": "e58ba16f"
      },
      "source": [
        "#### Changing Boolean values into a Binary (0 or 1) value \n",
        "For every columns that has a boolean datatype, we will replace the False input to '0', and the True input to '1'"
      ]
    },
    {
      "cell_type": "code",
      "execution_count": null,
      "id": "d228bb4a",
      "metadata": {
        "execution": {
          "iopub.execute_input": "2023-02-23T17:16:27.094321Z",
          "iopub.status.busy": "2023-02-23T17:16:27.093945Z",
          "iopub.status.idle": "2023-02-23T17:16:27.130943Z",
          "shell.execute_reply": "2023-02-23T17:16:27.130078Z"
        },
        "papermill": {
          "duration": 0.050843,
          "end_time": "2023-02-23T17:16:27.133349",
          "exception": false,
          "start_time": "2023-02-23T17:16:27.082506",
          "status": "completed"
        },
        "tags": [],
        "id": "d228bb4a",
        "colab": {
          "base_uri": "https://localhost:8080/",
          "height": 143
        },
        "outputId": "8f62f1b8-34e0-4bd1-9806-7783ea70e001"
      },
      "outputs": [
        {
          "output_type": "execute_result",
          "data": {
            "text/plain": [
              "  HomePlanet CryoSleep  Destination   Age  VIP  RoomService  FoodCourt  \\\n",
              "0     Europa     False  TRAPPIST-1e  39.0    0          0.0        0.0   \n",
              "1      Earth     False  TRAPPIST-1e  24.0    0        109.0        9.0   \n",
              "2     Europa     False  TRAPPIST-1e  58.0    1         43.0     3576.0   \n",
              "\n",
              "   ShoppingMall     Spa  VRDeck  Transported GroupId GroupPassId Deck Num Side  \n",
              "0           0.0     0.0     0.0            0    0001          01    B   0    P  \n",
              "1          25.0   549.0    44.0            1    0002          01    F   0    S  \n",
              "2           0.0  6715.0    49.0            0    0003          01    A   0    S  "
            ],
            "text/html": [
              "\n",
              "  <div id=\"df-2a183022-114b-4f69-afa9-2216e894991a\">\n",
              "    <div class=\"colab-df-container\">\n",
              "      <div>\n",
              "<style scoped>\n",
              "    .dataframe tbody tr th:only-of-type {\n",
              "        vertical-align: middle;\n",
              "    }\n",
              "\n",
              "    .dataframe tbody tr th {\n",
              "        vertical-align: top;\n",
              "    }\n",
              "\n",
              "    .dataframe thead th {\n",
              "        text-align: right;\n",
              "    }\n",
              "</style>\n",
              "<table border=\"1\" class=\"dataframe\">\n",
              "  <thead>\n",
              "    <tr style=\"text-align: right;\">\n",
              "      <th></th>\n",
              "      <th>HomePlanet</th>\n",
              "      <th>CryoSleep</th>\n",
              "      <th>Destination</th>\n",
              "      <th>Age</th>\n",
              "      <th>VIP</th>\n",
              "      <th>RoomService</th>\n",
              "      <th>FoodCourt</th>\n",
              "      <th>ShoppingMall</th>\n",
              "      <th>Spa</th>\n",
              "      <th>VRDeck</th>\n",
              "      <th>Transported</th>\n",
              "      <th>GroupId</th>\n",
              "      <th>GroupPassId</th>\n",
              "      <th>Deck</th>\n",
              "      <th>Num</th>\n",
              "      <th>Side</th>\n",
              "    </tr>\n",
              "  </thead>\n",
              "  <tbody>\n",
              "    <tr>\n",
              "      <th>0</th>\n",
              "      <td>Europa</td>\n",
              "      <td>False</td>\n",
              "      <td>TRAPPIST-1e</td>\n",
              "      <td>39.0</td>\n",
              "      <td>0</td>\n",
              "      <td>0.0</td>\n",
              "      <td>0.0</td>\n",
              "      <td>0.0</td>\n",
              "      <td>0.0</td>\n",
              "      <td>0.0</td>\n",
              "      <td>0</td>\n",
              "      <td>0001</td>\n",
              "      <td>01</td>\n",
              "      <td>B</td>\n",
              "      <td>0</td>\n",
              "      <td>P</td>\n",
              "    </tr>\n",
              "    <tr>\n",
              "      <th>1</th>\n",
              "      <td>Earth</td>\n",
              "      <td>False</td>\n",
              "      <td>TRAPPIST-1e</td>\n",
              "      <td>24.0</td>\n",
              "      <td>0</td>\n",
              "      <td>109.0</td>\n",
              "      <td>9.0</td>\n",
              "      <td>25.0</td>\n",
              "      <td>549.0</td>\n",
              "      <td>44.0</td>\n",
              "      <td>1</td>\n",
              "      <td>0002</td>\n",
              "      <td>01</td>\n",
              "      <td>F</td>\n",
              "      <td>0</td>\n",
              "      <td>S</td>\n",
              "    </tr>\n",
              "    <tr>\n",
              "      <th>2</th>\n",
              "      <td>Europa</td>\n",
              "      <td>False</td>\n",
              "      <td>TRAPPIST-1e</td>\n",
              "      <td>58.0</td>\n",
              "      <td>1</td>\n",
              "      <td>43.0</td>\n",
              "      <td>3576.0</td>\n",
              "      <td>0.0</td>\n",
              "      <td>6715.0</td>\n",
              "      <td>49.0</td>\n",
              "      <td>0</td>\n",
              "      <td>0003</td>\n",
              "      <td>01</td>\n",
              "      <td>A</td>\n",
              "      <td>0</td>\n",
              "      <td>S</td>\n",
              "    </tr>\n",
              "  </tbody>\n",
              "</table>\n",
              "</div>\n",
              "      <button class=\"colab-df-convert\" onclick=\"convertToInteractive('df-2a183022-114b-4f69-afa9-2216e894991a')\"\n",
              "              title=\"Convert this dataframe to an interactive table.\"\n",
              "              style=\"display:none;\">\n",
              "        \n",
              "  <svg xmlns=\"http://www.w3.org/2000/svg\" height=\"24px\"viewBox=\"0 0 24 24\"\n",
              "       width=\"24px\">\n",
              "    <path d=\"M0 0h24v24H0V0z\" fill=\"none\"/>\n",
              "    <path d=\"M18.56 5.44l.94 2.06.94-2.06 2.06-.94-2.06-.94-.94-2.06-.94 2.06-2.06.94zm-11 1L8.5 8.5l.94-2.06 2.06-.94-2.06-.94L8.5 2.5l-.94 2.06-2.06.94zm10 10l.94 2.06.94-2.06 2.06-.94-2.06-.94-.94-2.06-.94 2.06-2.06.94z\"/><path d=\"M17.41 7.96l-1.37-1.37c-.4-.4-.92-.59-1.43-.59-.52 0-1.04.2-1.43.59L10.3 9.45l-7.72 7.72c-.78.78-.78 2.05 0 2.83L4 21.41c.39.39.9.59 1.41.59.51 0 1.02-.2 1.41-.59l7.78-7.78 2.81-2.81c.8-.78.8-2.07 0-2.86zM5.41 20L4 18.59l7.72-7.72 1.47 1.35L5.41 20z\"/>\n",
              "  </svg>\n",
              "      </button>\n",
              "      \n",
              "  <style>\n",
              "    .colab-df-container {\n",
              "      display:flex;\n",
              "      flex-wrap:wrap;\n",
              "      gap: 12px;\n",
              "    }\n",
              "\n",
              "    .colab-df-convert {\n",
              "      background-color: #E8F0FE;\n",
              "      border: none;\n",
              "      border-radius: 50%;\n",
              "      cursor: pointer;\n",
              "      display: none;\n",
              "      fill: #1967D2;\n",
              "      height: 32px;\n",
              "      padding: 0 0 0 0;\n",
              "      width: 32px;\n",
              "    }\n",
              "\n",
              "    .colab-df-convert:hover {\n",
              "      background-color: #E2EBFA;\n",
              "      box-shadow: 0px 1px 2px rgba(60, 64, 67, 0.3), 0px 1px 3px 1px rgba(60, 64, 67, 0.15);\n",
              "      fill: #174EA6;\n",
              "    }\n",
              "\n",
              "    [theme=dark] .colab-df-convert {\n",
              "      background-color: #3B4455;\n",
              "      fill: #D2E3FC;\n",
              "    }\n",
              "\n",
              "    [theme=dark] .colab-df-convert:hover {\n",
              "      background-color: #434B5C;\n",
              "      box-shadow: 0px 1px 3px 1px rgba(0, 0, 0, 0.15);\n",
              "      filter: drop-shadow(0px 1px 2px rgba(0, 0, 0, 0.3));\n",
              "      fill: #FFFFFF;\n",
              "    }\n",
              "  </style>\n",
              "\n",
              "      <script>\n",
              "        const buttonEl =\n",
              "          document.querySelector('#df-2a183022-114b-4f69-afa9-2216e894991a button.colab-df-convert');\n",
              "        buttonEl.style.display =\n",
              "          google.colab.kernel.accessAllowed ? 'block' : 'none';\n",
              "\n",
              "        async function convertToInteractive(key) {\n",
              "          const element = document.querySelector('#df-2a183022-114b-4f69-afa9-2216e894991a');\n",
              "          const dataTable =\n",
              "            await google.colab.kernel.invokeFunction('convertToInteractive',\n",
              "                                                     [key], {});\n",
              "          if (!dataTable) return;\n",
              "\n",
              "          const docLinkHtml = 'Like what you see? Visit the ' +\n",
              "            '<a target=\"_blank\" href=https://colab.research.google.com/notebooks/data_table.ipynb>data table notebook</a>'\n",
              "            + ' to learn more about interactive tables.';\n",
              "          element.innerHTML = '';\n",
              "          dataTable['output_type'] = 'display_data';\n",
              "          await google.colab.output.renderOutput(dataTable, element);\n",
              "          const docLink = document.createElement('div');\n",
              "          docLink.innerHTML = docLinkHtml;\n",
              "          element.appendChild(docLink);\n",
              "        }\n",
              "      </script>\n",
              "    </div>\n",
              "  </div>\n",
              "  "
            ]
          },
          "metadata": {},
          "execution_count": 120
        }
      ],
      "source": [
        "# Replace null values in VIP to \"False\"\n",
        "train_df['VIP'].fillna(False, inplace = True)\n",
        "test_df['VIP'].fillna(False, inplace = True)\n",
        "\n",
        "# Select all columns with boolean as its data type\n",
        "bool_columns = train_df.select_dtypes(\"boolean\").columns\n",
        "\n",
        "# Replacing all columns with Boolean datatype with a Binary data\n",
        "for el in bool_columns:\n",
        "    try:\n",
        "        test_df[el].replace({False: 0, True: 1}, inplace = True)\n",
        "    except Exception:\n",
        "        pass\n",
        "    train_df[el].replace({False: 0, True: 1}, inplace = True)\n",
        "\n",
        "train_df.head(3)"
      ]
    },
    {
      "cell_type": "code",
      "execution_count": null,
      "id": "37f95f40",
      "metadata": {
        "execution": {
          "iopub.execute_input": "2023-02-23T17:16:27.155824Z",
          "iopub.status.busy": "2023-02-23T17:16:27.155404Z",
          "iopub.status.idle": "2023-02-23T17:16:27.163126Z",
          "shell.execute_reply": "2023-02-23T17:16:27.162237Z"
        },
        "papermill": {
          "duration": 0.021867,
          "end_time": "2023-02-23T17:16:27.165519",
          "exception": false,
          "start_time": "2023-02-23T17:16:27.143652",
          "status": "completed"
        },
        "tags": [],
        "id": "37f95f40",
        "colab": {
          "base_uri": "https://localhost:8080/"
        },
        "outputId": "76718a06-aa0c-48cd-e52b-7b6107363ee5"
      },
      "outputs": [
        {
          "output_type": "execute_result",
          "data": {
            "text/plain": [
              "HomePlanet       object\n",
              "CryoSleep        object\n",
              "Destination      object\n",
              "Age             float64\n",
              "VIP               int64\n",
              "RoomService     float64\n",
              "FoodCourt       float64\n",
              "ShoppingMall    float64\n",
              "Spa             float64\n",
              "VRDeck          float64\n",
              "Transported       int64\n",
              "GroupId          object\n",
              "GroupPassId      object\n",
              "Deck             object\n",
              "Num              object\n",
              "Side             object\n",
              "dtype: object"
            ]
          },
          "metadata": {},
          "execution_count": 121
        }
      ],
      "source": [
        "# Checking the total non-null rows from each columns and its data type\n",
        "train_df.dtypes"
      ]
    },
    {
      "cell_type": "markdown",
      "id": "f41228e1",
      "metadata": {
        "papermill": {
          "duration": 0.010261,
          "end_time": "2023-02-23T17:16:27.186809",
          "exception": false,
          "start_time": "2023-02-23T17:16:27.176548",
          "status": "completed"
        },
        "tags": [],
        "id": "f41228e1"
      },
      "source": [
        "#### Convert 'GroupId', 'GroupPassId', and 'Num' columns data types from Object to int64"
      ]
    },
    {
      "cell_type": "code",
      "execution_count": null,
      "id": "4090dab5",
      "metadata": {
        "execution": {
          "iopub.execute_input": "2023-02-23T17:16:27.209602Z",
          "iopub.status.busy": "2023-02-23T17:16:27.209217Z",
          "iopub.status.idle": "2023-02-23T17:16:27.261367Z",
          "shell.execute_reply": "2023-02-23T17:16:27.260187Z"
        },
        "papermill": {
          "duration": 0.066557,
          "end_time": "2023-02-23T17:16:27.263989",
          "exception": false,
          "start_time": "2023-02-23T17:16:27.197432",
          "status": "completed"
        },
        "tags": [],
        "id": "4090dab5"
      },
      "outputs": [],
      "source": [
        "obj_to_int_cols = ['GroupId', 'GroupPassId', 'Num']\n",
        "\n",
        "# Change the data type for both train and test dataset\n",
        "for el in obj_to_int_cols:\n",
        "    train_df[el] =  train_df[el].str.extract('(\\d+)', expand=False).astype('float').astype('Int64')\n",
        "    test_df[el] =  test_df[el].str.extract('(\\d+)', expand=False).astype('float').astype('Int64')"
      ]
    },
    {
      "cell_type": "code",
      "execution_count": null,
      "id": "f792a024",
      "metadata": {
        "execution": {
          "iopub.execute_input": "2023-02-23T17:16:27.287689Z",
          "iopub.status.busy": "2023-02-23T17:16:27.287268Z",
          "iopub.status.idle": "2023-02-23T17:16:27.295747Z",
          "shell.execute_reply": "2023-02-23T17:16:27.294640Z"
        },
        "papermill": {
          "duration": 0.023591,
          "end_time": "2023-02-23T17:16:27.298237",
          "exception": false,
          "start_time": "2023-02-23T17:16:27.274646",
          "status": "completed"
        },
        "tags": [],
        "id": "f792a024",
        "colab": {
          "base_uri": "https://localhost:8080/"
        },
        "outputId": "c4da41ea-7e4b-42d6-b28e-ec07c68a8cee"
      },
      "outputs": [
        {
          "output_type": "execute_result",
          "data": {
            "text/plain": [
              "HomePlanet       object\n",
              "CryoSleep        object\n",
              "Destination      object\n",
              "Age             float64\n",
              "VIP               int64\n",
              "RoomService     float64\n",
              "FoodCourt       float64\n",
              "ShoppingMall    float64\n",
              "Spa             float64\n",
              "VRDeck          float64\n",
              "Transported       int64\n",
              "GroupId           Int64\n",
              "GroupPassId       Int64\n",
              "Deck             object\n",
              "Num               Int64\n",
              "Side             object\n",
              "dtype: object"
            ]
          },
          "metadata": {},
          "execution_count": 123
        }
      ],
      "source": [
        "train_df.dtypes"
      ]
    },
    {
      "cell_type": "markdown",
      "id": "1f53e5c1",
      "metadata": {
        "papermill": {
          "duration": 0.010785,
          "end_time": "2023-02-23T17:16:27.320185",
          "exception": false,
          "start_time": "2023-02-23T17:16:27.309400",
          "status": "completed"
        },
        "tags": [],
        "id": "1f53e5c1"
      },
      "source": [
        "### Different Variants of Dataframes\n",
        "1. Drop all null values,\n",
        "2. Replacing the null values with 0 for $ amount, mean for age, and \"NoDataFound\" for categorical columns\n",
        "3. One Hot Encoding on each dataframes\n",
        "\n",
        "#### Variant #1: train_df_nulldropped, test_df_nulldropped"
      ]
    },
    {
      "cell_type": "code",
      "execution_count": null,
      "id": "b795794a",
      "metadata": {
        "execution": {
          "iopub.execute_input": "2023-02-23T17:16:27.343356Z",
          "iopub.status.busy": "2023-02-23T17:16:27.342967Z",
          "iopub.status.idle": "2023-02-23T17:16:27.366672Z",
          "shell.execute_reply": "2023-02-23T17:16:27.365326Z"
        },
        "papermill": {
          "duration": 0.038366,
          "end_time": "2023-02-23T17:16:27.369418",
          "exception": false,
          "start_time": "2023-02-23T17:16:27.331052",
          "status": "completed"
        },
        "tags": [],
        "id": "b795794a",
        "outputId": "233dc3d8-b2ba-4371-8d78-1289cd3905e8",
        "colab": {
          "base_uri": "https://localhost:8080/"
        }
      },
      "outputs": [
        {
          "output_type": "stream",
          "name": "stdout",
          "text": [
            "Train_df shape:(6930, 16)\n",
            "Test_df shape:(3428, 15)\n"
          ]
        }
      ],
      "source": [
        "# 'all_dataframes' list consists of the name of all dataframes we have in this project\n",
        "all_dataframes = list()\n",
        "\n",
        "# Create train and test dataframes with the null values dropped\n",
        "train_df_nulldropped = train_df.dropna()\n",
        "test_df_nulldropped = test_df.dropna()\n",
        "\n",
        "# Append the name of the dataframe objects to keep track of all the dataframes we have\n",
        "all_dataframes.append(\"train_df\")\n",
        "all_dataframes.append(\"test_df\")\n",
        "all_dataframes.append(\"train_df_nulldropped\")\n",
        "all_dataframes.append(\"test_df_nulldropped\")\n",
        "\n",
        "# Display the number of rows and columns of both dataframes after the null values are dropped\n",
        "print(\"Train_df shape:\" + str(train_df_nulldropped.shape))\n",
        "print(\"Test_df shape:\" + str(test_df_nulldropped.shape))"
      ]
    },
    {
      "cell_type": "markdown",
      "id": "8fbe265c",
      "metadata": {
        "papermill": {
          "duration": 0.010714,
          "end_time": "2023-02-23T17:16:27.390955",
          "exception": false,
          "start_time": "2023-02-23T17:16:27.380241",
          "status": "completed"
        },
        "tags": [],
        "id": "8fbe265c"
      },
      "source": [
        "#### Variant #2: train_df, test_df"
      ]
    },
    {
      "cell_type": "code",
      "execution_count": null,
      "id": "a29bf5e8",
      "metadata": {
        "execution": {
          "iopub.execute_input": "2023-02-23T17:16:27.414820Z",
          "iopub.status.busy": "2023-02-23T17:16:27.414416Z",
          "iopub.status.idle": "2023-02-23T17:16:27.431889Z",
          "shell.execute_reply": "2023-02-23T17:16:27.430740Z"
        },
        "papermill": {
          "duration": 0.032391,
          "end_time": "2023-02-23T17:16:27.434332",
          "exception": false,
          "start_time": "2023-02-23T17:16:27.401941",
          "status": "completed"
        },
        "tags": [],
        "id": "a29bf5e8"
      },
      "outputs": [],
      "source": [
        "# Replacing the null values with 0 for $ amount, mean for age, and \"NoDataFound\" for categorical columns\n",
        "\n",
        "integer_cols = [\"RoomService\", \"FoodCourt\", \"ShoppingMall\", \"Spa\", \"VRDeck\"]\n",
        "\n",
        "for el in integer_cols:\n",
        "    train_df[el].fillna(0, inplace = True)\n",
        "    test_df[el].fillna(0, inplace = True)\n",
        "    \n",
        "categorical_cols = [\"HomePlanet\", \"CryoSleep\", \"Destination\", \"VIP\"]\n",
        "\n",
        "for el in categorical_cols:\n",
        "    train_df[el].fillna((\"No\" + str(el) + \"Found\"), inplace = True)\n",
        "    test_df[el].fillna((\"No\" + str(el) + \"Found\"), inplace = True)\n",
        "\n",
        "train_df['Age'].fillna(train_df['Age'].mean(), inplace = True)\n",
        "test_df['Age'].fillna(test_df['Age'].mean(), inplace = True)"
      ]
    },
    {
      "cell_type": "markdown",
      "id": "19bb1023",
      "metadata": {
        "papermill": {
          "duration": 0.011095,
          "end_time": "2023-02-23T17:16:27.456726",
          "exception": false,
          "start_time": "2023-02-23T17:16:27.445631",
          "status": "completed"
        },
        "tags": [],
        "id": "19bb1023"
      },
      "source": [
        "#### Variant #3: One-Hot Encoding for each Dataframes\n",
        "One-hot encoding transforms categorical (object) data into numerical (int64); in other words: it transforms strings into numbers so that we can apply our Machine Learning algorithms without any problems"
      ]
    },
    {
      "cell_type": "code",
      "execution_count": null,
      "id": "9e4170c5",
      "metadata": {
        "execution": {
          "iopub.execute_input": "2023-02-23T17:16:27.479909Z",
          "iopub.status.busy": "2023-02-23T17:16:27.479479Z",
          "iopub.status.idle": "2023-02-23T17:16:27.584637Z",
          "shell.execute_reply": "2023-02-23T17:16:27.583530Z"
        },
        "papermill": {
          "duration": 0.119851,
          "end_time": "2023-02-23T17:16:27.587385",
          "exception": false,
          "start_time": "2023-02-23T17:16:27.467534",
          "status": "completed"
        },
        "tags": [],
        "id": "9e4170c5"
      },
      "outputs": [],
      "source": [
        "# Select all columns with object data type\n",
        "object_cols = train_df.select_dtypes(include='object')\n",
        "\n",
        "# Create 2 new DataFrame objects for OHE\n",
        "train_df_ohe = train_df\n",
        "test_df_ohe = test_df\n",
        "\n",
        "train_df_nulldropped_ohe = train_df_nulldropped\n",
        "test_df_nulldropped_ohe = test_df_nulldropped\n",
        "\n",
        "\n",
        "# Append the new columns from OHE to the OHE DataFrames\n",
        "for col in object_cols:\n",
        "    # OHE to train_df_ohe\n",
        "    col_ohe = pd.get_dummies(train_df[col], prefix=col)\n",
        "    train_df_ohe = pd.concat((train_df_ohe, col_ohe), axis=1).drop(col, axis=1)\n",
        "    # OHE to test_df_ohe\n",
        "    col_ohe = pd.get_dummies(test_df[col], prefix=col)\n",
        "    test_df_ohe = pd.concat((test_df_ohe, col_ohe), axis=1).drop(col, axis=1)\n",
        "    \n",
        "# Append the new columns from OHE to the OHE DataFrames\n",
        "for col in object_cols:\n",
        "    # OHE to train_df_ohe\n",
        "    col_ohe = pd.get_dummies(train_df_nulldropped[col], prefix=col)\n",
        "    train_df_nulldropped_ohe = pd.concat((train_df_nulldropped_ohe, col_ohe), axis=1).drop(col, axis=1)\n",
        "    # OHE to test_df_ohe\n",
        "    col_ohe = pd.get_dummies(test_df_nulldropped[col], prefix=col)\n",
        "    test_df_nulldropped_ohe = pd.concat((test_df_nulldropped_ohe, col_ohe), axis=1).drop(col, axis=1)\n",
        "        \n",
        "\n",
        "all_dataframes.append(\"train_df_ohe\")\n",
        "all_dataframes.append(\"test_df_ohe\")\n",
        "all_dataframes.append(\"train_df_nulldropped_ohe\")\n",
        "all_dataframes.append(\"test_df_nulldropped_ohe\")"
      ]
    },
    {
      "cell_type": "code",
      "execution_count": null,
      "id": "ace72f9b",
      "metadata": {
        "execution": {
          "iopub.execute_input": "2023-02-23T17:16:27.610449Z",
          "iopub.status.busy": "2023-02-23T17:16:27.610055Z",
          "iopub.status.idle": "2023-02-23T17:16:27.635360Z",
          "shell.execute_reply": "2023-02-23T17:16:27.634273Z"
        },
        "papermill": {
          "duration": 0.040005,
          "end_time": "2023-02-23T17:16:27.638247",
          "exception": false,
          "start_time": "2023-02-23T17:16:27.598242",
          "status": "completed"
        },
        "tags": [],
        "id": "ace72f9b",
        "outputId": "fdb23625-181e-44d7-f3a2-c1533b572ab0",
        "colab": {
          "base_uri": "https://localhost:8080/",
          "height": 224
        }
      },
      "outputs": [
        {
          "output_type": "execute_result",
          "data": {
            "text/plain": [
              "    Age  VIP  RoomService  FoodCourt  ShoppingMall     Spa  VRDeck  \\\n",
              "0  39.0    0          0.0        0.0           0.0     0.0     0.0   \n",
              "1  24.0    0        109.0        9.0          25.0   549.0    44.0   \n",
              "2  58.0    1         43.0     3576.0           0.0  6715.0    49.0   \n",
              "\n",
              "   Transported  GroupId  GroupPassId  Num  HomePlanet_Earth  \\\n",
              "0            0        1            1    0                 0   \n",
              "1            1        2            1    0                 1   \n",
              "2            0        3            1    0                 0   \n",
              "\n",
              "   HomePlanet_Europa  HomePlanet_Mars  HomePlanet_NoHomePlanetFound  \\\n",
              "0                  1                0                             0   \n",
              "1                  0                0                             0   \n",
              "2                  1                0                             0   \n",
              "\n",
              "   CryoSleep_False  CryoSleep_True  CryoSleep_NoCryoSleepFound  \\\n",
              "0                1               0                           0   \n",
              "1                1               0                           0   \n",
              "2                1               0                           0   \n",
              "\n",
              "   Destination_55 Cancri e  Destination_NoDestinationFound  \\\n",
              "0                        0                               0   \n",
              "1                        0                               0   \n",
              "2                        0                               0   \n",
              "\n",
              "   Destination_PSO J318.5-22  Destination_TRAPPIST-1e  Deck_A  Deck_B  Deck_C  \\\n",
              "0                          0                        1       0       1       0   \n",
              "1                          0                        1       0       0       0   \n",
              "2                          0                        1       1       0       0   \n",
              "\n",
              "   Deck_D  Deck_E  Deck_F  Deck_G  Deck_T  Side_P  Side_S  \n",
              "0       0       0       0       0       0       1       0  \n",
              "1       0       0       1       0       0       0       1  \n",
              "2       0       0       0       0       0       0       1  "
            ],
            "text/html": [
              "\n",
              "  <div id=\"df-ce737d56-0ae6-4cd5-9288-8d5b10cef8b3\">\n",
              "    <div class=\"colab-df-container\">\n",
              "      <div>\n",
              "<style scoped>\n",
              "    .dataframe tbody tr th:only-of-type {\n",
              "        vertical-align: middle;\n",
              "    }\n",
              "\n",
              "    .dataframe tbody tr th {\n",
              "        vertical-align: top;\n",
              "    }\n",
              "\n",
              "    .dataframe thead th {\n",
              "        text-align: right;\n",
              "    }\n",
              "</style>\n",
              "<table border=\"1\" class=\"dataframe\">\n",
              "  <thead>\n",
              "    <tr style=\"text-align: right;\">\n",
              "      <th></th>\n",
              "      <th>Age</th>\n",
              "      <th>VIP</th>\n",
              "      <th>RoomService</th>\n",
              "      <th>FoodCourt</th>\n",
              "      <th>ShoppingMall</th>\n",
              "      <th>Spa</th>\n",
              "      <th>VRDeck</th>\n",
              "      <th>Transported</th>\n",
              "      <th>GroupId</th>\n",
              "      <th>GroupPassId</th>\n",
              "      <th>Num</th>\n",
              "      <th>HomePlanet_Earth</th>\n",
              "      <th>HomePlanet_Europa</th>\n",
              "      <th>HomePlanet_Mars</th>\n",
              "      <th>HomePlanet_NoHomePlanetFound</th>\n",
              "      <th>CryoSleep_False</th>\n",
              "      <th>CryoSleep_True</th>\n",
              "      <th>CryoSleep_NoCryoSleepFound</th>\n",
              "      <th>Destination_55 Cancri e</th>\n",
              "      <th>Destination_NoDestinationFound</th>\n",
              "      <th>Destination_PSO J318.5-22</th>\n",
              "      <th>Destination_TRAPPIST-1e</th>\n",
              "      <th>Deck_A</th>\n",
              "      <th>Deck_B</th>\n",
              "      <th>Deck_C</th>\n",
              "      <th>Deck_D</th>\n",
              "      <th>Deck_E</th>\n",
              "      <th>Deck_F</th>\n",
              "      <th>Deck_G</th>\n",
              "      <th>Deck_T</th>\n",
              "      <th>Side_P</th>\n",
              "      <th>Side_S</th>\n",
              "    </tr>\n",
              "  </thead>\n",
              "  <tbody>\n",
              "    <tr>\n",
              "      <th>0</th>\n",
              "      <td>39.0</td>\n",
              "      <td>0</td>\n",
              "      <td>0.0</td>\n",
              "      <td>0.0</td>\n",
              "      <td>0.0</td>\n",
              "      <td>0.0</td>\n",
              "      <td>0.0</td>\n",
              "      <td>0</td>\n",
              "      <td>1</td>\n",
              "      <td>1</td>\n",
              "      <td>0</td>\n",
              "      <td>0</td>\n",
              "      <td>1</td>\n",
              "      <td>0</td>\n",
              "      <td>0</td>\n",
              "      <td>1</td>\n",
              "      <td>0</td>\n",
              "      <td>0</td>\n",
              "      <td>0</td>\n",
              "      <td>0</td>\n",
              "      <td>0</td>\n",
              "      <td>1</td>\n",
              "      <td>0</td>\n",
              "      <td>1</td>\n",
              "      <td>0</td>\n",
              "      <td>0</td>\n",
              "      <td>0</td>\n",
              "      <td>0</td>\n",
              "      <td>0</td>\n",
              "      <td>0</td>\n",
              "      <td>1</td>\n",
              "      <td>0</td>\n",
              "    </tr>\n",
              "    <tr>\n",
              "      <th>1</th>\n",
              "      <td>24.0</td>\n",
              "      <td>0</td>\n",
              "      <td>109.0</td>\n",
              "      <td>9.0</td>\n",
              "      <td>25.0</td>\n",
              "      <td>549.0</td>\n",
              "      <td>44.0</td>\n",
              "      <td>1</td>\n",
              "      <td>2</td>\n",
              "      <td>1</td>\n",
              "      <td>0</td>\n",
              "      <td>1</td>\n",
              "      <td>0</td>\n",
              "      <td>0</td>\n",
              "      <td>0</td>\n",
              "      <td>1</td>\n",
              "      <td>0</td>\n",
              "      <td>0</td>\n",
              "      <td>0</td>\n",
              "      <td>0</td>\n",
              "      <td>0</td>\n",
              "      <td>1</td>\n",
              "      <td>0</td>\n",
              "      <td>0</td>\n",
              "      <td>0</td>\n",
              "      <td>0</td>\n",
              "      <td>0</td>\n",
              "      <td>1</td>\n",
              "      <td>0</td>\n",
              "      <td>0</td>\n",
              "      <td>0</td>\n",
              "      <td>1</td>\n",
              "    </tr>\n",
              "    <tr>\n",
              "      <th>2</th>\n",
              "      <td>58.0</td>\n",
              "      <td>1</td>\n",
              "      <td>43.0</td>\n",
              "      <td>3576.0</td>\n",
              "      <td>0.0</td>\n",
              "      <td>6715.0</td>\n",
              "      <td>49.0</td>\n",
              "      <td>0</td>\n",
              "      <td>3</td>\n",
              "      <td>1</td>\n",
              "      <td>0</td>\n",
              "      <td>0</td>\n",
              "      <td>1</td>\n",
              "      <td>0</td>\n",
              "      <td>0</td>\n",
              "      <td>1</td>\n",
              "      <td>0</td>\n",
              "      <td>0</td>\n",
              "      <td>0</td>\n",
              "      <td>0</td>\n",
              "      <td>0</td>\n",
              "      <td>1</td>\n",
              "      <td>1</td>\n",
              "      <td>0</td>\n",
              "      <td>0</td>\n",
              "      <td>0</td>\n",
              "      <td>0</td>\n",
              "      <td>0</td>\n",
              "      <td>0</td>\n",
              "      <td>0</td>\n",
              "      <td>0</td>\n",
              "      <td>1</td>\n",
              "    </tr>\n",
              "  </tbody>\n",
              "</table>\n",
              "</div>\n",
              "      <button class=\"colab-df-convert\" onclick=\"convertToInteractive('df-ce737d56-0ae6-4cd5-9288-8d5b10cef8b3')\"\n",
              "              title=\"Convert this dataframe to an interactive table.\"\n",
              "              style=\"display:none;\">\n",
              "        \n",
              "  <svg xmlns=\"http://www.w3.org/2000/svg\" height=\"24px\"viewBox=\"0 0 24 24\"\n",
              "       width=\"24px\">\n",
              "    <path d=\"M0 0h24v24H0V0z\" fill=\"none\"/>\n",
              "    <path d=\"M18.56 5.44l.94 2.06.94-2.06 2.06-.94-2.06-.94-.94-2.06-.94 2.06-2.06.94zm-11 1L8.5 8.5l.94-2.06 2.06-.94-2.06-.94L8.5 2.5l-.94 2.06-2.06.94zm10 10l.94 2.06.94-2.06 2.06-.94-2.06-.94-.94-2.06-.94 2.06-2.06.94z\"/><path d=\"M17.41 7.96l-1.37-1.37c-.4-.4-.92-.59-1.43-.59-.52 0-1.04.2-1.43.59L10.3 9.45l-7.72 7.72c-.78.78-.78 2.05 0 2.83L4 21.41c.39.39.9.59 1.41.59.51 0 1.02-.2 1.41-.59l7.78-7.78 2.81-2.81c.8-.78.8-2.07 0-2.86zM5.41 20L4 18.59l7.72-7.72 1.47 1.35L5.41 20z\"/>\n",
              "  </svg>\n",
              "      </button>\n",
              "      \n",
              "  <style>\n",
              "    .colab-df-container {\n",
              "      display:flex;\n",
              "      flex-wrap:wrap;\n",
              "      gap: 12px;\n",
              "    }\n",
              "\n",
              "    .colab-df-convert {\n",
              "      background-color: #E8F0FE;\n",
              "      border: none;\n",
              "      border-radius: 50%;\n",
              "      cursor: pointer;\n",
              "      display: none;\n",
              "      fill: #1967D2;\n",
              "      height: 32px;\n",
              "      padding: 0 0 0 0;\n",
              "      width: 32px;\n",
              "    }\n",
              "\n",
              "    .colab-df-convert:hover {\n",
              "      background-color: #E2EBFA;\n",
              "      box-shadow: 0px 1px 2px rgba(60, 64, 67, 0.3), 0px 1px 3px 1px rgba(60, 64, 67, 0.15);\n",
              "      fill: #174EA6;\n",
              "    }\n",
              "\n",
              "    [theme=dark] .colab-df-convert {\n",
              "      background-color: #3B4455;\n",
              "      fill: #D2E3FC;\n",
              "    }\n",
              "\n",
              "    [theme=dark] .colab-df-convert:hover {\n",
              "      background-color: #434B5C;\n",
              "      box-shadow: 0px 1px 3px 1px rgba(0, 0, 0, 0.15);\n",
              "      filter: drop-shadow(0px 1px 2px rgba(0, 0, 0, 0.3));\n",
              "      fill: #FFFFFF;\n",
              "    }\n",
              "  </style>\n",
              "\n",
              "      <script>\n",
              "        const buttonEl =\n",
              "          document.querySelector('#df-ce737d56-0ae6-4cd5-9288-8d5b10cef8b3 button.colab-df-convert');\n",
              "        buttonEl.style.display =\n",
              "          google.colab.kernel.accessAllowed ? 'block' : 'none';\n",
              "\n",
              "        async function convertToInteractive(key) {\n",
              "          const element = document.querySelector('#df-ce737d56-0ae6-4cd5-9288-8d5b10cef8b3');\n",
              "          const dataTable =\n",
              "            await google.colab.kernel.invokeFunction('convertToInteractive',\n",
              "                                                     [key], {});\n",
              "          if (!dataTable) return;\n",
              "\n",
              "          const docLinkHtml = 'Like what you see? Visit the ' +\n",
              "            '<a target=\"_blank\" href=https://colab.research.google.com/notebooks/data_table.ipynb>data table notebook</a>'\n",
              "            + ' to learn more about interactive tables.';\n",
              "          element.innerHTML = '';\n",
              "          dataTable['output_type'] = 'display_data';\n",
              "          await google.colab.output.renderOutput(dataTable, element);\n",
              "          const docLink = document.createElement('div');\n",
              "          docLink.innerHTML = docLinkHtml;\n",
              "          element.appendChild(docLink);\n",
              "        }\n",
              "      </script>\n",
              "    </div>\n",
              "  </div>\n",
              "  "
            ]
          },
          "metadata": {},
          "execution_count": 127
        }
      ],
      "source": [
        "# Preview the first 3 rows in the dataframe\n",
        "train_df_ohe.head(3)"
      ]
    },
    {
      "cell_type": "code",
      "execution_count": null,
      "id": "6e4094fe",
      "metadata": {
        "execution": {
          "iopub.execute_input": "2023-02-23T17:16:27.663360Z",
          "iopub.status.busy": "2023-02-23T17:16:27.662927Z",
          "iopub.status.idle": "2023-02-23T17:16:27.687502Z",
          "shell.execute_reply": "2023-02-23T17:16:27.686422Z"
        },
        "papermill": {
          "duration": 0.039446,
          "end_time": "2023-02-23T17:16:27.689694",
          "exception": false,
          "start_time": "2023-02-23T17:16:27.650248",
          "status": "completed"
        },
        "tags": [],
        "id": "6e4094fe",
        "outputId": "b7ca0e24-9255-4228-abe3-3e4ebdaad8b4",
        "colab": {
          "base_uri": "https://localhost:8080/",
          "height": 224
        }
      },
      "outputs": [
        {
          "output_type": "execute_result",
          "data": {
            "text/plain": [
              "    Age  VIP  RoomService  FoodCourt  ShoppingMall     Spa  VRDeck  \\\n",
              "0  39.0    0          0.0        0.0           0.0     0.0     0.0   \n",
              "1  24.0    0        109.0        9.0          25.0   549.0    44.0   \n",
              "2  58.0    1         43.0     3576.0           0.0  6715.0    49.0   \n",
              "\n",
              "   Transported  GroupId  GroupPassId  Num  HomePlanet_Earth  \\\n",
              "0            0        1            1    0                 0   \n",
              "1            1        2            1    0                 1   \n",
              "2            0        3            1    0                 0   \n",
              "\n",
              "   HomePlanet_Europa  HomePlanet_Mars  CryoSleep_False  CryoSleep_True  \\\n",
              "0                  1                0                1               0   \n",
              "1                  0                0                1               0   \n",
              "2                  1                0                1               0   \n",
              "\n",
              "   Destination_55 Cancri e  Destination_PSO J318.5-22  \\\n",
              "0                        0                          0   \n",
              "1                        0                          0   \n",
              "2                        0                          0   \n",
              "\n",
              "   Destination_TRAPPIST-1e  Deck_A  Deck_B  Deck_C  Deck_D  Deck_E  Deck_F  \\\n",
              "0                        1       0       1       0       0       0       0   \n",
              "1                        1       0       0       0       0       0       1   \n",
              "2                        1       1       0       0       0       0       0   \n",
              "\n",
              "   Deck_G  Deck_T  Side_P  Side_S  \n",
              "0       0       0       1       0  \n",
              "1       0       0       0       1  \n",
              "2       0       0       0       1  "
            ],
            "text/html": [
              "\n",
              "  <div id=\"df-5c1cdff0-87e3-4bf1-87f0-3b857a5d9ce0\">\n",
              "    <div class=\"colab-df-container\">\n",
              "      <div>\n",
              "<style scoped>\n",
              "    .dataframe tbody tr th:only-of-type {\n",
              "        vertical-align: middle;\n",
              "    }\n",
              "\n",
              "    .dataframe tbody tr th {\n",
              "        vertical-align: top;\n",
              "    }\n",
              "\n",
              "    .dataframe thead th {\n",
              "        text-align: right;\n",
              "    }\n",
              "</style>\n",
              "<table border=\"1\" class=\"dataframe\">\n",
              "  <thead>\n",
              "    <tr style=\"text-align: right;\">\n",
              "      <th></th>\n",
              "      <th>Age</th>\n",
              "      <th>VIP</th>\n",
              "      <th>RoomService</th>\n",
              "      <th>FoodCourt</th>\n",
              "      <th>ShoppingMall</th>\n",
              "      <th>Spa</th>\n",
              "      <th>VRDeck</th>\n",
              "      <th>Transported</th>\n",
              "      <th>GroupId</th>\n",
              "      <th>GroupPassId</th>\n",
              "      <th>Num</th>\n",
              "      <th>HomePlanet_Earth</th>\n",
              "      <th>HomePlanet_Europa</th>\n",
              "      <th>HomePlanet_Mars</th>\n",
              "      <th>CryoSleep_False</th>\n",
              "      <th>CryoSleep_True</th>\n",
              "      <th>Destination_55 Cancri e</th>\n",
              "      <th>Destination_PSO J318.5-22</th>\n",
              "      <th>Destination_TRAPPIST-1e</th>\n",
              "      <th>Deck_A</th>\n",
              "      <th>Deck_B</th>\n",
              "      <th>Deck_C</th>\n",
              "      <th>Deck_D</th>\n",
              "      <th>Deck_E</th>\n",
              "      <th>Deck_F</th>\n",
              "      <th>Deck_G</th>\n",
              "      <th>Deck_T</th>\n",
              "      <th>Side_P</th>\n",
              "      <th>Side_S</th>\n",
              "    </tr>\n",
              "  </thead>\n",
              "  <tbody>\n",
              "    <tr>\n",
              "      <th>0</th>\n",
              "      <td>39.0</td>\n",
              "      <td>0</td>\n",
              "      <td>0.0</td>\n",
              "      <td>0.0</td>\n",
              "      <td>0.0</td>\n",
              "      <td>0.0</td>\n",
              "      <td>0.0</td>\n",
              "      <td>0</td>\n",
              "      <td>1</td>\n",
              "      <td>1</td>\n",
              "      <td>0</td>\n",
              "      <td>0</td>\n",
              "      <td>1</td>\n",
              "      <td>0</td>\n",
              "      <td>1</td>\n",
              "      <td>0</td>\n",
              "      <td>0</td>\n",
              "      <td>0</td>\n",
              "      <td>1</td>\n",
              "      <td>0</td>\n",
              "      <td>1</td>\n",
              "      <td>0</td>\n",
              "      <td>0</td>\n",
              "      <td>0</td>\n",
              "      <td>0</td>\n",
              "      <td>0</td>\n",
              "      <td>0</td>\n",
              "      <td>1</td>\n",
              "      <td>0</td>\n",
              "    </tr>\n",
              "    <tr>\n",
              "      <th>1</th>\n",
              "      <td>24.0</td>\n",
              "      <td>0</td>\n",
              "      <td>109.0</td>\n",
              "      <td>9.0</td>\n",
              "      <td>25.0</td>\n",
              "      <td>549.0</td>\n",
              "      <td>44.0</td>\n",
              "      <td>1</td>\n",
              "      <td>2</td>\n",
              "      <td>1</td>\n",
              "      <td>0</td>\n",
              "      <td>1</td>\n",
              "      <td>0</td>\n",
              "      <td>0</td>\n",
              "      <td>1</td>\n",
              "      <td>0</td>\n",
              "      <td>0</td>\n",
              "      <td>0</td>\n",
              "      <td>1</td>\n",
              "      <td>0</td>\n",
              "      <td>0</td>\n",
              "      <td>0</td>\n",
              "      <td>0</td>\n",
              "      <td>0</td>\n",
              "      <td>1</td>\n",
              "      <td>0</td>\n",
              "      <td>0</td>\n",
              "      <td>0</td>\n",
              "      <td>1</td>\n",
              "    </tr>\n",
              "    <tr>\n",
              "      <th>2</th>\n",
              "      <td>58.0</td>\n",
              "      <td>1</td>\n",
              "      <td>43.0</td>\n",
              "      <td>3576.0</td>\n",
              "      <td>0.0</td>\n",
              "      <td>6715.0</td>\n",
              "      <td>49.0</td>\n",
              "      <td>0</td>\n",
              "      <td>3</td>\n",
              "      <td>1</td>\n",
              "      <td>0</td>\n",
              "      <td>0</td>\n",
              "      <td>1</td>\n",
              "      <td>0</td>\n",
              "      <td>1</td>\n",
              "      <td>0</td>\n",
              "      <td>0</td>\n",
              "      <td>0</td>\n",
              "      <td>1</td>\n",
              "      <td>1</td>\n",
              "      <td>0</td>\n",
              "      <td>0</td>\n",
              "      <td>0</td>\n",
              "      <td>0</td>\n",
              "      <td>0</td>\n",
              "      <td>0</td>\n",
              "      <td>0</td>\n",
              "      <td>0</td>\n",
              "      <td>1</td>\n",
              "    </tr>\n",
              "  </tbody>\n",
              "</table>\n",
              "</div>\n",
              "      <button class=\"colab-df-convert\" onclick=\"convertToInteractive('df-5c1cdff0-87e3-4bf1-87f0-3b857a5d9ce0')\"\n",
              "              title=\"Convert this dataframe to an interactive table.\"\n",
              "              style=\"display:none;\">\n",
              "        \n",
              "  <svg xmlns=\"http://www.w3.org/2000/svg\" height=\"24px\"viewBox=\"0 0 24 24\"\n",
              "       width=\"24px\">\n",
              "    <path d=\"M0 0h24v24H0V0z\" fill=\"none\"/>\n",
              "    <path d=\"M18.56 5.44l.94 2.06.94-2.06 2.06-.94-2.06-.94-.94-2.06-.94 2.06-2.06.94zm-11 1L8.5 8.5l.94-2.06 2.06-.94-2.06-.94L8.5 2.5l-.94 2.06-2.06.94zm10 10l.94 2.06.94-2.06 2.06-.94-2.06-.94-.94-2.06-.94 2.06-2.06.94z\"/><path d=\"M17.41 7.96l-1.37-1.37c-.4-.4-.92-.59-1.43-.59-.52 0-1.04.2-1.43.59L10.3 9.45l-7.72 7.72c-.78.78-.78 2.05 0 2.83L4 21.41c.39.39.9.59 1.41.59.51 0 1.02-.2 1.41-.59l7.78-7.78 2.81-2.81c.8-.78.8-2.07 0-2.86zM5.41 20L4 18.59l7.72-7.72 1.47 1.35L5.41 20z\"/>\n",
              "  </svg>\n",
              "      </button>\n",
              "      \n",
              "  <style>\n",
              "    .colab-df-container {\n",
              "      display:flex;\n",
              "      flex-wrap:wrap;\n",
              "      gap: 12px;\n",
              "    }\n",
              "\n",
              "    .colab-df-convert {\n",
              "      background-color: #E8F0FE;\n",
              "      border: none;\n",
              "      border-radius: 50%;\n",
              "      cursor: pointer;\n",
              "      display: none;\n",
              "      fill: #1967D2;\n",
              "      height: 32px;\n",
              "      padding: 0 0 0 0;\n",
              "      width: 32px;\n",
              "    }\n",
              "\n",
              "    .colab-df-convert:hover {\n",
              "      background-color: #E2EBFA;\n",
              "      box-shadow: 0px 1px 2px rgba(60, 64, 67, 0.3), 0px 1px 3px 1px rgba(60, 64, 67, 0.15);\n",
              "      fill: #174EA6;\n",
              "    }\n",
              "\n",
              "    [theme=dark] .colab-df-convert {\n",
              "      background-color: #3B4455;\n",
              "      fill: #D2E3FC;\n",
              "    }\n",
              "\n",
              "    [theme=dark] .colab-df-convert:hover {\n",
              "      background-color: #434B5C;\n",
              "      box-shadow: 0px 1px 3px 1px rgba(0, 0, 0, 0.15);\n",
              "      filter: drop-shadow(0px 1px 2px rgba(0, 0, 0, 0.3));\n",
              "      fill: #FFFFFF;\n",
              "    }\n",
              "  </style>\n",
              "\n",
              "      <script>\n",
              "        const buttonEl =\n",
              "          document.querySelector('#df-5c1cdff0-87e3-4bf1-87f0-3b857a5d9ce0 button.colab-df-convert');\n",
              "        buttonEl.style.display =\n",
              "          google.colab.kernel.accessAllowed ? 'block' : 'none';\n",
              "\n",
              "        async function convertToInteractive(key) {\n",
              "          const element = document.querySelector('#df-5c1cdff0-87e3-4bf1-87f0-3b857a5d9ce0');\n",
              "          const dataTable =\n",
              "            await google.colab.kernel.invokeFunction('convertToInteractive',\n",
              "                                                     [key], {});\n",
              "          if (!dataTable) return;\n",
              "\n",
              "          const docLinkHtml = 'Like what you see? Visit the ' +\n",
              "            '<a target=\"_blank\" href=https://colab.research.google.com/notebooks/data_table.ipynb>data table notebook</a>'\n",
              "            + ' to learn more about interactive tables.';\n",
              "          element.innerHTML = '';\n",
              "          dataTable['output_type'] = 'display_data';\n",
              "          await google.colab.output.renderOutput(dataTable, element);\n",
              "          const docLink = document.createElement('div');\n",
              "          docLink.innerHTML = docLinkHtml;\n",
              "          element.appendChild(docLink);\n",
              "        }\n",
              "      </script>\n",
              "    </div>\n",
              "  </div>\n",
              "  "
            ]
          },
          "metadata": {},
          "execution_count": 128
        }
      ],
      "source": [
        "# Preview the first 3 rows in the dataframe\n",
        "train_df_nulldropped_ohe.head(3)"
      ]
    },
    {
      "cell_type": "markdown",
      "id": "78a1a4cf",
      "metadata": {
        "papermill": {
          "duration": 0.010836,
          "end_time": "2023-02-23T17:16:27.733947",
          "exception": false,
          "start_time": "2023-02-23T17:16:27.723111",
          "status": "completed"
        },
        "tags": [],
        "id": "78a1a4cf"
      },
      "source": [
        "## Data Analysis"
      ]
    },
    {
      "cell_type": "code",
      "execution_count": null,
      "id": "49f287aa",
      "metadata": {
        "execution": {
          "iopub.execute_input": "2023-02-23T17:16:27.757720Z",
          "iopub.status.busy": "2023-02-23T17:16:27.757348Z",
          "iopub.status.idle": "2023-02-23T17:16:27.764094Z",
          "shell.execute_reply": "2023-02-23T17:16:27.762964Z"
        },
        "papermill": {
          "duration": 0.021202,
          "end_time": "2023-02-23T17:16:27.766231",
          "exception": false,
          "start_time": "2023-02-23T17:16:27.745029",
          "status": "completed"
        },
        "tags": [],
        "id": "49f287aa",
        "outputId": "6e090911-78e0-426b-a522-861d83276c32",
        "colab": {
          "base_uri": "https://localhost:8080/"
        }
      },
      "outputs": [
        {
          "output_type": "execute_result",
          "data": {
            "text/plain": [
              "['train_df',\n",
              " 'test_df',\n",
              " 'train_df_nulldropped',\n",
              " 'test_df_nulldropped',\n",
              " 'train_df_ohe',\n",
              " 'test_df_ohe',\n",
              " 'train_df_nulldropped_ohe',\n",
              " 'test_df_nulldropped_ohe']"
            ]
          },
          "metadata": {},
          "execution_count": 129
        }
      ],
      "source": [
        "all_dataframes"
      ]
    },
    {
      "cell_type": "code",
      "execution_count": null,
      "id": "66b9aec3",
      "metadata": {
        "papermill": {
          "duration": 0.010902,
          "end_time": "2023-02-23T17:16:27.810445",
          "exception": false,
          "start_time": "2023-02-23T17:16:27.799543",
          "status": "completed"
        },
        "tags": [],
        "id": "66b9aec3",
        "colab": {
          "base_uri": "https://localhost:8080/",
          "height": 287
        },
        "outputId": "018043aa-7f25-4019-83ce-9b78b81d92a7"
      },
      "outputs": [
        {
          "output_type": "execute_result",
          "data": {
            "text/plain": [
              "  HomePlanet CryoSleep  Destination   Age  VIP  RoomService  FoodCourt  \\\n",
              "0     Europa     False  TRAPPIST-1e  39.0    0          0.0        0.0   \n",
              "1      Earth     False  TRAPPIST-1e  24.0    0        109.0        9.0   \n",
              "2     Europa     False  TRAPPIST-1e  58.0    1         43.0     3576.0   \n",
              "3     Europa     False  TRAPPIST-1e  33.0    0          0.0     1283.0   \n",
              "4      Earth     False  TRAPPIST-1e  16.0    0        303.0       70.0   \n",
              "\n",
              "   ShoppingMall     Spa  VRDeck  Transported  GroupId  GroupPassId Deck  Num  \\\n",
              "0           0.0     0.0     0.0          0.0        1            1    B    0   \n",
              "1          25.0   549.0    44.0          1.0        2            1    F    0   \n",
              "2           0.0  6715.0    49.0          0.0        3            1    A    0   \n",
              "3         371.0  3329.0   193.0          0.0        3            2    A    0   \n",
              "4         151.0   565.0     2.0          1.0        4            1    F    1   \n",
              "\n",
              "  Side  HomePlanet_Earth  HomePlanet_Europa  HomePlanet_Mars  \\\n",
              "0    P               NaN                NaN              NaN   \n",
              "1    S               NaN                NaN              NaN   \n",
              "2    S               NaN                NaN              NaN   \n",
              "3    S               NaN                NaN              NaN   \n",
              "4    S               NaN                NaN              NaN   \n",
              "\n",
              "   HomePlanet_NoHomePlanetFound  CryoSleep_False  CryoSleep_True  \\\n",
              "0                           NaN              NaN             NaN   \n",
              "1                           NaN              NaN             NaN   \n",
              "2                           NaN              NaN             NaN   \n",
              "3                           NaN              NaN             NaN   \n",
              "4                           NaN              NaN             NaN   \n",
              "\n",
              "   CryoSleep_NoCryoSleepFound  Destination_55 Cancri e  \\\n",
              "0                         NaN                      NaN   \n",
              "1                         NaN                      NaN   \n",
              "2                         NaN                      NaN   \n",
              "3                         NaN                      NaN   \n",
              "4                         NaN                      NaN   \n",
              "\n",
              "   Destination_NoDestinationFound  Destination_PSO J318.5-22  \\\n",
              "0                             NaN                        NaN   \n",
              "1                             NaN                        NaN   \n",
              "2                             NaN                        NaN   \n",
              "3                             NaN                        NaN   \n",
              "4                             NaN                        NaN   \n",
              "\n",
              "   Destination_TRAPPIST-1e  Deck_A  Deck_B  Deck_C  Deck_D  Deck_E  Deck_F  \\\n",
              "0                      NaN     NaN     NaN     NaN     NaN     NaN     NaN   \n",
              "1                      NaN     NaN     NaN     NaN     NaN     NaN     NaN   \n",
              "2                      NaN     NaN     NaN     NaN     NaN     NaN     NaN   \n",
              "3                      NaN     NaN     NaN     NaN     NaN     NaN     NaN   \n",
              "4                      NaN     NaN     NaN     NaN     NaN     NaN     NaN   \n",
              "\n",
              "   Deck_G  Deck_T  Side_P  Side_S  \n",
              "0     NaN     NaN     NaN     NaN  \n",
              "1     NaN     NaN     NaN     NaN  \n",
              "2     NaN     NaN     NaN     NaN  \n",
              "3     NaN     NaN     NaN     NaN  \n",
              "4     NaN     NaN     NaN     NaN  "
            ],
            "text/html": [
              "\n",
              "  <div id=\"df-5dfb6a3a-345b-49b0-84b1-9664d64ab292\">\n",
              "    <div class=\"colab-df-container\">\n",
              "      <div>\n",
              "<style scoped>\n",
              "    .dataframe tbody tr th:only-of-type {\n",
              "        vertical-align: middle;\n",
              "    }\n",
              "\n",
              "    .dataframe tbody tr th {\n",
              "        vertical-align: top;\n",
              "    }\n",
              "\n",
              "    .dataframe thead th {\n",
              "        text-align: right;\n",
              "    }\n",
              "</style>\n",
              "<table border=\"1\" class=\"dataframe\">\n",
              "  <thead>\n",
              "    <tr style=\"text-align: right;\">\n",
              "      <th></th>\n",
              "      <th>HomePlanet</th>\n",
              "      <th>CryoSleep</th>\n",
              "      <th>Destination</th>\n",
              "      <th>Age</th>\n",
              "      <th>VIP</th>\n",
              "      <th>RoomService</th>\n",
              "      <th>FoodCourt</th>\n",
              "      <th>ShoppingMall</th>\n",
              "      <th>Spa</th>\n",
              "      <th>VRDeck</th>\n",
              "      <th>Transported</th>\n",
              "      <th>GroupId</th>\n",
              "      <th>GroupPassId</th>\n",
              "      <th>Deck</th>\n",
              "      <th>Num</th>\n",
              "      <th>Side</th>\n",
              "      <th>HomePlanet_Earth</th>\n",
              "      <th>HomePlanet_Europa</th>\n",
              "      <th>HomePlanet_Mars</th>\n",
              "      <th>HomePlanet_NoHomePlanetFound</th>\n",
              "      <th>CryoSleep_False</th>\n",
              "      <th>CryoSleep_True</th>\n",
              "      <th>CryoSleep_NoCryoSleepFound</th>\n",
              "      <th>Destination_55 Cancri e</th>\n",
              "      <th>Destination_NoDestinationFound</th>\n",
              "      <th>Destination_PSO J318.5-22</th>\n",
              "      <th>Destination_TRAPPIST-1e</th>\n",
              "      <th>Deck_A</th>\n",
              "      <th>Deck_B</th>\n",
              "      <th>Deck_C</th>\n",
              "      <th>Deck_D</th>\n",
              "      <th>Deck_E</th>\n",
              "      <th>Deck_F</th>\n",
              "      <th>Deck_G</th>\n",
              "      <th>Deck_T</th>\n",
              "      <th>Side_P</th>\n",
              "      <th>Side_S</th>\n",
              "    </tr>\n",
              "  </thead>\n",
              "  <tbody>\n",
              "    <tr>\n",
              "      <th>0</th>\n",
              "      <td>Europa</td>\n",
              "      <td>False</td>\n",
              "      <td>TRAPPIST-1e</td>\n",
              "      <td>39.0</td>\n",
              "      <td>0</td>\n",
              "      <td>0.0</td>\n",
              "      <td>0.0</td>\n",
              "      <td>0.0</td>\n",
              "      <td>0.0</td>\n",
              "      <td>0.0</td>\n",
              "      <td>0.0</td>\n",
              "      <td>1</td>\n",
              "      <td>1</td>\n",
              "      <td>B</td>\n",
              "      <td>0</td>\n",
              "      <td>P</td>\n",
              "      <td>NaN</td>\n",
              "      <td>NaN</td>\n",
              "      <td>NaN</td>\n",
              "      <td>NaN</td>\n",
              "      <td>NaN</td>\n",
              "      <td>NaN</td>\n",
              "      <td>NaN</td>\n",
              "      <td>NaN</td>\n",
              "      <td>NaN</td>\n",
              "      <td>NaN</td>\n",
              "      <td>NaN</td>\n",
              "      <td>NaN</td>\n",
              "      <td>NaN</td>\n",
              "      <td>NaN</td>\n",
              "      <td>NaN</td>\n",
              "      <td>NaN</td>\n",
              "      <td>NaN</td>\n",
              "      <td>NaN</td>\n",
              "      <td>NaN</td>\n",
              "      <td>NaN</td>\n",
              "      <td>NaN</td>\n",
              "    </tr>\n",
              "    <tr>\n",
              "      <th>1</th>\n",
              "      <td>Earth</td>\n",
              "      <td>False</td>\n",
              "      <td>TRAPPIST-1e</td>\n",
              "      <td>24.0</td>\n",
              "      <td>0</td>\n",
              "      <td>109.0</td>\n",
              "      <td>9.0</td>\n",
              "      <td>25.0</td>\n",
              "      <td>549.0</td>\n",
              "      <td>44.0</td>\n",
              "      <td>1.0</td>\n",
              "      <td>2</td>\n",
              "      <td>1</td>\n",
              "      <td>F</td>\n",
              "      <td>0</td>\n",
              "      <td>S</td>\n",
              "      <td>NaN</td>\n",
              "      <td>NaN</td>\n",
              "      <td>NaN</td>\n",
              "      <td>NaN</td>\n",
              "      <td>NaN</td>\n",
              "      <td>NaN</td>\n",
              "      <td>NaN</td>\n",
              "      <td>NaN</td>\n",
              "      <td>NaN</td>\n",
              "      <td>NaN</td>\n",
              "      <td>NaN</td>\n",
              "      <td>NaN</td>\n",
              "      <td>NaN</td>\n",
              "      <td>NaN</td>\n",
              "      <td>NaN</td>\n",
              "      <td>NaN</td>\n",
              "      <td>NaN</td>\n",
              "      <td>NaN</td>\n",
              "      <td>NaN</td>\n",
              "      <td>NaN</td>\n",
              "      <td>NaN</td>\n",
              "    </tr>\n",
              "    <tr>\n",
              "      <th>2</th>\n",
              "      <td>Europa</td>\n",
              "      <td>False</td>\n",
              "      <td>TRAPPIST-1e</td>\n",
              "      <td>58.0</td>\n",
              "      <td>1</td>\n",
              "      <td>43.0</td>\n",
              "      <td>3576.0</td>\n",
              "      <td>0.0</td>\n",
              "      <td>6715.0</td>\n",
              "      <td>49.0</td>\n",
              "      <td>0.0</td>\n",
              "      <td>3</td>\n",
              "      <td>1</td>\n",
              "      <td>A</td>\n",
              "      <td>0</td>\n",
              "      <td>S</td>\n",
              "      <td>NaN</td>\n",
              "      <td>NaN</td>\n",
              "      <td>NaN</td>\n",
              "      <td>NaN</td>\n",
              "      <td>NaN</td>\n",
              "      <td>NaN</td>\n",
              "      <td>NaN</td>\n",
              "      <td>NaN</td>\n",
              "      <td>NaN</td>\n",
              "      <td>NaN</td>\n",
              "      <td>NaN</td>\n",
              "      <td>NaN</td>\n",
              "      <td>NaN</td>\n",
              "      <td>NaN</td>\n",
              "      <td>NaN</td>\n",
              "      <td>NaN</td>\n",
              "      <td>NaN</td>\n",
              "      <td>NaN</td>\n",
              "      <td>NaN</td>\n",
              "      <td>NaN</td>\n",
              "      <td>NaN</td>\n",
              "    </tr>\n",
              "    <tr>\n",
              "      <th>3</th>\n",
              "      <td>Europa</td>\n",
              "      <td>False</td>\n",
              "      <td>TRAPPIST-1e</td>\n",
              "      <td>33.0</td>\n",
              "      <td>0</td>\n",
              "      <td>0.0</td>\n",
              "      <td>1283.0</td>\n",
              "      <td>371.0</td>\n",
              "      <td>3329.0</td>\n",
              "      <td>193.0</td>\n",
              "      <td>0.0</td>\n",
              "      <td>3</td>\n",
              "      <td>2</td>\n",
              "      <td>A</td>\n",
              "      <td>0</td>\n",
              "      <td>S</td>\n",
              "      <td>NaN</td>\n",
              "      <td>NaN</td>\n",
              "      <td>NaN</td>\n",
              "      <td>NaN</td>\n",
              "      <td>NaN</td>\n",
              "      <td>NaN</td>\n",
              "      <td>NaN</td>\n",
              "      <td>NaN</td>\n",
              "      <td>NaN</td>\n",
              "      <td>NaN</td>\n",
              "      <td>NaN</td>\n",
              "      <td>NaN</td>\n",
              "      <td>NaN</td>\n",
              "      <td>NaN</td>\n",
              "      <td>NaN</td>\n",
              "      <td>NaN</td>\n",
              "      <td>NaN</td>\n",
              "      <td>NaN</td>\n",
              "      <td>NaN</td>\n",
              "      <td>NaN</td>\n",
              "      <td>NaN</td>\n",
              "    </tr>\n",
              "    <tr>\n",
              "      <th>4</th>\n",
              "      <td>Earth</td>\n",
              "      <td>False</td>\n",
              "      <td>TRAPPIST-1e</td>\n",
              "      <td>16.0</td>\n",
              "      <td>0</td>\n",
              "      <td>303.0</td>\n",
              "      <td>70.0</td>\n",
              "      <td>151.0</td>\n",
              "      <td>565.0</td>\n",
              "      <td>2.0</td>\n",
              "      <td>1.0</td>\n",
              "      <td>4</td>\n",
              "      <td>1</td>\n",
              "      <td>F</td>\n",
              "      <td>1</td>\n",
              "      <td>S</td>\n",
              "      <td>NaN</td>\n",
              "      <td>NaN</td>\n",
              "      <td>NaN</td>\n",
              "      <td>NaN</td>\n",
              "      <td>NaN</td>\n",
              "      <td>NaN</td>\n",
              "      <td>NaN</td>\n",
              "      <td>NaN</td>\n",
              "      <td>NaN</td>\n",
              "      <td>NaN</td>\n",
              "      <td>NaN</td>\n",
              "      <td>NaN</td>\n",
              "      <td>NaN</td>\n",
              "      <td>NaN</td>\n",
              "      <td>NaN</td>\n",
              "      <td>NaN</td>\n",
              "      <td>NaN</td>\n",
              "      <td>NaN</td>\n",
              "      <td>NaN</td>\n",
              "      <td>NaN</td>\n",
              "      <td>NaN</td>\n",
              "    </tr>\n",
              "  </tbody>\n",
              "</table>\n",
              "</div>\n",
              "      <button class=\"colab-df-convert\" onclick=\"convertToInteractive('df-5dfb6a3a-345b-49b0-84b1-9664d64ab292')\"\n",
              "              title=\"Convert this dataframe to an interactive table.\"\n",
              "              style=\"display:none;\">\n",
              "        \n",
              "  <svg xmlns=\"http://www.w3.org/2000/svg\" height=\"24px\"viewBox=\"0 0 24 24\"\n",
              "       width=\"24px\">\n",
              "    <path d=\"M0 0h24v24H0V0z\" fill=\"none\"/>\n",
              "    <path d=\"M18.56 5.44l.94 2.06.94-2.06 2.06-.94-2.06-.94-.94-2.06-.94 2.06-2.06.94zm-11 1L8.5 8.5l.94-2.06 2.06-.94-2.06-.94L8.5 2.5l-.94 2.06-2.06.94zm10 10l.94 2.06.94-2.06 2.06-.94-2.06-.94-.94-2.06-.94 2.06-2.06.94z\"/><path d=\"M17.41 7.96l-1.37-1.37c-.4-.4-.92-.59-1.43-.59-.52 0-1.04.2-1.43.59L10.3 9.45l-7.72 7.72c-.78.78-.78 2.05 0 2.83L4 21.41c.39.39.9.59 1.41.59.51 0 1.02-.2 1.41-.59l7.78-7.78 2.81-2.81c.8-.78.8-2.07 0-2.86zM5.41 20L4 18.59l7.72-7.72 1.47 1.35L5.41 20z\"/>\n",
              "  </svg>\n",
              "      </button>\n",
              "      \n",
              "  <style>\n",
              "    .colab-df-container {\n",
              "      display:flex;\n",
              "      flex-wrap:wrap;\n",
              "      gap: 12px;\n",
              "    }\n",
              "\n",
              "    .colab-df-convert {\n",
              "      background-color: #E8F0FE;\n",
              "      border: none;\n",
              "      border-radius: 50%;\n",
              "      cursor: pointer;\n",
              "      display: none;\n",
              "      fill: #1967D2;\n",
              "      height: 32px;\n",
              "      padding: 0 0 0 0;\n",
              "      width: 32px;\n",
              "    }\n",
              "\n",
              "    .colab-df-convert:hover {\n",
              "      background-color: #E2EBFA;\n",
              "      box-shadow: 0px 1px 2px rgba(60, 64, 67, 0.3), 0px 1px 3px 1px rgba(60, 64, 67, 0.15);\n",
              "      fill: #174EA6;\n",
              "    }\n",
              "\n",
              "    [theme=dark] .colab-df-convert {\n",
              "      background-color: #3B4455;\n",
              "      fill: #D2E3FC;\n",
              "    }\n",
              "\n",
              "    [theme=dark] .colab-df-convert:hover {\n",
              "      background-color: #434B5C;\n",
              "      box-shadow: 0px 1px 3px 1px rgba(0, 0, 0, 0.15);\n",
              "      filter: drop-shadow(0px 1px 2px rgba(0, 0, 0, 0.3));\n",
              "      fill: #FFFFFF;\n",
              "    }\n",
              "  </style>\n",
              "\n",
              "      <script>\n",
              "        const buttonEl =\n",
              "          document.querySelector('#df-5dfb6a3a-345b-49b0-84b1-9664d64ab292 button.colab-df-convert');\n",
              "        buttonEl.style.display =\n",
              "          google.colab.kernel.accessAllowed ? 'block' : 'none';\n",
              "\n",
              "        async function convertToInteractive(key) {\n",
              "          const element = document.querySelector('#df-5dfb6a3a-345b-49b0-84b1-9664d64ab292');\n",
              "          const dataTable =\n",
              "            await google.colab.kernel.invokeFunction('convertToInteractive',\n",
              "                                                     [key], {});\n",
              "          if (!dataTable) return;\n",
              "\n",
              "          const docLinkHtml = 'Like what you see? Visit the ' +\n",
              "            '<a target=\"_blank\" href=https://colab.research.google.com/notebooks/data_table.ipynb>data table notebook</a>'\n",
              "            + ' to learn more about interactive tables.';\n",
              "          element.innerHTML = '';\n",
              "          dataTable['output_type'] = 'display_data';\n",
              "          await google.colab.output.renderOutput(dataTable, element);\n",
              "          const docLink = document.createElement('div');\n",
              "          docLink.innerHTML = docLinkHtml;\n",
              "          element.appendChild(docLink);\n",
              "        }\n",
              "      </script>\n",
              "    </div>\n",
              "  </div>\n",
              "  "
            ]
          },
          "metadata": {},
          "execution_count": 130
        }
      ],
      "source": [
        "# For Data Analysis\n",
        "df = pd.concat([train_df,test_df,train_df_nulldropped,test_df_nulldropped,train_df_ohe, test_df_ohe,train_df_nulldropped_ohe, test_df_nulldropped_ohe])\n",
        "df.head()\n"
      ]
    },
    {
      "cell_type": "markdown",
      "source": [
        "##Hiram"
      ],
      "metadata": {
        "id": "71ynhLG9rqeP"
      },
      "id": "71ynhLG9rqeP"
    },
    {
      "cell_type": "markdown",
      "source": [
        "## HomePlanet Analysis"
      ],
      "metadata": {
        "id": "Ea3TBs00g5Pv"
      },
      "id": "Ea3TBs00g5Pv"
    },
    {
      "cell_type": "code",
      "source": [
        "df[\"HomePlanet\"]"
      ],
      "metadata": {
        "id": "2w0Uk25PKJMv",
        "colab": {
          "base_uri": "https://localhost:8080/"
        },
        "outputId": "6c3cee76-8eeb-4189-9ec9-dee41b7e3fd7"
      },
      "id": "2w0Uk25PKJMv",
      "execution_count": null,
      "outputs": [
        {
          "output_type": "execute_result",
          "data": {
            "text/plain": [
              "0       Europa\n",
              "1        Earth\n",
              "2       Europa\n",
              "3       Europa\n",
              "4        Earth\n",
              "         ...  \n",
              "4269       NaN\n",
              "4270       NaN\n",
              "4271       NaN\n",
              "4272       NaN\n",
              "4276       NaN\n",
              "Name: HomePlanet, Length: 46656, dtype: object"
            ]
          },
          "metadata": {},
          "execution_count": 131
        }
      ]
    },
    {
      "cell_type": "markdown",
      "source": [
        "Hypothesis 1: The first plot shows that Earth had the highest population, Europa was 2nd, and Mars was third."
      ],
      "metadata": {
        "id": "pKr88P3O3RQs"
      },
      "id": "pKr88P3O3RQs"
    },
    {
      "cell_type": "code",
      "source": [
        "sns.countplot(df[\"HomePlanet\"], edgecolor=sns.color_palette(\"dark\"))\n",
        "plt.ylabel(\"count (people)\")\n",
        "plt.show()\n",
        "\n",
        "df['HomePlanet'].value_counts()"
      ],
      "metadata": {
        "colab": {
          "base_uri": "https://localhost:8080/",
          "height": 394
        },
        "id": "JhN23DDOwzKd",
        "outputId": "884e28a4-0015-407a-8a89-8a547566a9c8"
      },
      "id": "JhN23DDOwzKd",
      "execution_count": null,
      "outputs": [
        {
          "output_type": "error",
          "ename": "ValueError",
          "evalue": "ignored",
          "traceback": [
            "\u001b[0;31m---------------------------------------------------------------------------\u001b[0m",
            "\u001b[0;31mValueError\u001b[0m                                Traceback (most recent call last)",
            "\u001b[0;32m<ipython-input-132-26682eaf485e>\u001b[0m in \u001b[0;36m<cell line: 1>\u001b[0;34m()\u001b[0m\n\u001b[0;32m----> 1\u001b[0;31m \u001b[0msns\u001b[0m\u001b[0;34m.\u001b[0m\u001b[0mcountplot\u001b[0m\u001b[0;34m(\u001b[0m\u001b[0mdf\u001b[0m\u001b[0;34m[\u001b[0m\u001b[0;34m\"HomePlanet\"\u001b[0m\u001b[0;34m]\u001b[0m\u001b[0;34m,\u001b[0m \u001b[0medgecolor\u001b[0m\u001b[0;34m=\u001b[0m\u001b[0msns\u001b[0m\u001b[0;34m.\u001b[0m\u001b[0mcolor_palette\u001b[0m\u001b[0;34m(\u001b[0m\u001b[0;34m\"dark\"\u001b[0m\u001b[0;34m)\u001b[0m\u001b[0;34m)\u001b[0m\u001b[0;34m\u001b[0m\u001b[0;34m\u001b[0m\u001b[0m\n\u001b[0m\u001b[1;32m      2\u001b[0m \u001b[0mplt\u001b[0m\u001b[0;34m.\u001b[0m\u001b[0mylabel\u001b[0m\u001b[0;34m(\u001b[0m\u001b[0;34m\"count (people)\"\u001b[0m\u001b[0;34m)\u001b[0m\u001b[0;34m\u001b[0m\u001b[0;34m\u001b[0m\u001b[0m\n\u001b[1;32m      3\u001b[0m \u001b[0mplt\u001b[0m\u001b[0;34m.\u001b[0m\u001b[0mshow\u001b[0m\u001b[0;34m(\u001b[0m\u001b[0;34m)\u001b[0m\u001b[0;34m\u001b[0m\u001b[0;34m\u001b[0m\u001b[0m\n\u001b[1;32m      4\u001b[0m \u001b[0;34m\u001b[0m\u001b[0m\n\u001b[1;32m      5\u001b[0m \u001b[0mdf\u001b[0m\u001b[0;34m[\u001b[0m\u001b[0;34m'HomePlanet'\u001b[0m\u001b[0;34m]\u001b[0m\u001b[0;34m.\u001b[0m\u001b[0mvalue_counts\u001b[0m\u001b[0;34m(\u001b[0m\u001b[0;34m)\u001b[0m\u001b[0;34m\u001b[0m\u001b[0;34m\u001b[0m\u001b[0m\n",
            "\u001b[0;32m/usr/local/lib/python3.9/dist-packages/seaborn/categorical.py\u001b[0m in \u001b[0;36mcountplot\u001b[0;34m(data, x, y, hue, order, hue_order, orient, color, palette, saturation, width, dodge, ax, **kwargs)\u001b[0m\n\u001b[1;32m   2941\u001b[0m         \u001b[0;32mraise\u001b[0m \u001b[0mValueError\u001b[0m\u001b[0;34m(\u001b[0m\u001b[0;34m\"Cannot pass values for both `x` and `y`\"\u001b[0m\u001b[0;34m)\u001b[0m\u001b[0;34m\u001b[0m\u001b[0;34m\u001b[0m\u001b[0m\n\u001b[1;32m   2942\u001b[0m \u001b[0;34m\u001b[0m\u001b[0m\n\u001b[0;32m-> 2943\u001b[0;31m     plotter = _CountPlotter(\n\u001b[0m\u001b[1;32m   2944\u001b[0m         \u001b[0mx\u001b[0m\u001b[0;34m,\u001b[0m \u001b[0my\u001b[0m\u001b[0;34m,\u001b[0m \u001b[0mhue\u001b[0m\u001b[0;34m,\u001b[0m \u001b[0mdata\u001b[0m\u001b[0;34m,\u001b[0m \u001b[0morder\u001b[0m\u001b[0;34m,\u001b[0m \u001b[0mhue_order\u001b[0m\u001b[0;34m,\u001b[0m\u001b[0;34m\u001b[0m\u001b[0;34m\u001b[0m\u001b[0m\n\u001b[1;32m   2945\u001b[0m         \u001b[0mestimator\u001b[0m\u001b[0;34m,\u001b[0m \u001b[0merrorbar\u001b[0m\u001b[0;34m,\u001b[0m \u001b[0mn_boot\u001b[0m\u001b[0;34m,\u001b[0m \u001b[0munits\u001b[0m\u001b[0;34m,\u001b[0m \u001b[0mseed\u001b[0m\u001b[0;34m,\u001b[0m\u001b[0;34m\u001b[0m\u001b[0;34m\u001b[0m\u001b[0m\n",
            "\u001b[0;32m/usr/local/lib/python3.9/dist-packages/seaborn/categorical.py\u001b[0m in \u001b[0;36m__init__\u001b[0;34m(self, x, y, hue, data, order, hue_order, estimator, errorbar, n_boot, units, seed, orient, color, palette, saturation, width, errcolor, errwidth, capsize, dodge)\u001b[0m\n\u001b[1;32m   1528\u001b[0m                  errcolor, errwidth, capsize, dodge):\n\u001b[1;32m   1529\u001b[0m         \u001b[0;34m\"\"\"Initialize the plotter.\"\"\"\u001b[0m\u001b[0;34m\u001b[0m\u001b[0;34m\u001b[0m\u001b[0m\n\u001b[0;32m-> 1530\u001b[0;31m         self.establish_variables(x, y, hue, data, orient,\n\u001b[0m\u001b[1;32m   1531\u001b[0m                                  order, hue_order, units)\n\u001b[1;32m   1532\u001b[0m         \u001b[0mself\u001b[0m\u001b[0;34m.\u001b[0m\u001b[0mestablish_colors\u001b[0m\u001b[0;34m(\u001b[0m\u001b[0mcolor\u001b[0m\u001b[0;34m,\u001b[0m \u001b[0mpalette\u001b[0m\u001b[0;34m,\u001b[0m \u001b[0msaturation\u001b[0m\u001b[0;34m)\u001b[0m\u001b[0;34m\u001b[0m\u001b[0;34m\u001b[0m\u001b[0m\n",
            "\u001b[0;32m/usr/local/lib/python3.9/dist-packages/seaborn/categorical.py\u001b[0m in \u001b[0;36mestablish_variables\u001b[0;34m(self, x, y, hue, data, orient, order, hue_order, units)\u001b[0m\n\u001b[1;32m    514\u001b[0m \u001b[0;34m\u001b[0m\u001b[0m\n\u001b[1;32m    515\u001b[0m                 \u001b[0;31m# Convert to a list of arrays, the common representation\u001b[0m\u001b[0;34m\u001b[0m\u001b[0;34m\u001b[0m\u001b[0m\n\u001b[0;32m--> 516\u001b[0;31m                 \u001b[0mplot_data\u001b[0m \u001b[0;34m=\u001b[0m \u001b[0;34m[\u001b[0m\u001b[0mnp\u001b[0m\u001b[0;34m.\u001b[0m\u001b[0masarray\u001b[0m\u001b[0;34m(\u001b[0m\u001b[0md\u001b[0m\u001b[0;34m,\u001b[0m \u001b[0mfloat\u001b[0m\u001b[0;34m)\u001b[0m \u001b[0;32mfor\u001b[0m \u001b[0md\u001b[0m \u001b[0;32min\u001b[0m \u001b[0mplot_data\u001b[0m\u001b[0;34m]\u001b[0m\u001b[0;34m\u001b[0m\u001b[0;34m\u001b[0m\u001b[0m\n\u001b[0m\u001b[1;32m    517\u001b[0m \u001b[0;34m\u001b[0m\u001b[0m\n\u001b[1;32m    518\u001b[0m                 \u001b[0;31m# The group names will just be numeric indices\u001b[0m\u001b[0;34m\u001b[0m\u001b[0;34m\u001b[0m\u001b[0m\n",
            "\u001b[0;32m/usr/local/lib/python3.9/dist-packages/seaborn/categorical.py\u001b[0m in \u001b[0;36m<listcomp>\u001b[0;34m(.0)\u001b[0m\n\u001b[1;32m    514\u001b[0m \u001b[0;34m\u001b[0m\u001b[0m\n\u001b[1;32m    515\u001b[0m                 \u001b[0;31m# Convert to a list of arrays, the common representation\u001b[0m\u001b[0;34m\u001b[0m\u001b[0;34m\u001b[0m\u001b[0m\n\u001b[0;32m--> 516\u001b[0;31m                 \u001b[0mplot_data\u001b[0m \u001b[0;34m=\u001b[0m \u001b[0;34m[\u001b[0m\u001b[0mnp\u001b[0m\u001b[0;34m.\u001b[0m\u001b[0masarray\u001b[0m\u001b[0;34m(\u001b[0m\u001b[0md\u001b[0m\u001b[0;34m,\u001b[0m \u001b[0mfloat\u001b[0m\u001b[0;34m)\u001b[0m \u001b[0;32mfor\u001b[0m \u001b[0md\u001b[0m \u001b[0;32min\u001b[0m \u001b[0mplot_data\u001b[0m\u001b[0;34m]\u001b[0m\u001b[0;34m\u001b[0m\u001b[0;34m\u001b[0m\u001b[0m\n\u001b[0m\u001b[1;32m    517\u001b[0m \u001b[0;34m\u001b[0m\u001b[0m\n\u001b[1;32m    518\u001b[0m                 \u001b[0;31m# The group names will just be numeric indices\u001b[0m\u001b[0;34m\u001b[0m\u001b[0;34m\u001b[0m\u001b[0m\n",
            "\u001b[0;31mValueError\u001b[0m: could not convert string to float: 'Europa'"
          ]
        }
      ]
    },
    {
      "cell_type": "code",
      "source": [
        "df.HomePlanet.value_counts(normalize=True)"
      ],
      "metadata": {
        "id": "jTjlEYri02TF",
        "colab": {
          "base_uri": "https://localhost:8080/"
        },
        "outputId": "c150b3bf-d1e1-4c47-c94c-cd9ebf034fb9"
      },
      "id": "jTjlEYri02TF",
      "execution_count": null,
      "outputs": [
        {
          "output_type": "execute_result",
          "data": {
            "text/plain": [
              "Earth                0.533651\n",
              "Europa               0.245070\n",
              "Mars                 0.208933\n",
              "NoHomePlanetFound    0.012346\n",
              "Name: HomePlanet, dtype: float64"
            ]
          },
          "metadata": {},
          "execution_count": 133
        }
      ]
    },
    {
      "cell_type": "markdown",
      "source": [
        "Hypothesis 2: 60% of people from Earth were not transported to another dimension."
      ],
      "metadata": {
        "id": "hdNIBNe1r99f"
      },
      "id": "hdNIBNe1r99f"
    },
    {
      "cell_type": "code",
      "source": [
        "fig=plt.figure(figsize=(8,10))\n",
        "sns.countplot(data=df, x='HomePlanet', hue='Transported', saturation=0.5, edgecolor=sns.color_palette(\"dark\"))\n",
        "plt.ylabel(\"count (people)\")\n",
        "plt.show()\n",
        "\n",
        "#adjust legend"
      ],
      "metadata": {
        "id": "WkF0GGTG5L-W",
        "colab": {
          "base_uri": "https://localhost:8080/",
          "height": 850
        },
        "outputId": "e21209c7-011a-469f-b3a9-cc82c3d8b410"
      },
      "id": "WkF0GGTG5L-W",
      "execution_count": null,
      "outputs": [
        {
          "output_type": "display_data",
          "data": {
            "text/plain": [
              "<Figure size 800x1000 with 1 Axes>"
            ],
            "image/png": "[encoded data removed]"
          },
          "metadata": {}
        }
      ]
    },
    {
      "cell_type": "markdown",
      "source": [
        "Europa\n",
        "\n",
        "Roughly 35% of people from Europa did not get transported to another dimension.\n",
        "\n",
        "Roughly 65% of people from Europa did get transported to another dimension.\n",
        "\n",
        "Earth\n",
        "\n",
        "Roughly 60% of people from Earth did not get transported to another dimension.\n",
        "\n",
        "Roughly 40% of people from Earth did get transported to another dimension.\n",
        "\n",
        "\n",
        "Mars\n",
        "\n",
        "Roughly 45% of people from Mars did not get transported to another dimension.\n",
        "\n",
        "Rougly 55% of people from Mars did get transported to another dimension."
      ],
      "metadata": {
        "id": "zDmMbAdtR7S2"
      },
      "id": "zDmMbAdtR7S2"
    },
    {
      "cell_type": "markdown",
      "source": [
        "##Hiram"
      ],
      "metadata": {
        "id": "J4tDGOicrvbe"
      },
      "id": "J4tDGOicrvbe"
    },
    {
      "cell_type": "markdown",
      "source": [
        "## CryoSleep Analysis"
      ],
      "metadata": {
        "id": "vwmPf5y2NHxR"
      },
      "id": "vwmPf5y2NHxR"
    },
    {
      "cell_type": "code",
      "source": [
        "df[\"CryoSleep\"]"
      ],
      "metadata": {
        "id": "_DRdVuCDNPPv",
        "colab": {
          "base_uri": "https://localhost:8080/"
        },
        "outputId": "1eb88673-613d-4d42-fde8-3c962f7e9875"
      },
      "id": "_DRdVuCDNPPv",
      "execution_count": null,
      "outputs": [
        {
          "output_type": "execute_result",
          "data": {
            "text/plain": [
              "0       False\n",
              "1       False\n",
              "2       False\n",
              "3       False\n",
              "4       False\n",
              "        ...  \n",
              "4269      NaN\n",
              "4270      NaN\n",
              "4271      NaN\n",
              "4272      NaN\n",
              "4276      NaN\n",
              "Name: CryoSleep, Length: 46656, dtype: object"
            ]
          },
          "metadata": {},
          "execution_count": 135
        }
      ]
    },
    {
      "cell_type": "markdown",
      "source": [
        "Hypothesis 3: 64% of people were not placed in cryosleep."
      ],
      "metadata": {
        "id": "HRvXUEVRs5wf"
      },
      "id": "HRvXUEVRs5wf"
    },
    {
      "cell_type": "code",
      "source": [
        "fig=plt.figure(figsize=(8,10))\n",
        "sns.countplot(data=df, x='CryoSleep', hue='CryoSleep', saturation=0.5, edgecolor=sns.color_palette(\"dark\"))\n",
        "plt.show()\n",
        "df['CryoSleep'].value_counts()\n",
        "\n",
        "#adjust legend"
      ],
      "metadata": {
        "id": "xhHb6MdfNqgy",
        "colab": {
          "base_uri": "https://localhost:8080/",
          "height": 923
        },
        "outputId": "957846b7-6291-49de-b51f-b9e318b961db"
      },
      "id": "xhHb6MdfNqgy",
      "execution_count": null,
      "outputs": [
        {
          "output_type": "display_data",
          "data": {
            "text/plain": [
              "<Figure size 800x1000 with 1 Axes>"
            ],
            "image/png": "[encoded data removed]"
          },
          "metadata": {}
        },
        {
          "output_type": "execute_result",
          "data": {
            "text/plain": [
              "False               14721\n",
              "True                 8297\n",
              "NoCryoSleepFound      310\n",
              "Name: CryoSleep, dtype: int64"
            ]
          },
          "metadata": {},
          "execution_count": 136
        }
      ]
    },
    {
      "cell_type": "markdown",
      "source": [
        "Hypothesis 4: More people from Earth decided not to be placed in cryosleep."
      ],
      "metadata": {
        "id": "sA9BJ8LotRc3"
      },
      "id": "sA9BJ8LotRc3"
    },
    {
      "cell_type": "code",
      "source": [
        "fig=plt.figure(figsize=(8,10))\n",
        "sns.countplot(data=df, x='CryoSleep', hue='HomePlanet', saturation=0.5, edgecolor=sns.color_palette(\"dark\"))\n",
        "plt.show()"
      ],
      "metadata": {
        "id": "0gV4spnrX6Uc",
        "colab": {
          "base_uri": "https://localhost:8080/",
          "height": 850
        },
        "outputId": "1849f7cb-611c-4938-869c-d580492b335e"
      },
      "id": "0gV4spnrX6Uc",
      "execution_count": null,
      "outputs": [
        {
          "output_type": "display_data",
          "data": {
            "text/plain": [
              "<Figure size 800x1000 with 1 Axes>"
            ],
            "image/png": "[encoded data removed]"
          },
          "metadata": {}
        }
      ]
    },
    {
      "cell_type": "markdown",
      "source": [
        "More people decided not to be placed in CryoSleep. However, the amount of people who decided not to be placed in CryoSleep is more than double for people from Earth. The other HomePlanets, Europa and Mars, are almost equal."
      ],
      "metadata": {
        "id": "BCYaokQ1g5rS"
      },
      "id": "BCYaokQ1g5rS"
    },
    {
      "cell_type": "markdown",
      "source": [
        "Hypothesis 5: For people who were not placed in cryosleep more than half were transported to another dimension."
      ],
      "metadata": {
        "id": "1PT_iaxnu_1l"
      },
      "id": "1PT_iaxnu_1l"
    },
    {
      "cell_type": "code",
      "source": [
        "fig=plt.figure(figsize=(8,10))\n",
        "sns.countplot(data=df, x='CryoSleep', hue='Transported', saturation=0.5, edgecolor=sns.color_palette(\"dark\"))\n",
        "plt.show()\n",
        "\n",
        "#adjust legend"
      ],
      "metadata": {
        "id": "II9X1BstjmIp",
        "colab": {
          "base_uri": "https://localhost:8080/",
          "height": 850
        },
        "outputId": "d9eab4f8-e38e-48dc-df81-92348c4ca25f"
      },
      "id": "II9X1BstjmIp",
      "execution_count": null,
      "outputs": [
        {
          "output_type": "display_data",
          "data": {
            "text/plain": [
              "<Figure size 800x1000 with 1 Axes>"
            ],
            "image/png": "[encoded data removed]"
          },
          "metadata": {}
        }
      ]
    },
    {
      "cell_type": "markdown",
      "source": [
        "It appears that being placed in CryoSleep played a factor in whether a passenger was sent to another dimension.\n",
        "\n",
        "For people who were not placed in CryoSleep, 50% of them were not transported to another dimension.\n",
        "\n",
        "For people who were placed in CryoSleep, 80% of them were transported to another dimension."
      ],
      "metadata": {
        "id": "5yRLYMdHjp8f"
      },
      "id": "5yRLYMdHjp8f"
    },
    {
      "cell_type": "markdown",
      "source": [
        "##Mitchell"
      ],
      "metadata": {
        "id": "W2TkNyG6NgQE"
      },
      "id": "W2TkNyG6NgQE"
    },
    {
      "cell_type": "markdown",
      "source": [
        "## Cabin Analysis"
      ],
      "metadata": {
        "id": "6FDQKNdhUobW"
      },
      "id": "6FDQKNdhUobW"
    },
    {
      "cell_type": "code",
      "source": [
        "df[\"Cabin\"]"
      ],
      "metadata": {
        "id": "UhX--Ax6UsXV",
        "colab": {
          "base_uri": "https://localhost:8080/",
          "height": 521
        },
        "outputId": "cec8d7af-b793-4191-eccb-85e779d3a11b"
      },
      "id": "UhX--Ax6UsXV",
      "execution_count": null,
      "outputs": [
        {
          "output_type": "error",
          "ename": "KeyError",
          "evalue": "ignored",
          "traceback": [
            "\u001b[0;31m---------------------------------------------------------------------------\u001b[0m",
            "\u001b[0;31mKeyError\u001b[0m                                  Traceback (most recent call last)",
            "\u001b[0;32m/usr/local/lib/python3.9/dist-packages/pandas/core/indexes/base.py\u001b[0m in \u001b[0;36mget_loc\u001b[0;34m(self, key, method, tolerance)\u001b[0m\n\u001b[1;32m   3628\u001b[0m             \u001b[0;32mtry\u001b[0m\u001b[0;34m:\u001b[0m\u001b[0;34m\u001b[0m\u001b[0;34m\u001b[0m\u001b[0m\n\u001b[0;32m-> 3629\u001b[0;31m                 \u001b[0;32mreturn\u001b[0m \u001b[0mself\u001b[0m\u001b[0;34m.\u001b[0m\u001b[0m_engine\u001b[0m\u001b[0;34m.\u001b[0m\u001b[0mget_loc\u001b[0m\u001b[0;34m(\u001b[0m\u001b[0mcasted_key\u001b[0m\u001b[0;34m)\u001b[0m\u001b[0;34m\u001b[0m\u001b[0;34m\u001b[0m\u001b[0m\n\u001b[0m\u001b[1;32m   3630\u001b[0m             \u001b[0;32mexcept\u001b[0m \u001b[0mKeyError\u001b[0m \u001b[0;32mas\u001b[0m \u001b[0merr\u001b[0m\u001b[0;34m:\u001b[0m\u001b[0;34m\u001b[0m\u001b[0;34m\u001b[0m\u001b[0m\n",
            "\u001b[0;32m/usr/local/lib/python3.9/dist-packages/pandas/_libs/index.pyx\u001b[0m in \u001b[0;36mpandas._libs.index.IndexEngine.get_loc\u001b[0;34m()\u001b[0m\n",
            "\u001b[0;32m/usr/local/lib/python3.9/dist-packages/pandas/_libs/index.pyx\u001b[0m in \u001b[0;36mpandas._libs.index.IndexEngine.get_loc\u001b[0;34m()\u001b[0m\n",
            "\u001b[0;32mpandas/_libs/hashtable_class_helper.pxi\u001b[0m in \u001b[0;36mpandas._libs.hashtable.PyObjectHashTable.get_item\u001b[0;34m()\u001b[0m\n",
            "\u001b[0;32mpandas/_libs/hashtable_class_helper.pxi\u001b[0m in \u001b[0;36mpandas._libs.hashtable.PyObjectHashTable.get_item\u001b[0;34m()\u001b[0m\n",
            "\u001b[0;31mKeyError\u001b[0m: 'Cabin'",
            "\nThe above exception was the direct cause of the following exception:\n",
            "\u001b[0;31mKeyError\u001b[0m                                  Traceback (most recent call last)",
            "\u001b[0;32m<ipython-input-139-cb7f04840dbb>\u001b[0m in \u001b[0;36m<cell line: 1>\u001b[0;34m()\u001b[0m\n\u001b[0;32m----> 1\u001b[0;31m \u001b[0mdf\u001b[0m\u001b[0;34m[\u001b[0m\u001b[0;34m\"Cabin\"\u001b[0m\u001b[0;34m]\u001b[0m\u001b[0;34m\u001b[0m\u001b[0;34m\u001b[0m\u001b[0m\n\u001b[0m",
            "\u001b[0;32m/usr/local/lib/python3.9/dist-packages/pandas/core/frame.py\u001b[0m in \u001b[0;36m__getitem__\u001b[0;34m(self, key)\u001b[0m\n\u001b[1;32m   3503\u001b[0m             \u001b[0;32mif\u001b[0m \u001b[0mself\u001b[0m\u001b[0;34m.\u001b[0m\u001b[0mcolumns\u001b[0m\u001b[0;34m.\u001b[0m\u001b[0mnlevels\u001b[0m \u001b[0;34m>\u001b[0m \u001b[0;36m1\u001b[0m\u001b[0;34m:\u001b[0m\u001b[0;34m\u001b[0m\u001b[0;34m\u001b[0m\u001b[0m\n\u001b[1;32m   3504\u001b[0m                 \u001b[0;32mreturn\u001b[0m \u001b[0mself\u001b[0m\u001b[0;34m.\u001b[0m\u001b[0m_getitem_multilevel\u001b[0m\u001b[0;34m(\u001b[0m\u001b[0mkey\u001b[0m\u001b[0;34m)\u001b[0m\u001b[0;34m\u001b[0m\u001b[0;34m\u001b[0m\u001b[0m\n\u001b[0;32m-> 3505\u001b[0;31m             \u001b[0mindexer\u001b[0m \u001b[0;34m=\u001b[0m \u001b[0mself\u001b[0m\u001b[0;34m.\u001b[0m\u001b[0mcolumns\u001b[0m\u001b[0;34m.\u001b[0m\u001b[0mget_loc\u001b[0m\u001b[0;34m(\u001b[0m\u001b[0mkey\u001b[0m\u001b[0;34m)\u001b[0m\u001b[0;34m\u001b[0m\u001b[0;34m\u001b[0m\u001b[0m\n\u001b[0m\u001b[1;32m   3506\u001b[0m             \u001b[0;32mif\u001b[0m \u001b[0mis_integer\u001b[0m\u001b[0;34m(\u001b[0m\u001b[0mindexer\u001b[0m\u001b[0;34m)\u001b[0m\u001b[0;34m:\u001b[0m\u001b[0;34m\u001b[0m\u001b[0;34m\u001b[0m\u001b[0m\n\u001b[1;32m   3507\u001b[0m                 \u001b[0mindexer\u001b[0m \u001b[0;34m=\u001b[0m \u001b[0;34m[\u001b[0m\u001b[0mindexer\u001b[0m\u001b[0;34m]\u001b[0m\u001b[0;34m\u001b[0m\u001b[0;34m\u001b[0m\u001b[0m\n",
            "\u001b[0;32m/usr/local/lib/python3.9/dist-packages/pandas/core/indexes/base.py\u001b[0m in \u001b[0;36mget_loc\u001b[0;34m(self, key, method, tolerance)\u001b[0m\n\u001b[1;32m   3629\u001b[0m                 \u001b[0;32mreturn\u001b[0m \u001b[0mself\u001b[0m\u001b[0;34m.\u001b[0m\u001b[0m_engine\u001b[0m\u001b[0;34m.\u001b[0m\u001b[0mget_loc\u001b[0m\u001b[0;34m(\u001b[0m\u001b[0mcasted_key\u001b[0m\u001b[0;34m)\u001b[0m\u001b[0;34m\u001b[0m\u001b[0;34m\u001b[0m\u001b[0m\n\u001b[1;32m   3630\u001b[0m             \u001b[0;32mexcept\u001b[0m \u001b[0mKeyError\u001b[0m \u001b[0;32mas\u001b[0m \u001b[0merr\u001b[0m\u001b[0;34m:\u001b[0m\u001b[0;34m\u001b[0m\u001b[0;34m\u001b[0m\u001b[0m\n\u001b[0;32m-> 3631\u001b[0;31m                 \u001b[0;32mraise\u001b[0m \u001b[0mKeyError\u001b[0m\u001b[0;34m(\u001b[0m\u001b[0mkey\u001b[0m\u001b[0;34m)\u001b[0m \u001b[0;32mfrom\u001b[0m \u001b[0merr\u001b[0m\u001b[0;34m\u001b[0m\u001b[0;34m\u001b[0m\u001b[0m\n\u001b[0m\u001b[1;32m   3632\u001b[0m             \u001b[0;32mexcept\u001b[0m \u001b[0mTypeError\u001b[0m\u001b[0;34m:\u001b[0m\u001b[0;34m\u001b[0m\u001b[0;34m\u001b[0m\u001b[0m\n\u001b[1;32m   3633\u001b[0m                 \u001b[0;31m# If we have a listlike key, _check_indexing_error will raise\u001b[0m\u001b[0;34m\u001b[0m\u001b[0;34m\u001b[0m\u001b[0m\n",
            "\u001b[0;31mKeyError\u001b[0m: 'Cabin'"
          ]
        }
      ]
    },
    {
      "cell_type": "markdown",
      "source": [
        "Hypothesis 6: 32.9% of people were on Deck F on the spaceship titanic."
      ],
      "metadata": {
        "id": "q1K77Ys2wVOW"
      },
      "id": "q1K77Ys2wVOW"
    },
    {
      "cell_type": "code",
      "source": [
        "df[[\"Deck\", \"Number\", \"Side\"]] = df[\"Cabin\"].str.split('/', expand = True)\n",
        "\n",
        "plt.figure(figsize=(8,10))\n",
        "df['Deck'].value_counts(normalize = True).plot.pie(title = 'Deck', autopct='%1.1f%%')\n",
        "\n",
        "#find somethign to do with this. Gunay will go in"
      ],
      "metadata": {
        "id": "nxRbq5ngV3eO",
        "colab": {
          "base_uri": "https://localhost:8080/",
          "height": 521
        },
        "outputId": "05586375-da75-4fae-cde5-703410ca1db5"
      },
      "id": "nxRbq5ngV3eO",
      "execution_count": null,
      "outputs": [
        {
          "output_type": "error",
          "ename": "KeyError",
          "evalue": "ignored",
          "traceback": [
            "\u001b[0;31m---------------------------------------------------------------------------\u001b[0m",
            "\u001b[0;31mKeyError\u001b[0m                                  Traceback (most recent call last)",
            "\u001b[0;32m/usr/local/lib/python3.9/dist-packages/pandas/core/indexes/base.py\u001b[0m in \u001b[0;36mget_loc\u001b[0;34m(self, key, method, tolerance)\u001b[0m\n\u001b[1;32m   3628\u001b[0m             \u001b[0;32mtry\u001b[0m\u001b[0;34m:\u001b[0m\u001b[0;34m\u001b[0m\u001b[0;34m\u001b[0m\u001b[0m\n\u001b[0;32m-> 3629\u001b[0;31m                 \u001b[0;32mreturn\u001b[0m \u001b[0mself\u001b[0m\u001b[0;34m.\u001b[0m\u001b[0m_engine\u001b[0m\u001b[0;34m.\u001b[0m\u001b[0mget_loc\u001b[0m\u001b[0;34m(\u001b[0m\u001b[0mcasted_key\u001b[0m\u001b[0;34m)\u001b[0m\u001b[0;34m\u001b[0m\u001b[0;34m\u001b[0m\u001b[0m\n\u001b[0m\u001b[1;32m   3630\u001b[0m             \u001b[0;32mexcept\u001b[0m \u001b[0mKeyError\u001b[0m \u001b[0;32mas\u001b[0m \u001b[0merr\u001b[0m\u001b[0;34m:\u001b[0m\u001b[0;34m\u001b[0m\u001b[0;34m\u001b[0m\u001b[0m\n",
            "\u001b[0;32m/usr/local/lib/python3.9/dist-packages/pandas/_libs/index.pyx\u001b[0m in \u001b[0;36mpandas._libs.index.IndexEngine.get_loc\u001b[0;34m()\u001b[0m\n",
            "\u001b[0;32m/usr/local/lib/python3.9/dist-packages/pandas/_libs/index.pyx\u001b[0m in \u001b[0;36mpandas._libs.index.IndexEngine.get_loc\u001b[0;34m()\u001b[0m\n",
            "\u001b[0;32mpandas/_libs/hashtable_class_helper.pxi\u001b[0m in \u001b[0;36mpandas._libs.hashtable.PyObjectHashTable.get_item\u001b[0;34m()\u001b[0m\n",
            "\u001b[0;32mpandas/_libs/hashtable_class_helper.pxi\u001b[0m in \u001b[0;36mpandas._libs.hashtable.PyObjectHashTable.get_item\u001b[0;34m()\u001b[0m\n",
            "\u001b[0;31mKeyError\u001b[0m: 'Cabin'",
            "\nThe above exception was the direct cause of the following exception:\n",
            "\u001b[0;31mKeyError\u001b[0m                                  Traceback (most recent call last)",
            "\u001b[0;32m<ipython-input-140-49b299c19373>\u001b[0m in \u001b[0;36m<cell line: 1>\u001b[0;34m()\u001b[0m\n\u001b[0;32m----> 1\u001b[0;31m \u001b[0mdf\u001b[0m\u001b[0;34m[\u001b[0m\u001b[0;34m[\u001b[0m\u001b[0;34m\"Deck\"\u001b[0m\u001b[0;34m,\u001b[0m \u001b[0;34m\"Number\"\u001b[0m\u001b[0;34m,\u001b[0m \u001b[0;34m\"Side\"\u001b[0m\u001b[0;34m]\u001b[0m\u001b[0;34m]\u001b[0m \u001b[0;34m=\u001b[0m \u001b[0mdf\u001b[0m\u001b[0;34m[\u001b[0m\u001b[0;34m\"Cabin\"\u001b[0m\u001b[0;34m]\u001b[0m\u001b[0;34m.\u001b[0m\u001b[0mstr\u001b[0m\u001b[0;34m.\u001b[0m\u001b[0msplit\u001b[0m\u001b[0;34m(\u001b[0m\u001b[0;34m'/'\u001b[0m\u001b[0;34m,\u001b[0m \u001b[0mexpand\u001b[0m \u001b[0;34m=\u001b[0m \u001b[0;32mTrue\u001b[0m\u001b[0;34m)\u001b[0m\u001b[0;34m\u001b[0m\u001b[0;34m\u001b[0m\u001b[0m\n\u001b[0m\u001b[1;32m      2\u001b[0m \u001b[0;34m\u001b[0m\u001b[0m\n\u001b[1;32m      3\u001b[0m \u001b[0mplt\u001b[0m\u001b[0;34m.\u001b[0m\u001b[0mfigure\u001b[0m\u001b[0;34m(\u001b[0m\u001b[0mfigsize\u001b[0m\u001b[0;34m=\u001b[0m\u001b[0;34m(\u001b[0m\u001b[0;36m8\u001b[0m\u001b[0;34m,\u001b[0m\u001b[0;36m10\u001b[0m\u001b[0;34m)\u001b[0m\u001b[0;34m)\u001b[0m\u001b[0;34m\u001b[0m\u001b[0;34m\u001b[0m\u001b[0m\n\u001b[1;32m      4\u001b[0m \u001b[0mdf\u001b[0m\u001b[0;34m[\u001b[0m\u001b[0;34m'Deck'\u001b[0m\u001b[0;34m]\u001b[0m\u001b[0;34m.\u001b[0m\u001b[0mvalue_counts\u001b[0m\u001b[0;34m(\u001b[0m\u001b[0mnormalize\u001b[0m \u001b[0;34m=\u001b[0m \u001b[0;32mTrue\u001b[0m\u001b[0;34m)\u001b[0m\u001b[0;34m.\u001b[0m\u001b[0mplot\u001b[0m\u001b[0;34m.\u001b[0m\u001b[0mpie\u001b[0m\u001b[0;34m(\u001b[0m\u001b[0mtitle\u001b[0m \u001b[0;34m=\u001b[0m \u001b[0;34m'Deck'\u001b[0m\u001b[0;34m,\u001b[0m \u001b[0mautopct\u001b[0m\u001b[0;34m=\u001b[0m\u001b[0;34m'%1.1f%%'\u001b[0m\u001b[0;34m)\u001b[0m\u001b[0;34m\u001b[0m\u001b[0;34m\u001b[0m\u001b[0m\n\u001b[1;32m      5\u001b[0m \u001b[0;34m\u001b[0m\u001b[0m\n",
            "\u001b[0;32m/usr/local/lib/python3.9/dist-packages/pandas/core/frame.py\u001b[0m in \u001b[0;36m__getitem__\u001b[0;34m(self, key)\u001b[0m\n\u001b[1;32m   3503\u001b[0m             \u001b[0;32mif\u001b[0m \u001b[0mself\u001b[0m\u001b[0;34m.\u001b[0m\u001b[0mcolumns\u001b[0m\u001b[0;34m.\u001b[0m\u001b[0mnlevels\u001b[0m \u001b[0;34m>\u001b[0m \u001b[0;36m1\u001b[0m\u001b[0;34m:\u001b[0m\u001b[0;34m\u001b[0m\u001b[0;34m\u001b[0m\u001b[0m\n\u001b[1;32m   3504\u001b[0m                 \u001b[0;32mreturn\u001b[0m \u001b[0mself\u001b[0m\u001b[0;34m.\u001b[0m\u001b[0m_getitem_multilevel\u001b[0m\u001b[0;34m(\u001b[0m\u001b[0mkey\u001b[0m\u001b[0;34m)\u001b[0m\u001b[0;34m\u001b[0m\u001b[0;34m\u001b[0m\u001b[0m\n\u001b[0;32m-> 3505\u001b[0;31m             \u001b[0mindexer\u001b[0m \u001b[0;34m=\u001b[0m \u001b[0mself\u001b[0m\u001b[0;34m.\u001b[0m\u001b[0mcolumns\u001b[0m\u001b[0;34m.\u001b[0m\u001b[0mget_loc\u001b[0m\u001b[0;34m(\u001b[0m\u001b[0mkey\u001b[0m\u001b[0;34m)\u001b[0m\u001b[0;34m\u001b[0m\u001b[0;34m\u001b[0m\u001b[0m\n\u001b[0m\u001b[1;32m   3506\u001b[0m             \u001b[0;32mif\u001b[0m \u001b[0mis_integer\u001b[0m\u001b[0;34m(\u001b[0m\u001b[0mindexer\u001b[0m\u001b[0;34m)\u001b[0m\u001b[0;34m:\u001b[0m\u001b[0;34m\u001b[0m\u001b[0;34m\u001b[0m\u001b[0m\n\u001b[1;32m   3507\u001b[0m                 \u001b[0mindexer\u001b[0m \u001b[0;34m=\u001b[0m \u001b[0;34m[\u001b[0m\u001b[0mindexer\u001b[0m\u001b[0;34m]\u001b[0m\u001b[0;34m\u001b[0m\u001b[0;34m\u001b[0m\u001b[0m\n",
            "\u001b[0;32m/usr/local/lib/python3.9/dist-packages/pandas/core/indexes/base.py\u001b[0m in \u001b[0;36mget_loc\u001b[0;34m(self, key, method, tolerance)\u001b[0m\n\u001b[1;32m   3629\u001b[0m                 \u001b[0;32mreturn\u001b[0m \u001b[0mself\u001b[0m\u001b[0;34m.\u001b[0m\u001b[0m_engine\u001b[0m\u001b[0;34m.\u001b[0m\u001b[0mget_loc\u001b[0m\u001b[0;34m(\u001b[0m\u001b[0mcasted_key\u001b[0m\u001b[0;34m)\u001b[0m\u001b[0;34m\u001b[0m\u001b[0;34m\u001b[0m\u001b[0m\n\u001b[1;32m   3630\u001b[0m             \u001b[0;32mexcept\u001b[0m \u001b[0mKeyError\u001b[0m \u001b[0;32mas\u001b[0m \u001b[0merr\u001b[0m\u001b[0;34m:\u001b[0m\u001b[0;34m\u001b[0m\u001b[0;34m\u001b[0m\u001b[0m\n\u001b[0;32m-> 3631\u001b[0;31m                 \u001b[0;32mraise\u001b[0m \u001b[0mKeyError\u001b[0m\u001b[0;34m(\u001b[0m\u001b[0mkey\u001b[0m\u001b[0;34m)\u001b[0m \u001b[0;32mfrom\u001b[0m \u001b[0merr\u001b[0m\u001b[0;34m\u001b[0m\u001b[0;34m\u001b[0m\u001b[0m\n\u001b[0m\u001b[1;32m   3632\u001b[0m             \u001b[0;32mexcept\u001b[0m \u001b[0mTypeError\u001b[0m\u001b[0;34m:\u001b[0m\u001b[0;34m\u001b[0m\u001b[0;34m\u001b[0m\u001b[0m\n\u001b[1;32m   3633\u001b[0m                 \u001b[0;31m# If we have a listlike key, _check_indexing_error will raise\u001b[0m\u001b[0;34m\u001b[0m\u001b[0;34m\u001b[0m\u001b[0m\n",
            "\u001b[0;31mKeyError\u001b[0m: 'Cabin'"
          ]
        }
      ]
    },
    {
      "cell_type": "code",
      "source": [
        "df[\"Number\"]"
      ],
      "metadata": {
        "id": "kUaSnu1ELETX",
        "colab": {
          "base_uri": "https://localhost:8080/",
          "height": 521
        },
        "outputId": "9f998273-5fdf-425a-a608-bdce44872013"
      },
      "id": "kUaSnu1ELETX",
      "execution_count": null,
      "outputs": [
        {
          "output_type": "error",
          "ename": "KeyError",
          "evalue": "ignored",
          "traceback": [
            "\u001b[0;31m---------------------------------------------------------------------------\u001b[0m",
            "\u001b[0;31mKeyError\u001b[0m                                  Traceback (most recent call last)",
            "\u001b[0;32m/usr/local/lib/python3.9/dist-packages/pandas/core/indexes/base.py\u001b[0m in \u001b[0;36mget_loc\u001b[0;34m(self, key, method, tolerance)\u001b[0m\n\u001b[1;32m   3628\u001b[0m             \u001b[0;32mtry\u001b[0m\u001b[0;34m:\u001b[0m\u001b[0;34m\u001b[0m\u001b[0;34m\u001b[0m\u001b[0m\n\u001b[0;32m-> 3629\u001b[0;31m                 \u001b[0;32mreturn\u001b[0m \u001b[0mself\u001b[0m\u001b[0;34m.\u001b[0m\u001b[0m_engine\u001b[0m\u001b[0;34m.\u001b[0m\u001b[0mget_loc\u001b[0m\u001b[0;34m(\u001b[0m\u001b[0mcasted_key\u001b[0m\u001b[0;34m)\u001b[0m\u001b[0;34m\u001b[0m\u001b[0;34m\u001b[0m\u001b[0m\n\u001b[0m\u001b[1;32m   3630\u001b[0m             \u001b[0;32mexcept\u001b[0m \u001b[0mKeyError\u001b[0m \u001b[0;32mas\u001b[0m \u001b[0merr\u001b[0m\u001b[0;34m:\u001b[0m\u001b[0;34m\u001b[0m\u001b[0;34m\u001b[0m\u001b[0m\n",
            "\u001b[0;32m/usr/local/lib/python3.9/dist-packages/pandas/_libs/index.pyx\u001b[0m in \u001b[0;36mpandas._libs.index.IndexEngine.get_loc\u001b[0;34m()\u001b[0m\n",
            "\u001b[0;32m/usr/local/lib/python3.9/dist-packages/pandas/_libs/index.pyx\u001b[0m in \u001b[0;36mpandas._libs.index.IndexEngine.get_loc\u001b[0;34m()\u001b[0m\n",
            "\u001b[0;32mpandas/_libs/hashtable_class_helper.pxi\u001b[0m in \u001b[0;36mpandas._libs.hashtable.PyObjectHashTable.get_item\u001b[0;34m()\u001b[0m\n",
            "\u001b[0;32mpandas/_libs/hashtable_class_helper.pxi\u001b[0m in \u001b[0;36mpandas._libs.hashtable.PyObjectHashTable.get_item\u001b[0;34m()\u001b[0m\n",
            "\u001b[0;31mKeyError\u001b[0m: 'Number'",
            "\nThe above exception was the direct cause of the following exception:\n",
            "\u001b[0;31mKeyError\u001b[0m                                  Traceback (most recent call last)",
            "\u001b[0;32m<ipython-input-141-3f2c1acb9338>\u001b[0m in \u001b[0;36m<cell line: 1>\u001b[0;34m()\u001b[0m\n\u001b[0;32m----> 1\u001b[0;31m \u001b[0mdf\u001b[0m\u001b[0;34m[\u001b[0m\u001b[0;34m\"Number\"\u001b[0m\u001b[0;34m]\u001b[0m\u001b[0;34m\u001b[0m\u001b[0;34m\u001b[0m\u001b[0m\n\u001b[0m",
            "\u001b[0;32m/usr/local/lib/python3.9/dist-packages/pandas/core/frame.py\u001b[0m in \u001b[0;36m__getitem__\u001b[0;34m(self, key)\u001b[0m\n\u001b[1;32m   3503\u001b[0m             \u001b[0;32mif\u001b[0m \u001b[0mself\u001b[0m\u001b[0;34m.\u001b[0m\u001b[0mcolumns\u001b[0m\u001b[0;34m.\u001b[0m\u001b[0mnlevels\u001b[0m \u001b[0;34m>\u001b[0m \u001b[0;36m1\u001b[0m\u001b[0;34m:\u001b[0m\u001b[0;34m\u001b[0m\u001b[0;34m\u001b[0m\u001b[0m\n\u001b[1;32m   3504\u001b[0m                 \u001b[0;32mreturn\u001b[0m \u001b[0mself\u001b[0m\u001b[0;34m.\u001b[0m\u001b[0m_getitem_multilevel\u001b[0m\u001b[0;34m(\u001b[0m\u001b[0mkey\u001b[0m\u001b[0;34m)\u001b[0m\u001b[0;34m\u001b[0m\u001b[0;34m\u001b[0m\u001b[0m\n\u001b[0;32m-> 3505\u001b[0;31m             \u001b[0mindexer\u001b[0m \u001b[0;34m=\u001b[0m \u001b[0mself\u001b[0m\u001b[0;34m.\u001b[0m\u001b[0mcolumns\u001b[0m\u001b[0;34m.\u001b[0m\u001b[0mget_loc\u001b[0m\u001b[0;34m(\u001b[0m\u001b[0mkey\u001b[0m\u001b[0;34m)\u001b[0m\u001b[0;34m\u001b[0m\u001b[0;34m\u001b[0m\u001b[0m\n\u001b[0m\u001b[1;32m   3506\u001b[0m             \u001b[0;32mif\u001b[0m \u001b[0mis_integer\u001b[0m\u001b[0;34m(\u001b[0m\u001b[0mindexer\u001b[0m\u001b[0;34m)\u001b[0m\u001b[0;34m:\u001b[0m\u001b[0;34m\u001b[0m\u001b[0;34m\u001b[0m\u001b[0m\n\u001b[1;32m   3507\u001b[0m                 \u001b[0mindexer\u001b[0m \u001b[0;34m=\u001b[0m \u001b[0;34m[\u001b[0m\u001b[0mindexer\u001b[0m\u001b[0;34m]\u001b[0m\u001b[0;34m\u001b[0m\u001b[0;34m\u001b[0m\u001b[0m\n",
            "\u001b[0;32m/usr/local/lib/python3.9/dist-packages/pandas/core/indexes/base.py\u001b[0m in \u001b[0;36mget_loc\u001b[0;34m(self, key, method, tolerance)\u001b[0m\n\u001b[1;32m   3629\u001b[0m                 \u001b[0;32mreturn\u001b[0m \u001b[0mself\u001b[0m\u001b[0;34m.\u001b[0m\u001b[0m_engine\u001b[0m\u001b[0;34m.\u001b[0m\u001b[0mget_loc\u001b[0m\u001b[0;34m(\u001b[0m\u001b[0mcasted_key\u001b[0m\u001b[0;34m)\u001b[0m\u001b[0;34m\u001b[0m\u001b[0;34m\u001b[0m\u001b[0m\n\u001b[1;32m   3630\u001b[0m             \u001b[0;32mexcept\u001b[0m \u001b[0mKeyError\u001b[0m \u001b[0;32mas\u001b[0m \u001b[0merr\u001b[0m\u001b[0;34m:\u001b[0m\u001b[0;34m\u001b[0m\u001b[0;34m\u001b[0m\u001b[0m\n\u001b[0;32m-> 3631\u001b[0;31m                 \u001b[0;32mraise\u001b[0m \u001b[0mKeyError\u001b[0m\u001b[0;34m(\u001b[0m\u001b[0mkey\u001b[0m\u001b[0;34m)\u001b[0m \u001b[0;32mfrom\u001b[0m \u001b[0merr\u001b[0m\u001b[0;34m\u001b[0m\u001b[0;34m\u001b[0m\u001b[0m\n\u001b[0m\u001b[1;32m   3632\u001b[0m             \u001b[0;32mexcept\u001b[0m \u001b[0mTypeError\u001b[0m\u001b[0;34m:\u001b[0m\u001b[0;34m\u001b[0m\u001b[0;34m\u001b[0m\u001b[0m\n\u001b[1;32m   3633\u001b[0m                 \u001b[0;31m# If we have a listlike key, _check_indexing_error will raise\u001b[0m\u001b[0;34m\u001b[0m\u001b[0;34m\u001b[0m\u001b[0m\n",
            "\u001b[0;31mKeyError\u001b[0m: 'Number'"
          ]
        }
      ]
    },
    {
      "cell_type": "markdown",
      "source": [
        "Hypothesis 7: more than half of the passengers were on the accident side of the ship."
      ],
      "metadata": {
        "id": "NR9AFwYUxOa2"
      },
      "id": "NR9AFwYUxOa2"
    },
    {
      "cell_type": "code",
      "source": [
        "df[[\"Deck\", \"Number\", \"Side\"]] = df[\"Cabin\"].str.split('/', expand = True)\n",
        "\n",
        "plt.figure(figsize=(8,10))\n",
        "df['Side'].value_counts(normalize = True).plot.pie(title = 'Side', autopct='%1.1f%%')"
      ],
      "metadata": {
        "id": "rU02ceUvLlQ_",
        "colab": {
          "base_uri": "https://localhost:8080/",
          "height": 521
        },
        "outputId": "722b4df9-de48-4a11-d853-faf415b76929"
      },
      "id": "rU02ceUvLlQ_",
      "execution_count": null,
      "outputs": [
        {
          "output_type": "error",
          "ename": "KeyError",
          "evalue": "ignored",
          "traceback": [
            "\u001b[0;31m---------------------------------------------------------------------------\u001b[0m",
            "\u001b[0;31mKeyError\u001b[0m                                  Traceback (most recent call last)",
            "\u001b[0;32m/usr/local/lib/python3.9/dist-packages/pandas/core/indexes/base.py\u001b[0m in \u001b[0;36mget_loc\u001b[0;34m(self, key, method, tolerance)\u001b[0m\n\u001b[1;32m   3628\u001b[0m             \u001b[0;32mtry\u001b[0m\u001b[0;34m:\u001b[0m\u001b[0;34m\u001b[0m\u001b[0;34m\u001b[0m\u001b[0m\n\u001b[0;32m-> 3629\u001b[0;31m                 \u001b[0;32mreturn\u001b[0m \u001b[0mself\u001b[0m\u001b[0;34m.\u001b[0m\u001b[0m_engine\u001b[0m\u001b[0;34m.\u001b[0m\u001b[0mget_loc\u001b[0m\u001b[0;34m(\u001b[0m\u001b[0mcasted_key\u001b[0m\u001b[0;34m)\u001b[0m\u001b[0;34m\u001b[0m\u001b[0;34m\u001b[0m\u001b[0m\n\u001b[0m\u001b[1;32m   3630\u001b[0m             \u001b[0;32mexcept\u001b[0m \u001b[0mKeyError\u001b[0m \u001b[0;32mas\u001b[0m \u001b[0merr\u001b[0m\u001b[0;34m:\u001b[0m\u001b[0;34m\u001b[0m\u001b[0;34m\u001b[0m\u001b[0m\n",
            "\u001b[0;32m/usr/local/lib/python3.9/dist-packages/pandas/_libs/index.pyx\u001b[0m in \u001b[0;36mpandas._libs.index.IndexEngine.get_loc\u001b[0;34m()\u001b[0m\n",
            "\u001b[0;32m/usr/local/lib/python3.9/dist-packages/pandas/_libs/index.pyx\u001b[0m in \u001b[0;36mpandas._libs.index.IndexEngine.get_loc\u001b[0;34m()\u001b[0m\n",
            "\u001b[0;32mpandas/_libs/hashtable_class_helper.pxi\u001b[0m in \u001b[0;36mpandas._libs.hashtable.PyObjectHashTable.get_item\u001b[0;34m()\u001b[0m\n",
            "\u001b[0;32mpandas/_libs/hashtable_class_helper.pxi\u001b[0m in \u001b[0;36mpandas._libs.hashtable.PyObjectHashTable.get_item\u001b[0;34m()\u001b[0m\n",
            "\u001b[0;31mKeyError\u001b[0m: 'Cabin'",
            "\nThe above exception was the direct cause of the following exception:\n",
            "\u001b[0;31mKeyError\u001b[0m                                  Traceback (most recent call last)",
            "\u001b[0;32m<ipython-input-142-8e76a47fcd1b>\u001b[0m in \u001b[0;36m<cell line: 1>\u001b[0;34m()\u001b[0m\n\u001b[0;32m----> 1\u001b[0;31m \u001b[0mdf\u001b[0m\u001b[0;34m[\u001b[0m\u001b[0;34m[\u001b[0m\u001b[0;34m\"Deck\"\u001b[0m\u001b[0;34m,\u001b[0m \u001b[0;34m\"Number\"\u001b[0m\u001b[0;34m,\u001b[0m \u001b[0;34m\"Side\"\u001b[0m\u001b[0;34m]\u001b[0m\u001b[0;34m]\u001b[0m \u001b[0;34m=\u001b[0m \u001b[0mdf\u001b[0m\u001b[0;34m[\u001b[0m\u001b[0;34m\"Cabin\"\u001b[0m\u001b[0;34m]\u001b[0m\u001b[0;34m.\u001b[0m\u001b[0mstr\u001b[0m\u001b[0;34m.\u001b[0m\u001b[0msplit\u001b[0m\u001b[0;34m(\u001b[0m\u001b[0;34m'/'\u001b[0m\u001b[0;34m,\u001b[0m \u001b[0mexpand\u001b[0m \u001b[0;34m=\u001b[0m \u001b[0;32mTrue\u001b[0m\u001b[0;34m)\u001b[0m\u001b[0;34m\u001b[0m\u001b[0;34m\u001b[0m\u001b[0m\n\u001b[0m\u001b[1;32m      2\u001b[0m \u001b[0;34m\u001b[0m\u001b[0m\n\u001b[1;32m      3\u001b[0m \u001b[0mplt\u001b[0m\u001b[0;34m.\u001b[0m\u001b[0mfigure\u001b[0m\u001b[0;34m(\u001b[0m\u001b[0mfigsize\u001b[0m\u001b[0;34m=\u001b[0m\u001b[0;34m(\u001b[0m\u001b[0;36m8\u001b[0m\u001b[0;34m,\u001b[0m\u001b[0;36m10\u001b[0m\u001b[0;34m)\u001b[0m\u001b[0;34m)\u001b[0m\u001b[0;34m\u001b[0m\u001b[0;34m\u001b[0m\u001b[0m\n\u001b[1;32m      4\u001b[0m \u001b[0mdf\u001b[0m\u001b[0;34m[\u001b[0m\u001b[0;34m'Side'\u001b[0m\u001b[0;34m]\u001b[0m\u001b[0;34m.\u001b[0m\u001b[0mvalue_counts\u001b[0m\u001b[0;34m(\u001b[0m\u001b[0mnormalize\u001b[0m \u001b[0;34m=\u001b[0m \u001b[0;32mTrue\u001b[0m\u001b[0;34m)\u001b[0m\u001b[0;34m.\u001b[0m\u001b[0mplot\u001b[0m\u001b[0;34m.\u001b[0m\u001b[0mpie\u001b[0m\u001b[0;34m(\u001b[0m\u001b[0mtitle\u001b[0m \u001b[0;34m=\u001b[0m \u001b[0;34m'Side'\u001b[0m\u001b[0;34m,\u001b[0m \u001b[0mautopct\u001b[0m\u001b[0;34m=\u001b[0m\u001b[0;34m'%1.1f%%'\u001b[0m\u001b[0;34m)\u001b[0m\u001b[0;34m\u001b[0m\u001b[0;34m\u001b[0m\u001b[0m\n",
            "\u001b[0;32m/usr/local/lib/python3.9/dist-packages/pandas/core/frame.py\u001b[0m in \u001b[0;36m__getitem__\u001b[0;34m(self, key)\u001b[0m\n\u001b[1;32m   3503\u001b[0m             \u001b[0;32mif\u001b[0m \u001b[0mself\u001b[0m\u001b[0;34m.\u001b[0m\u001b[0mcolumns\u001b[0m\u001b[0;34m.\u001b[0m\u001b[0mnlevels\u001b[0m \u001b[0;34m>\u001b[0m \u001b[0;36m1\u001b[0m\u001b[0;34m:\u001b[0m\u001b[0;34m\u001b[0m\u001b[0;34m\u001b[0m\u001b[0m\n\u001b[1;32m   3504\u001b[0m                 \u001b[0;32mreturn\u001b[0m \u001b[0mself\u001b[0m\u001b[0;34m.\u001b[0m\u001b[0m_getitem_multilevel\u001b[0m\u001b[0;34m(\u001b[0m\u001b[0mkey\u001b[0m\u001b[0;34m)\u001b[0m\u001b[0;34m\u001b[0m\u001b[0;34m\u001b[0m\u001b[0m\n\u001b[0;32m-> 3505\u001b[0;31m             \u001b[0mindexer\u001b[0m \u001b[0;34m=\u001b[0m \u001b[0mself\u001b[0m\u001b[0;34m.\u001b[0m\u001b[0mcolumns\u001b[0m\u001b[0;34m.\u001b[0m\u001b[0mget_loc\u001b[0m\u001b[0;34m(\u001b[0m\u001b[0mkey\u001b[0m\u001b[0;34m)\u001b[0m\u001b[0;34m\u001b[0m\u001b[0;34m\u001b[0m\u001b[0m\n\u001b[0m\u001b[1;32m   3506\u001b[0m             \u001b[0;32mif\u001b[0m \u001b[0mis_integer\u001b[0m\u001b[0;34m(\u001b[0m\u001b[0mindexer\u001b[0m\u001b[0;34m)\u001b[0m\u001b[0;34m:\u001b[0m\u001b[0;34m\u001b[0m\u001b[0;34m\u001b[0m\u001b[0m\n\u001b[1;32m   3507\u001b[0m                 \u001b[0mindexer\u001b[0m \u001b[0;34m=\u001b[0m \u001b[0;34m[\u001b[0m\u001b[0mindexer\u001b[0m\u001b[0;34m]\u001b[0m\u001b[0;34m\u001b[0m\u001b[0;34m\u001b[0m\u001b[0m\n",
            "\u001b[0;32m/usr/local/lib/python3.9/dist-packages/pandas/core/indexes/base.py\u001b[0m in \u001b[0;36mget_loc\u001b[0;34m(self, key, method, tolerance)\u001b[0m\n\u001b[1;32m   3629\u001b[0m                 \u001b[0;32mreturn\u001b[0m \u001b[0mself\u001b[0m\u001b[0;34m.\u001b[0m\u001b[0m_engine\u001b[0m\u001b[0;34m.\u001b[0m\u001b[0mget_loc\u001b[0m\u001b[0;34m(\u001b[0m\u001b[0mcasted_key\u001b[0m\u001b[0;34m)\u001b[0m\u001b[0;34m\u001b[0m\u001b[0;34m\u001b[0m\u001b[0m\n\u001b[1;32m   3630\u001b[0m             \u001b[0;32mexcept\u001b[0m \u001b[0mKeyError\u001b[0m \u001b[0;32mas\u001b[0m \u001b[0merr\u001b[0m\u001b[0;34m:\u001b[0m\u001b[0;34m\u001b[0m\u001b[0;34m\u001b[0m\u001b[0m\n\u001b[0;32m-> 3631\u001b[0;31m                 \u001b[0;32mraise\u001b[0m \u001b[0mKeyError\u001b[0m\u001b[0;34m(\u001b[0m\u001b[0mkey\u001b[0m\u001b[0;34m)\u001b[0m \u001b[0;32mfrom\u001b[0m \u001b[0merr\u001b[0m\u001b[0;34m\u001b[0m\u001b[0;34m\u001b[0m\u001b[0m\n\u001b[0m\u001b[1;32m   3632\u001b[0m             \u001b[0;32mexcept\u001b[0m \u001b[0mTypeError\u001b[0m\u001b[0;34m:\u001b[0m\u001b[0;34m\u001b[0m\u001b[0;34m\u001b[0m\u001b[0m\n\u001b[1;32m   3633\u001b[0m                 \u001b[0;31m# If we have a listlike key, _check_indexing_error will raise\u001b[0m\u001b[0;34m\u001b[0m\u001b[0;34m\u001b[0m\u001b[0m\n",
            "\u001b[0;31mKeyError\u001b[0m: 'Cabin'"
          ]
        }
      ]
    },
    {
      "cell_type": "markdown",
      "source": [
        "Hypothesis 8: Passengers that were on Deck F were more likely to not be transported by the anomaly. "
      ],
      "metadata": {
        "id": "sKk4Kg32xuet"
      },
      "id": "sKk4Kg32xuet"
    },
    {
      "cell_type": "code",
      "source": [
        "fig=plt.figure(figsize=(8,10))\n",
        "sns.countplot(data=df, x='Deck', hue='Transported', saturation=0.5, edgecolor=sns.color_palette(\"dark\"))\n",
        "plt.show()\n",
        "df['Deck'].value_counts()"
      ],
      "metadata": {
        "id": "tiC3_MXUQxQu",
        "colab": {
          "base_uri": "https://localhost:8080/",
          "height": 1000
        },
        "outputId": "0b0310f6-a5fc-4516-ccfa-a6e3cf4db859"
      },
      "id": "tiC3_MXUQxQu",
      "execution_count": null,
      "outputs": [
        {
          "output_type": "display_data",
          "data": {
            "text/plain": [
              "<Figure size 800x1000 with 1 Axes>"
            ],
            "image/png": "[encoded data removed]"
          },
          "metadata": {}
        },
        {
          "output_type": "execute_result",
          "data": {
            "text/plain": [
              "F    7707\n",
              "G    6838\n",
              "E    2398\n",
              "B    2095\n",
              "C    2008\n",
              "D    1311\n",
              "A     652\n",
              "T      20\n",
              "Name: Deck, dtype: int64"
            ]
          },
          "metadata": {},
          "execution_count": 143
        }
      ]
    },
    {
      "cell_type": "markdown",
      "source": [
        "Hypothesis 9: 56% of passengers that were on the side of the ship were transported to another dimension."
      ],
      "metadata": {
        "id": "CCoqp4oE4OA8"
      },
      "id": "CCoqp4oE4OA8"
    },
    {
      "cell_type": "code",
      "source": [
        "fig=plt.figure(figsize=(8,10))\n",
        "sns.countplot(data=df, x='Side', hue='Transported', saturation=0.5, edgecolor=sns.color_palette(\"dark\"))\n",
        "plt.show()\n",
        "df['Side'].value_counts()"
      ],
      "metadata": {
        "id": "CS7uQWERQ7e9",
        "colab": {
          "base_uri": "https://localhost:8080/",
          "height": 905
        },
        "outputId": "f8cf3358-c86f-4585-bc3c-88538e6fb005"
      },
      "id": "CS7uQWERQ7e9",
      "execution_count": null,
      "outputs": [
        {
          "output_type": "display_data",
          "data": {
            "text/plain": [
              "<Figure size 800x1000 with 1 Axes>"
            ],
            "image/png": "[encoded data removed]"
          },
          "metadata": {}
        },
        {
          "output_type": "execute_result",
          "data": {
            "text/plain": [
              "S    11601\n",
              "P    11428\n",
              "Name: Side, dtype: int64"
            ]
          },
          "metadata": {},
          "execution_count": 144
        }
      ]
    },
    {
      "cell_type": "markdown",
      "source": [
        "63% of people were placed in either Deck G or F. The other 37% were spread across the other 6 Decks.\n",
        "\n",
        "\n",
        "The amount of people that were on the port and starboard is basically even.\n",
        "\n",
        "For Deck B, G, and C most of the passengers were transported to another dimension.\n",
        "\n",
        "For Deck F, A, E, D, and T most of the passengers were not transported to another dimension.\n",
        "\n",
        "Most of the people who were on the port were not transported to another dimension.\n",
        "\n",
        "Most of the people who were on the starboard were transported to another dimension."
      ],
      "metadata": {
        "id": "ftMso9GBLuKu"
      },
      "id": "ftMso9GBLuKu"
    },
    {
      "cell_type": "markdown",
      "source": [
        "##Mitchell"
      ],
      "metadata": {
        "id": "5a019b86NoGk"
      },
      "id": "5a019b86NoGk"
    },
    {
      "cell_type": "markdown",
      "source": [
        "## Destination Analysis"
      ],
      "metadata": {
        "id": "5dOQIB2hG-gI"
      },
      "id": "5dOQIB2hG-gI"
    },
    {
      "cell_type": "markdown",
      "source": [
        "Hypothesis 10: 70 percent of the passengers had their destination set on Trappist-le."
      ],
      "metadata": {
        "id": "IjBC5y5PG-Jv"
      },
      "id": "IjBC5y5PG-Jv"
    },
    {
      "cell_type": "code",
      "source": [
        "fig=plt.figure(figsize=(8,10))\n",
        "sns.countplot(data=df, x='Destination', hue='Destination', saturation=0.5, edgecolor=sns.color_palette(\"dark\"))\n",
        "plt.ylabel(\"count (people\")\n",
        "plt.show()\n",
        "df['Destination'].value_counts()"
      ],
      "metadata": {
        "id": "8iDvJPMIHIb-",
        "colab": {
          "base_uri": "https://localhost:8080/",
          "height": 941
        },
        "outputId": "b356366a-31f9-4a4c-f1b7-0456ae59f342"
      },
      "id": "8iDvJPMIHIb-",
      "execution_count": null,
      "outputs": [
        {
          "output_type": "display_data",
          "data": {
            "text/plain": [
              "<Figure size 800x1000 with 1 Axes>"
            ],
            "image/png": "[encoded data removed]"
          },
          "metadata": {}
        },
        {
          "output_type": "execute_result",
          "data": {
            "text/plain": [
              "TRAPPIST-1e           16100\n",
              "55 Cancri e            4798\n",
              "PSO J318.5-22          2156\n",
              "NoDestinationFound      274\n",
              "Name: Destination, dtype: int64"
            ]
          },
          "metadata": {},
          "execution_count": 145
        }
      ]
    },
    {
      "cell_type": "markdown",
      "source": [
        "Hypothesis 11: 56% of people who had their destination as Trappist-1e were not transported to another dimension."
      ],
      "metadata": {
        "id": "urSeeQNoH8p2"
      },
      "id": "urSeeQNoH8p2"
    },
    {
      "cell_type": "code",
      "source": [
        "fig=plt.figure(figsize=(8,10))\n",
        "sns.countplot(data=df, x='Destination', hue='Transported', saturation=0.5, edgecolor=sns.color_palette(\"dark\"))\n",
        "plt.show()\n",
        "df['Destination'].value_counts()\n",
        "\n",
        "#edit legend and axis to be more readable"
      ],
      "metadata": {
        "id": "-sGrXgvhHJWe",
        "colab": {
          "base_uri": "https://localhost:8080/",
          "height": 941
        },
        "outputId": "d3b09192-8e8d-4c26-b304-a85c5c2717fb"
      },
      "id": "-sGrXgvhHJWe",
      "execution_count": null,
      "outputs": [
        {
          "output_type": "display_data",
          "data": {
            "text/plain": [
              "<Figure size 800x1000 with 1 Axes>"
            ],
            "image/png": "[encoded data removed]"
          },
          "metadata": {}
        },
        {
          "output_type": "execute_result",
          "data": {
            "text/plain": [
              "TRAPPIST-1e           16100\n",
              "55 Cancri e            4798\n",
              "PSO J318.5-22          2156\n",
              "NoDestinationFound      274\n",
              "Name: Destination, dtype: int64"
            ]
          },
          "metadata": {},
          "execution_count": 146
        }
      ]
    },
    {
      "cell_type": "markdown",
      "source": [
        "People who had their destination set as Trappist-1e were less likely to be transported to another dimension.\n",
        "\n",
        "People who had their destination set as PSO or Cancri were more likely to be transported by the anomaly. "
      ],
      "metadata": {
        "id": "Q_DCYKjgJsI9"
      },
      "id": "Q_DCYKjgJsI9"
    },
    {
      "cell_type": "markdown",
      "source": [
        "##Bradley"
      ],
      "metadata": {
        "id": "egqdH6x7Nsyk"
      },
      "id": "egqdH6x7Nsyk"
    },
    {
      "cell_type": "markdown",
      "source": [
        "## Age Analysis "
      ],
      "metadata": {
        "id": "BonVS8_iHKNP"
      },
      "id": "BonVS8_iHKNP"
    },
    {
      "cell_type": "markdown",
      "source": [
        "Hypothesis 12: 19 year olds were more likely to not be transported to another dimension."
      ],
      "metadata": {
        "id": "9wtzKD7gJUG-"
      },
      "id": "9wtzKD7gJUG-"
    },
    {
      "cell_type": "code",
      "source": [
        "plt.figure(figsize=(14,8))\n",
        "sns.histplot(x= df[\"Age\"],hue=\"Transported\", multiple = \"dodge\", data = df, shrink=.8, bins = 39)\n",
        "plt.title(\"Age vs Transported\")\n",
        "plt.show()\n",
        "\n",
        "\n",
        "#reconfigure to have <18 and >18\n",
        "#create four lists that parse DF and filters by age\n",
        "  #live and die for both groups \n"
      ],
      "metadata": {
        "id": "YUGLJTGLHN7H",
        "colab": {
          "base_uri": "https://localhost:8080/",
          "height": 718
        },
        "outputId": "4a68fb8a-74d5-48ab-ea3a-c4f1b4b2678a"
      },
      "id": "YUGLJTGLHN7H",
      "execution_count": null,
      "outputs": [
        {
          "output_type": "display_data",
          "data": {
            "text/plain": [
              "<Figure size 1400x800 with 1 Axes>"
            ],
            "image/png": "[encoded data removed]"
          },
          "metadata": {}
        }
      ]
    },
    {
      "cell_type": "markdown",
      "source": [
        "For Age, those who are less than 15 years old have a higher chance of being transported to another dimension."
      ],
      "metadata": {
        "id": "YFV7SqRRFu2p"
      },
      "id": "YFV7SqRRFu2p"
    },
    {
      "cell_type": "markdown",
      "source": [
        "##Hiram"
      ],
      "metadata": {
        "id": "adK7jGHCOAgr"
      },
      "id": "adK7jGHCOAgr"
    },
    {
      "cell_type": "markdown",
      "source": [
        "##VIP Analysis"
      ],
      "metadata": {
        "id": "m9LpiiNPHPDm"
      },
      "id": "m9LpiiNPHPDm"
    },
    {
      "cell_type": "markdown",
      "source": [
        "Hypothesis 13a: 97.7 percent of people did not pay for the VIP service on this voyage."
      ],
      "metadata": {
        "id": "pfYfiBzmKb1v"
      },
      "id": "pfYfiBzmKb1v"
    },
    {
      "cell_type": "code",
      "source": [
        "plt.figure(figsize=(8,10))\n",
        "df['VIP'].value_counts(normalize = True).plot.pie(title = 'VIP', autopct='%1.1f%%')\n",
        "df['VIP'].value_counts()\n",
        "\n",
        "#ylabel needs to change."
      ],
      "metadata": {
        "id": "32zl0J1gHT8W",
        "colab": {
          "base_uri": "https://localhost:8080/",
          "height": 734
        },
        "outputId": "cf161800-955a-4d5b-bfa2-83db01c6e6f0"
      },
      "id": "32zl0J1gHT8W",
      "execution_count": null,
      "outputs": [
        {
          "output_type": "execute_result",
          "data": {
            "text/plain": [
              "0    45662\n",
              "1      994\n",
              "Name: VIP, dtype: int64"
            ]
          },
          "metadata": {},
          "execution_count": 148
        },
        {
          "output_type": "display_data",
          "data": {
            "text/plain": [
              "<Figure size 800x1000 with 1 Axes>"
            ],
            "image/png": "[encoded data removed]"
          },
          "metadata": {}
        }
      ]
    },
    {
      "cell_type": "markdown",
      "source": [
        "Hypothesis 13b: Did VIP status influence survival rate?"
      ],
      "metadata": {
        "id": "H5tCvmsay-K4"
      },
      "id": "H5tCvmsay-K4"
    },
    {
      "cell_type": "code",
      "source": [
        "fig=plt.figure(figsize=(8,10))\n",
        "sns.countplot(data=df, x='VIP', hue='Transported', saturation=0.5, edgecolor=sns.color_palette(\"dark\"))\n",
        "plt.show()\n",
        "df['VIP'].value_counts()\n",
        "\n",
        "#adjust legend"
      ],
      "metadata": {
        "id": "WcYWW_3mRK1S",
        "colab": {
          "base_uri": "https://localhost:8080/",
          "height": 905
        },
        "outputId": "2feb03b4-dae8-4c71-97cc-96505627c8c0"
      },
      "id": "WcYWW_3mRK1S",
      "execution_count": null,
      "outputs": [
        {
          "output_type": "display_data",
          "data": {
            "text/plain": [
              "<Figure size 800x1000 with 1 Axes>"
            ],
            "image/png": "[encoded data removed]"
          },
          "metadata": {}
        },
        {
          "output_type": "execute_result",
          "data": {
            "text/plain": [
              "0    45662\n",
              "1      994\n",
              "Name: VIP, dtype: int64"
            ]
          },
          "metadata": {},
          "execution_count": 149
        }
      ]
    },
    {
      "cell_type": "markdown",
      "source": [
        "If you did not pay for VIP services, then you were less likely to survive.\n",
        "\n",
        "If you paid for VIP services then you were more likely to survive.\n",
        "\n",
        "Only 199 people decided to pay, given that most people decided to not pay for VIP by a vast margin, we don't believe it played a significant role in whether passengers were sent to another dimension. "
      ],
      "metadata": {
        "id": "KNYurLnfRXZb"
      },
      "id": "KNYurLnfRXZb"
    },
    {
      "cell_type": "markdown",
      "source": [
        "##Bradley"
      ],
      "metadata": {
        "id": "bpIyEggWNxtc"
      },
      "id": "bpIyEggWNxtc"
    },
    {
      "cell_type": "markdown",
      "source": [
        "## RoomService FoodCourt\tShoppingMall\tSpa\tVRDeck Analysis"
      ],
      "metadata": {
        "id": "nvm-9dERHUuW"
      },
      "id": "nvm-9dERHUuW"
    },
    {
      "cell_type": "markdown",
      "source": [
        "Hypothesis 14: People who decided to spend at least $2500 at the FoodCourt and ShoppingMall were more likely to be transported to another dimension."
      ],
      "metadata": {
        "id": "Fy7LpmHoKwAk"
      },
      "id": "Fy7LpmHoKwAk"
    },
    {
      "cell_type": "code",
      "source": [
        "plt.figure(figsize=(20,20))\n",
        "plt.title(\"Spaceship Titanic's luxury amenities\")\n",
        "\n",
        "amenities1 = ['FoodCourt', 'ShoppingMall']\n",
        "addingint = 0\n",
        "\n",
        "for i in amenities1:\n",
        "    addingint = addingint+1\n",
        "    plt.subplot(3, 2, addingint)\n",
        "    sns.histplot(data = df, x = df[i], hue = 'Transported', multiple = \"dodge\", bins = 12)\n",
        "    plt.title(i + ' distribution')\n",
        "    plt.xlim(2469,17000)\n",
        "    plt.ylim(0,200) \n",
        "\n",
        "    #adjust legend. consider ways to make this more readable"
      ],
      "metadata": {
        "id": "fpQpEXPqHrB3",
        "colab": {
          "base_uri": "https://localhost:8080/",
          "height": 505
        },
        "outputId": "972ba90d-ed54-4e63-f3da-32d981833dfd"
      },
      "id": "fpQpEXPqHrB3",
      "execution_count": null,
      "outputs": [
        {
          "output_type": "display_data",
          "data": {
            "text/plain": [
              "<Figure size 2000x2000 with 2 Axes>"
            ],
            "image/png": "[encoded data removed]"
          },
          "metadata": {}
        }
      ]
    },
    {
      "cell_type": "markdown",
      "source": [
        "Hypothesis 15: People who decided to spend at least $2500 at the RoomService, VRDeck, & Spa were less likely to be transported to another dimension."
      ],
      "metadata": {
        "id": "qDVI7mXE7zWU"
      },
      "id": "qDVI7mXE7zWU"
    },
    {
      "cell_type": "code",
      "source": [
        "plt.figure(figsize=(20,20))\n",
        "plt.title(\"Spaceship Titanic's luxury amenities\")\n",
        "\n",
        "amenities2 = ['RoomService', 'Spa', 'VRDeck']\n",
        "addingint = 0\n",
        "\n",
        "for i in amenities2:\n",
        "    addingint = addingint+1\n",
        "    plt.subplot(3, 3, addingint)\n",
        "    sns.histplot(data = df, x = df[i], hue = 'Transported', multiple = \"dodge\", bins = 12)\n",
        "    plt.title(i + ' distribution')\n",
        "    plt.xlim(2370,17000)\n",
        "    plt.ylim(0,175) \n",
        "\n",
        "    #adjust legends"
      ],
      "metadata": {
        "id": "904I-l4B74Ob",
        "colab": {
          "base_uri": "https://localhost:8080/",
          "height": 505
        },
        "outputId": "3ca54153-6cbd-4bfa-ce32-8059024e1e7d"
      },
      "id": "904I-l4B74Ob",
      "execution_count": null,
      "outputs": [
        {
          "output_type": "display_data",
          "data": {
            "text/plain": [
              "<Figure size 2000x2000 with 3 Axes>"
            ],
            "image/png": "[encoded data removed]"
          },
          "metadata": {}
        }
      ]
    },
    {
      "cell_type": "code",
      "source": [
        "plt.figure(figsize=(20,20))\n",
        "plt.title(\"Spaceship Titanic's luxury amenities\")\n",
        "\n",
        "amenities = ['RoomService', 'FoodCourt', 'ShoppingMall', 'Spa', 'VRDeck']\n",
        "addingint = 0\n",
        "\n",
        "for i in amenities:\n",
        "    addingint = addingint+1\n",
        "    plt.subplot(3, 3, addingint)\n",
        "    sns.histplot(data = df, x = df[i], hue = 'Transported', multiple = \"dodge\", bins = 12)\n",
        "    plt.title(i + ' distribution')\n",
        "    plt.xlim(2469,17000)\n",
        "    plt.ylim(0,200) \n",
        "\n",
        "\n",
        "    #adjust legend"
      ],
      "metadata": {
        "id": "gLDdp0tP79TT",
        "colab": {
          "base_uri": "https://localhost:8080/",
          "height": 999
        },
        "outputId": "c3361f2d-afe2-44b3-833e-a483aca70259"
      },
      "id": "gLDdp0tP79TT",
      "execution_count": null,
      "outputs": [
        {
          "output_type": "display_data",
          "data": {
            "text/plain": [
              "<Figure size 2000x2000 with 5 Axes>"
            ],
            "image/png": "[encoded data removed]"
          },
          "metadata": {}
        }
      ]
    },
    {
      "cell_type": "markdown",
      "source": [
        "For amenities spending, if you are spending more than $2000 on RoomService, Spa, or VRDeck, then you are less likely to be sent to another dimension. \n",
        "\n",
        "If you are spending more than $2000 on FoodCourt, or ShoppingMall, then you are more likely to be sent to another dimension.\n",
        "\n",
        "Hypothesis 16: Those who didn't spend anything at any of the amenities (spending = $0), have a higher chance to be transported by the anomaly."
      ],
      "metadata": {
        "id": "SF6IQvlyHrN4"
      },
      "id": "SF6IQvlyHrN4"
    },
    {
      "cell_type": "markdown",
      "source": [
        "##Hiram"
      ],
      "metadata": {
        "id": "1B4NMZNkN2TU"
      },
      "id": "1B4NMZNkN2TU"
    },
    {
      "cell_type": "markdown",
      "source": [
        "## Transported Analysis"
      ],
      "metadata": {
        "id": "_UeNkst3Hr1e"
      },
      "id": "_UeNkst3Hr1e"
    },
    {
      "cell_type": "markdown",
      "source": [
        "Hypothesis 17: .503% of the passengers were transported by the anomaly."
      ],
      "metadata": {
        "id": "V4_yk25rLiJV"
      },
      "id": "V4_yk25rLiJV"
    },
    {
      "cell_type": "code",
      "source": [
        "fig=plt.figure(figsize=(8,10))\n",
        "sns.countplot(data=df, x='Transported', hue='Transported', saturation=0.5, edgecolor=sns.color_palette(\"dark\"))\n",
        "plt.show()\n",
        "df['Transported'].value_counts()\n",
        "\n",
        "#adjust legend"
      ],
      "metadata": {
        "id": "7dsP89JzHt22",
        "colab": {
          "base_uri": "https://localhost:8080/",
          "height": 905
        },
        "outputId": "9748e06a-4946-470e-fb6a-3bfc45c36df3"
      },
      "id": "7dsP89JzHt22",
      "execution_count": null,
      "outputs": [
        {
          "output_type": "display_data",
          "data": {
            "text/plain": [
              "<Figure size 800x1000 with 1 Axes>"
            ],
            "image/png": "[encoded data removed]"
          },
          "metadata": {}
        },
        {
          "output_type": "execute_result",
          "data": {
            "text/plain": [
              "1.0    15734\n",
              "0.0    15512\n",
              "Name: Transported, dtype: int64"
            ]
          },
          "metadata": {},
          "execution_count": 155
        }
      ]
    },
    {
      "cell_type": "code",
      "source": [
        "X = np.array(train_df_nulldropped_ohe.drop(columns=['Transported']))\n",
        "y = np.array(train_df_nulldropped_ohe[['Transported']])\n",
        "\n",
        "X_train = X\n",
        "y_train = y"
      ],
      "metadata": {
        "id": "FgCI6vU0pkUt"
      },
      "id": "FgCI6vU0pkUt",
      "execution_count": null,
      "outputs": []
    },
    {
      "cell_type": "code",
      "source": [
        "# def estimate_coef(x, y):\n",
        "#     # number of observations/points\n",
        "#     n = np.size(x)\n",
        "  \n",
        "#     # mean of x and y vector\n",
        "#     m_x = np.mean(x)\n",
        "#     m_y = np.mean(y)\n",
        "  \n",
        "#     # calculating cross-deviation and deviation about x\n",
        "#     SS_xy = np.sum(y*x) - n*m_y*m_x\n",
        "#     SS_xx = np.sum(x*x) - n*m_x*m_x\n",
        "  \n",
        "#     # calculating regression coefficients\n",
        "#     b_1 = SS_xy / SS_xx\n",
        "#     b_0 = m_y - b_1*m_x\n",
        "  \n",
        "#     return (b_0, b_1)\n",
        "  \n",
        "# def plot_regression_line(x, y, b):\n",
        "#     # plotting the actual points as scatter plot\n",
        "#     plt.scatter(x, y, color = \"m\",\n",
        "#                marker = \"o\", s = 30)\n",
        "  \n",
        "#     # predicted response vector\n",
        "#     y_pred = b[0] + b[1]*x\n",
        "  \n",
        "#     # plotting the regression line\n",
        "#     plt.plot(x, y_pred, color = \"g\")\n",
        "  \n",
        "#     # putting labels\n",
        "#     plt.xlabel('x')\n",
        "#     plt.ylabel('y')\n",
        "  \n",
        "#     # function to show plot\n",
        "#     plt.show()\n",
        "\n",
        "# b = estimate_coef(X_train, y_train)\n",
        "# print(\"Estimated coefficients:\\nb_0 = {}  \\ \\nb_1 = {}\".format(b[0], b[1]))\n",
        "  \n",
        "# #plotting regression line\n",
        "# plot_regression_line(X_train, y_train, b)\n",
        "\n",
        "\n",
        "\n",
        "reg = LinearRegression().fit(X_train, y_train)\n",
        "y_pred = reg.predict(test_df_nulldropped_ohe)\n",
        "y_pred"
      ],
      "metadata": {
        "colab": {
          "base_uri": "https://localhost:8080/"
        },
        "id": "IVoUrs4ll4Y4",
        "outputId": "3e1f28f9-7a81-4986-aa0d-933e6690fe92"
      },
      "id": "IVoUrs4ll4Y4",
      "execution_count": null,
      "outputs": [
        {
          "output_type": "execute_result",
          "data": {
            "text/plain": [
              "array([[0.70486203],\n",
              "       [0.14497796],\n",
              "       [1.06946058],\n",
              "       ...,\n",
              "       [0.432498  ],\n",
              "       [0.74207655],\n",
              "       [0.72376974]])"
            ]
          },
          "metadata": {},
          "execution_count": 177
        }
      ]
    },
    {
      "cell_type": "code",
      "source": [
        "# The coefficients\n",
        "print(\"Coefficients: \\n\", reg.coef_)\n",
        "# The mean squared error"
      ],
      "metadata": {
        "colab": {
          "base_uri": "https://localhost:8080/",
          "height": 539
        },
        "id": "205D82BAtSSg",
        "outputId": "ef3bde55-ea4d-491e-bfb1-a7f5c7516f5f"
      },
      "id": "205D82BAtSSg",
      "execution_count": null,
      "outputs": [
        {
          "output_type": "stream",
          "name": "stdout",
          "text": [
            "Coefficients: \n",
            " [[-2.34390805e-03 -5.56758010e-02 -1.21188342e-04  4.29614601e-05\n",
            "   7.80169776e-05 -8.75806534e-05 -8.41236060e-05  1.84665996e-06\n",
            "   6.61495471e-03  2.00400402e-05 -1.10861779e-01  1.17726682e-01\n",
            "  -6.86490352e-03 -1.86883735e-01  1.86883735e-01  3.94876081e-02\n",
            "  -1.50723443e-02 -2.44152638e-02 -8.90598632e-02  2.35264327e-02\n",
            "   4.77504221e-02 -3.04921650e-02 -8.26300329e-02  8.17492425e-03\n",
            "  -3.37814686e-02  1.56511751e-01 -4.61978133e-02  4.61978133e-02]]\n"
          ]
        },
        {
          "output_type": "error",
          "ename": "ValueError",
          "evalue": "ignored",
          "traceback": [
            "\u001b[0;31m---------------------------------------------------------------------------\u001b[0m",
            "\u001b[0;31mValueError\u001b[0m                                Traceback (most recent call last)",
            "\u001b[0;32m<ipython-input-179-f9fb3dce2b10>\u001b[0m in \u001b[0;36m<cell line: 4>\u001b[0;34m()\u001b[0m\n\u001b[1;32m      2\u001b[0m \u001b[0mprint\u001b[0m\u001b[0;34m(\u001b[0m\u001b[0;34m\"Coefficients: \\n\"\u001b[0m\u001b[0;34m,\u001b[0m \u001b[0mreg\u001b[0m\u001b[0;34m.\u001b[0m\u001b[0mcoef_\u001b[0m\u001b[0;34m)\u001b[0m\u001b[0;34m\u001b[0m\u001b[0;34m\u001b[0m\u001b[0m\n\u001b[1;32m      3\u001b[0m \u001b[0;31m# The mean squared error\u001b[0m\u001b[0;34m\u001b[0m\u001b[0;34m\u001b[0m\u001b[0m\n\u001b[0;32m----> 4\u001b[0;31m \u001b[0mprint\u001b[0m\u001b[0;34m(\u001b[0m\u001b[0;34m\"Coefficient of determination: %.2f\"\u001b[0m \u001b[0;34m%\u001b[0m \u001b[0mr2_score\u001b[0m\u001b[0;34m(\u001b[0m\u001b[0mtrain_df\u001b[0m\u001b[0;34m[\u001b[0m\u001b[0;34m'Transported'\u001b[0m\u001b[0;34m]\u001b[0m\u001b[0;34m,\u001b[0m \u001b[0my_pred\u001b[0m\u001b[0;34m)\u001b[0m\u001b[0;34m)\u001b[0m\u001b[0;34m\u001b[0m\u001b[0;34m\u001b[0m\u001b[0m\n\u001b[0m\u001b[1;32m      5\u001b[0m \u001b[0;34m\u001b[0m\u001b[0m\n\u001b[1;32m      6\u001b[0m \u001b[0;31m# Plot outputs\u001b[0m\u001b[0;34m\u001b[0m\u001b[0;34m\u001b[0m\u001b[0m\n",
            "\u001b[0;32m/usr/local/lib/python3.9/dist-packages/sklearn/metrics/_regression.py\u001b[0m in \u001b[0;36mr2_score\u001b[0;34m(y_true, y_pred, sample_weight, multioutput, force_finite)\u001b[0m\n\u001b[1;32m    909\u001b[0m     \u001b[0;34m-\u001b[0m\u001b[0minf\u001b[0m\u001b[0;34m\u001b[0m\u001b[0;34m\u001b[0m\u001b[0m\n\u001b[1;32m    910\u001b[0m     \"\"\"\n\u001b[0;32m--> 911\u001b[0;31m     y_type, y_true, y_pred, multioutput = _check_reg_targets(\n\u001b[0m\u001b[1;32m    912\u001b[0m         \u001b[0my_true\u001b[0m\u001b[0;34m,\u001b[0m \u001b[0my_pred\u001b[0m\u001b[0;34m,\u001b[0m \u001b[0mmultioutput\u001b[0m\u001b[0;34m\u001b[0m\u001b[0;34m\u001b[0m\u001b[0m\n\u001b[1;32m    913\u001b[0m     )\n",
            "\u001b[0;32m/usr/local/lib/python3.9/dist-packages/sklearn/metrics/_regression.py\u001b[0m in \u001b[0;36m_check_reg_targets\u001b[0;34m(y_true, y_pred, multioutput, dtype)\u001b[0m\n\u001b[1;32m     98\u001b[0m         \u001b[0mcorrect\u001b[0m \u001b[0mkeyword\u001b[0m\u001b[0;34m.\u001b[0m\u001b[0;34m\u001b[0m\u001b[0;34m\u001b[0m\u001b[0m\n\u001b[1;32m     99\u001b[0m     \"\"\"\n\u001b[0;32m--> 100\u001b[0;31m     \u001b[0mcheck_consistent_length\u001b[0m\u001b[0;34m(\u001b[0m\u001b[0my_true\u001b[0m\u001b[0;34m,\u001b[0m \u001b[0my_pred\u001b[0m\u001b[0;34m)\u001b[0m\u001b[0;34m\u001b[0m\u001b[0;34m\u001b[0m\u001b[0m\n\u001b[0m\u001b[1;32m    101\u001b[0m     \u001b[0my_true\u001b[0m \u001b[0;34m=\u001b[0m \u001b[0mcheck_array\u001b[0m\u001b[0;34m(\u001b[0m\u001b[0my_true\u001b[0m\u001b[0;34m,\u001b[0m \u001b[0mensure_2d\u001b[0m\u001b[0;34m=\u001b[0m\u001b[0;32mFalse\u001b[0m\u001b[0;34m,\u001b[0m \u001b[0mdtype\u001b[0m\u001b[0;34m=\u001b[0m\u001b[0mdtype\u001b[0m\u001b[0;34m)\u001b[0m\u001b[0;34m\u001b[0m\u001b[0;34m\u001b[0m\u001b[0m\n\u001b[1;32m    102\u001b[0m     \u001b[0my_pred\u001b[0m \u001b[0;34m=\u001b[0m \u001b[0mcheck_array\u001b[0m\u001b[0;34m(\u001b[0m\u001b[0my_pred\u001b[0m\u001b[0;34m,\u001b[0m \u001b[0mensure_2d\u001b[0m\u001b[0;34m=\u001b[0m\u001b[0;32mFalse\u001b[0m\u001b[0;34m,\u001b[0m \u001b[0mdtype\u001b[0m\u001b[0;34m=\u001b[0m\u001b[0mdtype\u001b[0m\u001b[0;34m)\u001b[0m\u001b[0;34m\u001b[0m\u001b[0;34m\u001b[0m\u001b[0m\n",
            "\u001b[0;32m/usr/local/lib/python3.9/dist-packages/sklearn/utils/validation.py\u001b[0m in \u001b[0;36mcheck_consistent_length\u001b[0;34m(*arrays)\u001b[0m\n\u001b[1;32m    395\u001b[0m     \u001b[0muniques\u001b[0m \u001b[0;34m=\u001b[0m \u001b[0mnp\u001b[0m\u001b[0;34m.\u001b[0m\u001b[0munique\u001b[0m\u001b[0;34m(\u001b[0m\u001b[0mlengths\u001b[0m\u001b[0;34m)\u001b[0m\u001b[0;34m\u001b[0m\u001b[0;34m\u001b[0m\u001b[0m\n\u001b[1;32m    396\u001b[0m     \u001b[0;32mif\u001b[0m \u001b[0mlen\u001b[0m\u001b[0;34m(\u001b[0m\u001b[0muniques\u001b[0m\u001b[0;34m)\u001b[0m \u001b[0;34m>\u001b[0m \u001b[0;36m1\u001b[0m\u001b[0;34m:\u001b[0m\u001b[0;34m\u001b[0m\u001b[0;34m\u001b[0m\u001b[0m\n\u001b[0;32m--> 397\u001b[0;31m         raise ValueError(\n\u001b[0m\u001b[1;32m    398\u001b[0m             \u001b[0;34m\"Found input variables with inconsistent numbers of samples: %r\"\u001b[0m\u001b[0;34m\u001b[0m\u001b[0;34m\u001b[0m\u001b[0m\n\u001b[1;32m    399\u001b[0m             \u001b[0;34m%\u001b[0m \u001b[0;34m[\u001b[0m\u001b[0mint\u001b[0m\u001b[0;34m(\u001b[0m\u001b[0ml\u001b[0m\u001b[0;34m)\u001b[0m \u001b[0;32mfor\u001b[0m \u001b[0ml\u001b[0m \u001b[0;32min\u001b[0m \u001b[0mlengths\u001b[0m\u001b[0;34m]\u001b[0m\u001b[0;34m\u001b[0m\u001b[0;34m\u001b[0m\u001b[0m\n",
            "\u001b[0;31mValueError\u001b[0m: Found input variables with inconsistent numbers of samples: [8693, 3428]"
          ]
        }
      ]
    },
    {
      "cell_type": "code",
      "source": [
        "kernal \n",
        "svm \n",
        "not linear svm\n",
        "ANN  - good \n",
        "light xboost\n",
        "KNN \n",
        "\n",
        "\n",
        "#SVM needs a all numbers data frame. One Hot Encoding  = X = features DF\n",
        "# Y = Target df\n",
        "\n",
        "\n",
        "sc = StandardScaler()\n",
        "X_train = sc.fit_transform(X_train)\n",
        "X_test = sc.transform(X_test)\n",
        "\n",
        "\n",
        "X_normalized = MinMaxScaler().fit_transform(X.values)\n",
        "X = pd.DataFrame(X_normalized)"
      ],
      "metadata": {
        "id": "w9b4u68Mi_33"
      },
      "id": "w9b4u68Mi_33",
      "execution_count": null,
      "outputs": []
    },
    {
      "cell_type": "markdown",
      "source": [
        "The amount of people that were transported by the anomaly versus the amount of people that were not, was very close. The goal of the Spaceship Titanic Challenge is to determine the contributing factors to whether someone was transported to another dimension. 10 out of the 13 factors played a part. The passenger ID, whether they paid for VIP, and the names of the passengers did not play a part in this crisis. We hope that this analysis will be sufficient enough for the next set of passengers that take a voyage on the Spaceship Titanic."
      ],
      "metadata": {
        "id": "gogOuzbRMG1z"
      },
      "id": "gogOuzbRMG1z"
    }
  ],
  "metadata": {
    "kernelspec": {
      "display_name": "Python 3",
      "language": "python",
      "name": "python3"
    },
    "language_info": {
      "codemirror_mode": {
        "name": "ipython",
        "version": 3
      },
      "file_extension": ".py",
      "mimetype": "text/x-python",
      "name": "python",
      "nbconvert_exporter": "python",
      "pygments_lexer": "ipython3",
      "version": "3.7.12"
    },
    "papermill": {
      "default_parameters": {},
      "duration": 14.597126,
      "end_time": "2023-02-23T17:16:31.133685",
      "environment_variables": {},
      "exception": null,
      "input_path": "__notebook__.ipynb",
      "output_path": "__notebook__.ipynb",
      "parameters": {},
      "start_time": "2023-02-23T17:16:16.536559",
      "version": "2.3.4"
    },
    "colab": {
      "provenance": [],
      "include_colab_link": true
    }
  },
  "nbformat": 4,
  "nbformat_minor": 5
}